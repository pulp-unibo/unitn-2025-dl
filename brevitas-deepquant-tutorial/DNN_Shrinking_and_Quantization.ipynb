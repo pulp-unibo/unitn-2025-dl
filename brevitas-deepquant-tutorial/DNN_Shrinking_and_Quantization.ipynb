{
  "cells": [
    {
      "cell_type": "markdown",
      "metadata": {
        "id": "mDxvjs35_SWd"
      },
      "source": [
        "# **DNN shrinking & quantization**\n",
        "\n",
        "**Credits**: *Francesco Conti, Davide Nadalini, Lorenzo Lamberti, Luca Bompani, Alberto Dequino*.\n",
        "*(University of Bologna)*\n",
        "\n",
        "**Contacts**: f.conti@unibo.it"
      ]
    },
    {
      "cell_type": "markdown",
      "metadata": {
        "id": "eSLWHhFQh56H"
      },
      "source": [
        "## **In this Hands-on session:**\n",
        "\n",
        "A first-time user of Pytorch framework will learn how to quantize a CNN and how to visualize its graph"
      ]
    },
    {
      "cell_type": "markdown",
      "metadata": {
        "id": "aO4p3Mx_t6Qf"
      },
      "source": [
        "### Tasks:\n",
        "\n",
        "---\n",
        "\n",
        "1. Load a model’s pretrained weights;\n",
        "2. Reduce network’s size under 5MMAC;\n",
        "3. Re-train the reduced network and verify network’s accuracy;\n",
        "4. Fake-quantize with Brevitas;\n",
        "5. True-quantize with DeepQuant, export ONNX and analyze the float32 and true-quantized models with Netron.\n",
        "\n",
        "---\n",
        "\n",
        "\n",
        "\n"
      ]
    },
    {
      "cell_type": "markdown",
      "metadata": {
        "id": "MOsVZLnUzMqU"
      },
      "source": [
        "## **Let's start !**"
      ]
    },
    {
      "cell_type": "markdown",
      "metadata": {
        "id": "077hTkLtzUar"
      },
      "source": [
        "## Imports:\n",
        "Now we import some packages  we will need:"
      ]
    },
    {
      "cell_type": "code",
      "execution_count": 1,
      "metadata": {
        "colab": {
          "base_uri": "https://localhost:8080/"
        },
        "id": "HLlnWjXhg17X",
        "outputId": "66c904b9-ddab-4b95-cb3e-8264e0af8a55"
      },
      "outputs": [
        {
          "name": "stdout",
          "output_type": "stream",
          "text": [
            "\n",
            "PyTorch version in use: 2.4.0 \n",
            "cuda avail:  False\n"
          ]
        },
        {
          "name": "stderr",
          "output_type": "stream",
          "text": [
            "/tmp/ipykernel_15894/1887837515.py:24: TqdmWarning: IProgress not found. Please update jupyter and ipywidgets. See https://ipywidgets.readthedocs.io/en/stable/user_install.html\n",
            "  from tqdm.autonotebook import tqdm\n",
            "/usr/local/lib/python3.10/dist-packages/brevitas/graph/equalize.py:61: UserWarning: fast_hadamard_transform package not found, using standard pytorch kernels\n",
            "  warnings.warn(\"fast_hadamard_transform package not found, using standard pytorch kernels\")\n"
          ]
        }
      ],
      "source": [
        "#basic\n",
        "import os\n",
        "from os.path import join\n",
        "import numpy as np\n",
        "from tqdm import tqdm\n",
        "import time\n",
        "\n",
        "#plotting\n",
        "import matplotlib.pyplot as plt\n",
        "\n",
        "#torch\n",
        "import torch; print('\\nPyTorch version in use:', torch.__version__, '\\ncuda avail: ', torch.cuda.is_available())\n",
        "import torch.nn as nn\n",
        "import torch.nn.functional as F\n",
        "import torch.optim as optim\n",
        "from torch.utils.data import DataLoader\n",
        "\n",
        "#torchvision\n",
        "import torchvision\n",
        "from torchvision import transforms, datasets\n",
        "\n",
        "# others\n",
        "from copy import deepcopy\n",
        "from tqdm.autonotebook import tqdm\n",
        "from sklearn.metrics import precision_score, recall_score, f1_score, accuracy_score\n",
        "import inspect\n",
        "from collections import defaultdict\n",
        "\n",
        "# Brevitas\n",
        "from typing import Union, Tuple, List, Dict\n",
        "import brevitas.nn as qnn\n",
        "from brevitas.graph.equalize import activation_equalization_mode\n"
      ]
    },
    {
      "cell_type": "markdown",
      "metadata": {
        "id": "oi8zt0JZ0D7Z"
      },
      "source": [
        "## Set device\n",
        "Between \"cuda\" and \"cpu\""
      ]
    },
    {
      "cell_type": "code",
      "execution_count": 2,
      "metadata": {
        "colab": {
          "base_uri": "https://localhost:8080/"
        },
        "id": "WY59unFq40v7",
        "outputId": "3bcc2754-5aca-45bf-d3df-31ba20009814"
      },
      "outputs": [
        {
          "name": "stdout",
          "output_type": "stream",
          "text": [
            "Device: cpu\n"
          ]
        }
      ],
      "source": [
        "device = torch.device('cuda' if torch.cuda.is_available() else 'cpu')\n",
        "print('Device: %s' % device)"
      ]
    },
    {
      "cell_type": "markdown",
      "metadata": {
        "id": "qGvFiFsS8b9h"
      },
      "source": [
        "# **Recap: how to train a toy network**\n",
        "This section recaps how to define and train a simple toy network in PyTorch."
      ]
    },
    {
      "cell_type": "markdown",
      "metadata": {
        "id": "SmSNU-3lGK9d"
      },
      "source": [
        "## Creating a Model\n",
        "---\n",
        "\n"
      ]
    },
    {
      "cell_type": "markdown",
      "metadata": {
        "id": "euYJstpwV4Ma"
      },
      "source": [
        "Let's define a simple NN topology:"
      ]
    },
    {
      "cell_type": "code",
      "execution_count": 3,
      "metadata": {
        "id": "s11ciz67kuNh"
      },
      "outputs": [],
      "source": [
        "class ConvBnRelu(nn.Module):\n",
        "    def __init__(self, in_channels, out_channels, stride):\n",
        "        super(ConvBnRelu, self).__init__()\n",
        "        self.conv1 = nn.Conv2d(in_channels=in_channels, out_channels=out_channels, kernel_size=3, stride=stride, padding=1, bias=False, padding_mode='zeros')\n",
        "        # self.bn1 = nn.BatchNorm2d(num_features=out_channels, eps=1e-05, momentum=0.1, affine=True, track_running_stats=True)\n",
        "        self.relu1 = nn.ReLU()\n",
        "\n",
        "    def forward(self, x):\n",
        "        x = self.conv1(x)\n",
        "        # x = self.bn1(x)\n",
        "        x = self.relu1(x)\n",
        "        return x\n",
        "\n",
        "class CNN(nn.Module):\n",
        "    def __init__(self, n_classes=10, depth_mult=1.):\n",
        "        super(CNN, self).__init__()\n",
        "        # first_conv_channels=int(32*depth_mult)\n",
        "        self.ConvBnRelu1 = ConvBnRelu(1, 32,  stride=1) # conv3x3: ch_in=1, ch_out=32, in=28x28, out=28x28/2\n",
        "        self.ConvBnRelu2 = ConvBnRelu(32, 64,  stride=1) # conv3x3: ch_in=1, ch_out=32, in=28x28, out=28x28/2\n",
        "        self.pool = nn.MaxPool2d(kernel_size=2, stride=2, padding=0, dilation=1, return_indices=False, ceil_mode=False) # MaxPool2: in=14x14, out=14x14/2\n",
        "        self.ConvBnRelu3 = ConvBnRelu(64, 128, stride=2) # conv3x3: ch_in=32, ch_out=64, in=7x7, out=7x7\n",
        "        self.dropout = nn.Dropout(p=0.5, inplace=False)\n",
        "        fc_in_size = 7*7*128\n",
        "        self.fc = nn.Linear(fc_in_size, n_classes, bias=False)\n",
        "        # self.softmax = nn.LogSoftmax(dim=1) # we remove it because the quantization tool (Quantlab) does not handle it\n",
        "\n",
        "    def forward(self, x):\n",
        "        x = self.ConvBnRelu1(x)\n",
        "        x = self.ConvBnRelu2(x)\n",
        "        x = self.pool(x)\n",
        "        x = self.ConvBnRelu3(x)\n",
        "        x = self.dropout(x)\n",
        "        x = x.flatten(1)\n",
        "        output = self.fc(x)\n",
        "        # output = self.softmax(x)\n",
        "        return output\n",
        "\n",
        "net = CNN().to(device)\n"
      ]
    },
    {
      "cell_type": "markdown",
      "metadata": {
        "id": "Xns9ClrMV7Tv"
      },
      "source": [
        "![NN2 (2).png](data:image/png;base64,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)"
      ]
    },
    {
      "cell_type": "code",
      "execution_count": 4,
      "metadata": {
        "cellView": "form",
        "id": "vQEnePr4XOSF"
      },
      "outputs": [],
      "source": [
        "#@title Dummy input  { form-width: \"70%\" }\n",
        "# input_size = (batch_n, img_ch,img_width, img_height)\n",
        "input_size = (1, 1, 28, 28)  #@param\n",
        "input = torch.randn(input_size).to(device)\n"
      ]
    },
    {
      "cell_type": "markdown",
      "metadata": {
        "id": "IrPQVjWGyrMA"
      },
      "source": [
        "## Count network's parameters and MAC operations\n",
        "\n",
        "---\n",
        "\n",
        "A useful function to measure the model's MAC operations and number of parameters.\n",
        "\n",
        "**TorchInfo insights:**\n",
        "This tool calculates the Parameters Size as (number_of_parameters*4).\n",
        "This because each parameter needs 4 Bytes (32bit) to be represented in float32 format."
      ]
    },
    {
      "cell_type": "code",
      "execution_count": 5,
      "metadata": {
        "colab": {
          "base_uri": "https://localhost:8080/"
        },
        "id": "VJQN8QYuIgVo",
        "outputId": "00244e07-ba27-41ff-ee99-05914f12bab7"
      },
      "outputs": [
        {
          "name": "stdout",
          "output_type": "stream",
          "text": [
            "==========================================================================================\n",
            "Layer (type:depth-idx)                   Output Shape              Param #\n",
            "==========================================================================================\n",
            "CNN                                      [1, 10]                   --\n",
            "├─ConvBnRelu: 1-1                        [1, 32, 28, 28]           --\n",
            "│    └─Conv2d: 2-1                       [1, 32, 28, 28]           288\n",
            "│    └─ReLU: 2-2                         [1, 32, 28, 28]           --\n",
            "├─ConvBnRelu: 1-2                        [1, 64, 28, 28]           --\n",
            "│    └─Conv2d: 2-3                       [1, 64, 28, 28]           18,432\n",
            "│    └─ReLU: 2-4                         [1, 64, 28, 28]           --\n",
            "├─MaxPool2d: 1-3                         [1, 64, 14, 14]           --\n",
            "├─ConvBnRelu: 1-4                        [1, 128, 7, 7]            --\n",
            "│    └─Conv2d: 2-5                       [1, 128, 7, 7]            73,728\n",
            "│    └─ReLU: 2-6                         [1, 128, 7, 7]            --\n",
            "├─Dropout: 1-5                           [1, 128, 7, 7]            --\n",
            "├─Linear: 1-6                            [1, 10]                   62,720\n",
            "==========================================================================================\n",
            "Total params: 155,168\n",
            "Trainable params: 155,168\n",
            "Non-trainable params: 0\n",
            "Total mult-adds (M): 18.35\n",
            "==========================================================================================\n",
            "Input size (MB): 0.00\n",
            "Forward/backward pass size (MB): 0.65\n",
            "Params size (MB): 0.62\n",
            "Estimated Total Size (MB): 1.28\n",
            "==========================================================================================\n",
            "\n",
            "Network's \tn°params: 155.168k \tMAC: 18.352M\n",
            "\n"
          ]
        }
      ],
      "source": [
        "def print_summary(net, input_size, verbose=True):\n",
        "    from torchinfo import summary\n",
        "    net_info = summary(net, input_size=input_size)\n",
        "    params = net_info.total_params\n",
        "    macs = net_info.total_mult_adds\n",
        "    if verbose: print(net_info)\n",
        "    return params, macs\n",
        "\n",
        "# calculate n° parameters and mac operations\n",
        "params, macs = print_summary(deepcopy(net), input_size) #use deepcopy to avoid graph modifications by hese function calls\n",
        "# print them\n",
        "print(\"\\nNetwork's \\tn°params: %.3fk \\tMAC: %.3fM\\n\" % (params/1e3, macs/1e6))\n"
      ]
    },
    {
      "cell_type": "markdown",
      "metadata": {
        "id": "e3sgwFOIwgM3"
      },
      "source": [
        "## Dataset & DataLoaders\n",
        "\n",
        "---\n",
        "\n",
        "We use the [Fashion-MNIST dataset](https://github.com/zalandoresearch/fashion-mnist), which is a set of 28x28 grayscale images of clothes."
      ]
    },
    {
      "cell_type": "code",
      "execution_count": 6,
      "metadata": {
        "colab": {
          "base_uri": "https://localhost:8080/"
        },
        "id": "_Aw_XFl8oCOZ",
        "outputId": "58349e2a-5fd4-4a1e-cf6d-1a702b09a64e"
      },
      "outputs": [
        {
          "name": "stdout",
          "output_type": "stream",
          "text": [
            "Dataset size:\n",
            "Training images 60000,\n",
            "Validation images 10000\n"
          ]
        },
        {
          "name": "stderr",
          "output_type": "stream",
          "text": [
            "/usr/local/lib/python3.10/dist-packages/torchvision/datasets/mnist.py:76: UserWarning: train_data has been renamed data\n",
            "  warnings.warn(\"train_data has been renamed data\")\n"
          ]
        }
      ],
      "source": [
        "def get_data_loaders(train_batch_size=128, val_batch_size=128, path='./data/fashionmnist',verbose=False):\n",
        "    # 1. define data transformations\n",
        "    fashion_mnist = datasets.FashionMNIST(download=True, train=True, root=path).train_data.float()\n",
        "    data_transform = transforms.Compose([transforms.ToTensor(),\n",
        "                                         transforms.Normalize((fashion_mnist.mean()/255,), (fashion_mnist.std()/255,))])\n",
        "\n",
        "    # 2. Load train/valid datasets\n",
        "    train_dataset = datasets.FashionMNIST(download=False, root=path, transform=data_transform, train=True)\n",
        "    valid_dataset = datasets.FashionMNIST(download=False, root=path, transform=data_transform, train=False)\n",
        "\n",
        "    # 3. define dataloaders\n",
        "    train_loader = torch.utils.data.DataLoader(\n",
        "        train_dataset,\n",
        "        batch_size=train_batch_size,\n",
        "        shuffle=True)\n",
        "    valid_loader = torch.utils.data.DataLoader(\n",
        "        valid_dataset,\n",
        "        batch_size=val_batch_size,\n",
        "        shuffle=False)\n",
        "\n",
        "    # Optional: count how many images we have in each set\n",
        "    train_dataset_size = len(train_dataset)\n",
        "    valid_dataset_size = len(valid_dataset)\n",
        "    if verbose: print('Dataset size:\\nTraining images %d,\\nValidation images %d' % (train_dataset_size, valid_dataset_size))\n",
        "\n",
        "    return train_loader, valid_loader\n",
        "\n",
        "train_loader, val_loader = get_data_loaders(verbose=True)\n"
      ]
    },
    {
      "cell_type": "markdown",
      "metadata": {
        "id": "R7ZfZ7Ic4h5t"
      },
      "source": [
        "## Testing the CNN over the dataset\n",
        "\n",
        "---\n",
        "\n"
      ]
    },
    {
      "cell_type": "markdown",
      "metadata": {
        "id": "t0iCOJDS1J8I"
      },
      "source": [
        "### Accuracy Metric calculation"
      ]
    },
    {
      "cell_type": "markdown",
      "metadata": {
        "id": "Km0hniV74L_Q"
      },
      "source": [
        "First we define a function to calculate the accuracy, defined as: `accuracy = num_correct_predictions/total_n_predictions`\n",
        "\n"
      ]
    },
    {
      "cell_type": "code",
      "execution_count": 7,
      "metadata": {
        "id": "x2s9V-q0B3hP"
      },
      "outputs": [],
      "source": [
        "def calculate_accuracy(best_guesses, targets):\n",
        "    num_correct = torch.eq(targets, best_guesses).sum().item()\n",
        "    total_guesses = len(targets)\n",
        "    correct_percentage = num_correct/total_guesses\n",
        "    return correct_percentage"
      ]
    },
    {
      "cell_type": "markdown",
      "metadata": {
        "id": "k8SL9AZ0M2Ak"
      },
      "source": [
        "### Testing Function\n",
        "The following cell defines a function, `validate,` that runs a network on a dataset and shows the percentage of the dataset that was correctly classified."
      ]
    },
    {
      "cell_type": "code",
      "execution_count": 8,
      "metadata": {
        "id": "mLPgZVOg4mjt"
      },
      "outputs": [],
      "source": [
        "from brevitas.export.inference import quant_inference_mode\n",
        "\n",
        "def validate(net, val_loader, loss_function, accuracy_score):\n",
        "    val_losses = []\n",
        "    val_accuracy = []\n",
        "\n",
        "    # set net to evaluating (testing)\n",
        "    net.eval()\n",
        "    with torch.no_grad(), quant_inference_mode(net):\n",
        "        for batch_idx, data in tqdm(enumerate(val_loader), total=len(val_loader)):\n",
        "            inputs, labels = data[0].to(device), data[1].to(device)\n",
        "\n",
        "            # net forward\n",
        "            outputs = net(inputs) # this gets the prediction from the network\n",
        "\n",
        "            # calculate loss\n",
        "            loss = loss_function(outputs, labels)\n",
        "            val_losses.append(loss) # append current average training loss to a buffer variable, for plotting learning curve\n",
        "\n",
        "            # calculate validation accuracy\n",
        "            predicted_classes = torch.max(outputs, 1)[1] # get class from network's prediction\n",
        "            val_accuracy.append(calculate_accuracy(predicted_classes.cpu(), labels.cpu()))\n",
        "\n",
        "    average_val_loss = sum(val_losses)/(batch_idx+1)\n",
        "    average_val_accuracy = sum(val_accuracy)/len(val_loader)\n",
        "    return average_val_accuracy, average_val_loss\n"
      ]
    },
    {
      "cell_type": "markdown",
      "metadata": {
        "id": "RVLu2FVHWQDx"
      },
      "source": [
        "## Training Loop"
      ]
    },
    {
      "cell_type": "code",
      "execution_count": 9,
      "metadata": {
        "id": "0V31QRyMWQDx"
      },
      "outputs": [
        {
          "name": "stderr",
          "output_type": "stream",
          "text": [
            "Training Loss: 0.5591, Accuracy: 0.8034: 100%|██████████| 469/469 [02:25<00:00,  3.22it/s]\n",
            "100%|██████████| 79/79 [00:03<00:00, 21.48it/s]"
          ]
        },
        {
          "name": "stdout",
          "output_type": "stream",
          "text": [
            "Epoch 1/1 Training loss:  0.5591 Accuracy: 0.8034\n",
            "Validation Loss: 0.3866 Accuracy: 0.8628\n",
            "Training time: 149.5 seconds\n"
          ]
        },
        {
          "name": "stderr",
          "output_type": "stream",
          "text": [
            "\n"
          ]
        }
      ],
      "source": [
        "# Move net to gpu:\n",
        "net.to(device)\n",
        "\n",
        "# Define loss function\n",
        "loss_function = nn.CrossEntropyLoss() # cross entropy works well for multi-class problems\n",
        "\n",
        "\n",
        "def training(net, train_loader, val_loader, loss_function, epochs, lr=3e-4):\n",
        "    # Define optimizer\n",
        "    optimizer = torch.optim.Adam(net.parameters(), lr=lr)\n",
        "\n",
        "    # count tot batches\n",
        "    tot_train_batches = len(train_loader)\n",
        "    tot_val_batches = len(val_loader)\n",
        "\n",
        "    # Create lists to store training history\n",
        "    train_loss_history = []\n",
        "    train_accuracy_history = []\n",
        "    # Create lists to store validation history\n",
        "    val_loss_history = []\n",
        "    val_accuracy_history = []\n",
        "\n",
        "    start_ts = time.time()\n",
        "    # loop for every epoch (training + evaluation)\n",
        "    for epoch in range(epochs):\n",
        "        total_epoch_loss = 0\n",
        "        train_accuracy = []\n",
        "\n",
        "        # progress bar (works in Jupyter notebook too!)\n",
        "        progress = tqdm(enumerate(train_loader), desc=\"Loss: \", total=tot_train_batches)\n",
        "\n",
        "        # ----------------- TRAINING  -------------------- #\n",
        "        # set model to training\n",
        "        net.train()\n",
        "\n",
        "        for batch_idx, data in progress:\n",
        "            inputs, labels = data[0].to(device), data[1].to(device)\n",
        "\n",
        "            # Compute prediction (forward input in the model)\n",
        "            outputs = net(inputs)\n",
        "            # Compute prediction error with the loss function\n",
        "            loss = loss_function(outputs, labels)\n",
        "            # Backpropagation\n",
        "            net.zero_grad()\n",
        "            loss.backward()\n",
        "            # Optimizer step\n",
        "            optimizer.step()\n",
        "\n",
        "            # getting training quality data\n",
        "            current_loss = loss.item()\n",
        "\n",
        "            #compute average loss\n",
        "            total_epoch_loss += current_loss\n",
        "            average_train_loss = total_epoch_loss/(batch_idx+1)\n",
        "\n",
        "            # calculate training accuracy\n",
        "            predicted_classes = torch.max(outputs, 1)[1] # get class from network's prediction\n",
        "            train_accuracy.append(calculate_accuracy(predicted_classes.cpu(), labels.cpu()))\n",
        "            average_train_accuracy = sum(train_accuracy)/(batch_idx+1)\n",
        "\n",
        "            # updating progress bar\n",
        "            progress.set_description(\"Training Loss: {:.4f}, Accuracy: {:.4f}\".format(average_train_loss, average_train_accuracy))\n",
        "\n",
        "            ## DEBUG: stop after one single batch\n",
        "            # break\n",
        "\n",
        "        # ----------------- VALIDATION  ----------------- #\n",
        "        average_val_accuracy, average_val_loss = validate(net, val_loader, loss_function, accuracy_score)\n",
        "\n",
        "        # compute mean accuracy\n",
        "        average_train_accuracy = sum(train_accuracy)/tot_train_batches\n",
        "\n",
        "        # print training/validation Accuracy and Loss\n",
        "        print('Epoch %d/%d' % (epoch+1,epochs), 'Training loss:  %.4f' % (average_train_loss), 'Accuracy: %.4f' % (average_train_accuracy))\n",
        "        print('Validation Loss: %.4f' % (average_val_loss), 'Accuracy: %.4f' % (average_val_accuracy))\n",
        "\n",
        "        # append current average training loss to a buffer variable, for plotting learning curve later\n",
        "        train_loss_history.append(average_train_loss)\n",
        "        val_loss_history.append(average_val_loss)\n",
        "        train_accuracy_history.append(average_train_accuracy)\n",
        "        val_accuracy_history.append(average_val_accuracy)\n",
        "\n",
        "    print('Training time: %.1f seconds' % (time.time()-start_ts))\n",
        "\n",
        "\n",
        "    return train_loss_history, train_accuracy_history, val_loss_history, val_accuracy_history\n",
        "\n",
        "# retrain the network\n",
        "epochs = 1\n",
        "_, _, _, _= training(net, train_loader, val_loader, loss_function, epochs)"
      ]
    },
    {
      "cell_type": "markdown",
      "metadata": {
        "id": "4G1DAa9hNRSD"
      },
      "source": [
        "## Save/Load the CNN weights\n"
      ]
    },
    {
      "cell_type": "code",
      "execution_count": 9,
      "metadata": {
        "cellView": "form",
        "id": "d9iPVEngbFCB"
      },
      "outputs": [],
      "source": [
        "#@title Training parameters { form-width: \"70%\" }\n",
        "model_export_path = \"./model/\" #@param {type:\"string\"}\n",
        "model_name = 'ExampleNet.pth' #@param {type:\"string\"}\n",
        "os.makedirs(model_export_path, exist_ok=True)\n"
      ]
    },
    {
      "cell_type": "code",
      "execution_count": 10,
      "metadata": {
        "id": "Lsbcb_WgFx3c"
      },
      "outputs": [],
      "source": [
        "def save_net(net,model_path, model_name):\n",
        "    #Save Pytorch model\n",
        "    torch.save(net.state_dict(), join(model_path,model_name))\n",
        "\n",
        "save_net(net,model_export_path, model_name)"
      ]
    },
    {
      "cell_type": "code",
      "execution_count": 11,
      "metadata": {
        "id": "GUR7LrRkb2vQ"
      },
      "outputs": [],
      "source": [
        "def load_net(net, model_path, model_name, device):\n",
        "    ''' Load a PyTorch Model '''\n",
        "    checkpoint_file= join(model_path,model_name)\n",
        "    # load weights file\n",
        "    state_dict = torch.load(checkpoint_file, map_location=device)\n",
        "    # Load weights into the network\n",
        "    net.load_state_dict(state_dict)\n",
        "    # to device (cpu or gpu)\n",
        "    net = CNN().to(device)\n",
        "    return net"
      ]
    },
    {
      "cell_type": "markdown",
      "metadata": {
        "id": "srEdjBj4F9t1"
      },
      "source": [
        "# **TASK1:** Load Pre-Trained Model\n",
        "\n",
        "---\n",
        "\n"
      ]
    },
    {
      "cell_type": "markdown",
      "metadata": {
        "id": "KsruLEgjOlk1"
      },
      "source": [
        "Let's download pre-trained weights for the network.\n",
        "I already prepared them for you in our [GitHub repo](https://github.com/EEESlab/APAI24-LAB03-DNN-Shrinking-and-Quantization/blob/master/ExampleNet.pth) 🙂\n",
        "(search for `ExampleNet.pth` file)"
      ]
    },
    {
      "cell_type": "code",
      "execution_count": 12,
      "metadata": {
        "colab": {
          "base_uri": "https://localhost:8080/"
        },
        "id": "Se2rAanfKrJm",
        "outputId": "8717dbc2-7da2-485d-fd7a-d1ad06a0dbf6"
      },
      "outputs": [
        {
          "name": "stdout",
          "output_type": "stream",
          "text": [
            "Cloning into 'APAI24-LAB03-DNN-Shrinking-and-Quantization'...\n",
            "remote: Enumerating objects: 27, done.\u001b[K\n",
            "remote: Counting objects: 100% (27/27), done.\u001b[K\n",
            "remote: Compressing objects: 100% (20/20), done.\u001b[K\n",
            "remote: Total 27 (delta 11), reused 21 (delta 7), pack-reused 0 (from 0)\u001b[K\n",
            "Receiving objects: 100% (27/27), 2.18 MiB | 4.83 MiB/s, done.\n",
            "Resolving deltas: 100% (11/11), done.\n"
          ]
        }
      ],
      "source": [
        "!rm -r APAI24-LAB03-DNN-Shrinking-and-Quantization\n",
        "\n",
        "!git clone https://github.com/EEESlab/APAI24-LAB03-DNN-Shrinking-and-Quantization"
      ]
    },
    {
      "cell_type": "code",
      "execution_count": 15,
      "metadata": {
        "cellView": "form",
        "id": "RxGo52dwMy0W"
      },
      "outputs": [],
      "source": [
        "#FIXME\n",
        "\n",
        "#@title define path for cnn's pre-trained weights { form-width: \"70%\" }\n",
        "# pre_trained_path = \"./APAI24-LAB03-DNN-Shrinking-and-Quantization/\" #@param {type:\"string\"}\n",
        "pre_trained_path = \"./model\"\n",
        "model_name = 'ExampleNet.pth' #@param {type:\"string\"}\n"
      ]
    },
    {
      "cell_type": "markdown",
      "metadata": {
        "id": "o76x4pHiQPKv"
      },
      "source": [
        "### Load pre-trained weights"
      ]
    },
    {
      "cell_type": "code",
      "execution_count": 16,
      "metadata": {
        "colab": {
          "base_uri": "https://localhost:8080/"
        },
        "id": "NvpQ8e81QTSP",
        "outputId": "b11352f5-dda7-4326-a414-3af64d051736"
      },
      "outputs": [
        {
          "name": "stderr",
          "output_type": "stream",
          "text": [
            "/tmp/ipykernel_15894/2733931076.py:5: FutureWarning: You are using `torch.load` with `weights_only=False` (the current default value), which uses the default pickle module implicitly. It is possible to construct malicious pickle data which will execute arbitrary code during unpickling (See https://github.com/pytorch/pytorch/blob/main/SECURITY.md#untrusted-models for more details). In a future release, the default value for `weights_only` will be flipped to `True`. This limits the functions that could be executed during unpickling. Arbitrary objects will no longer be allowed to be loaded via this mode unless they are explicitly allowlisted by the user via `torch.serialization.add_safe_globals`. We recommend you start setting `weights_only=True` for any use case where you don't have full control of the loaded file. Please open an issue on GitHub for any issues related to this experimental feature.\n",
            "  state_dict = torch.load(checkpoint_file, map_location=device)\n"
          ]
        },
        {
          "data": {
            "text/plain": [
              "CNN(\n",
              "  (ConvBnRelu1): ConvBnRelu(\n",
              "    (conv1): Conv2d(1, 32, kernel_size=(3, 3), stride=(1, 1), padding=(1, 1), bias=False)\n",
              "    (relu1): ReLU()\n",
              "  )\n",
              "  (ConvBnRelu2): ConvBnRelu(\n",
              "    (conv1): Conv2d(32, 64, kernel_size=(3, 3), stride=(1, 1), padding=(1, 1), bias=False)\n",
              "    (relu1): ReLU()\n",
              "  )\n",
              "  (pool): MaxPool2d(kernel_size=2, stride=2, padding=0, dilation=1, ceil_mode=False)\n",
              "  (ConvBnRelu3): ConvBnRelu(\n",
              "    (conv1): Conv2d(64, 128, kernel_size=(3, 3), stride=(2, 2), padding=(1, 1), bias=False)\n",
              "    (relu1): ReLU()\n",
              "  )\n",
              "  (dropout): Dropout(p=0.5, inplace=False)\n",
              "  (fc): Linear(in_features=6272, out_features=10, bias=False)\n",
              ")"
            ]
          },
          "execution_count": 16,
          "metadata": {},
          "output_type": "execute_result"
        }
      ],
      "source": [
        "load_net(net, pre_trained_path, model_name, 'cpu')"
      ]
    },
    {
      "cell_type": "markdown",
      "metadata": {
        "id": "E4z1XnYragES"
      },
      "source": [
        "Test again the network accuracy, to be sure that you saved/loaded weights correctly.\n",
        "\n"
      ]
    },
    {
      "cell_type": "code",
      "execution_count": 17,
      "metadata": {
        "colab": {
          "base_uri": "https://localhost:8080/"
        },
        "id": "f-KAUyhdXVTa",
        "outputId": "4f9d4550-d37d-434e-9a8c-0376661cea45"
      },
      "outputs": [
        {
          "name": "stderr",
          "output_type": "stream",
          "text": [
            "  0%|          | 0/79 [00:00<?, ?it/s]"
          ]
        },
        {
          "name": "stderr",
          "output_type": "stream",
          "text": [
            "100%|██████████| 79/79 [00:04<00:00, 18.81it/s]"
          ]
        },
        {
          "name": "stdout",
          "output_type": "stream",
          "text": [
            "Validation Loss: 2.3008 Accuracy: 0.1210\n"
          ]
        },
        {
          "name": "stderr",
          "output_type": "stream",
          "text": [
            "\n"
          ]
        }
      ],
      "source": [
        "# Test over validation dataset\n",
        "loss_function=nn.CrossEntropyLoss()\n",
        "average_val_accuracy, average_val_loss = validate(net, val_loader, loss_function, accuracy_score)\n",
        "# Print valid statistics\n",
        "print('Validation Loss: %.4f' % (average_val_loss), 'Accuracy: %.4f' % (average_val_accuracy))"
      ]
    },
    {
      "cell_type": "markdown",
      "metadata": {
        "id": "tTgfwCsjRGmO"
      },
      "source": [
        "**if accuracy ~ 90% : you were successful !!**"
      ]
    },
    {
      "cell_type": "markdown",
      "metadata": {
        "id": "tz_Xa_FP8Zri"
      },
      "source": [
        "# **TASK2:** Reduce Network's MAC operations"
      ]
    },
    {
      "cell_type": "markdown",
      "metadata": {},
      "source": [
        "---\n",
        "**ASSIGNMENT TASK:**\n",
        "\n",
        "Current network has:\n",
        "*   n°params: 155.616k\n",
        "*   MAC: 18.515M\n",
        "\n",
        "**Task:** Reduce it below 5 MMAC, but keeping accuracy similar to the starting one. You have several techniques available:\n",
        "1. change the depth multiplier (number of intermediate channels = 32*depth mult)\n",
        "2. add or remove layers\n",
        "3. play with the stride of convolutional layers\n",
        "\n",
        "---"
      ]
    },
    {
      "cell_type": "markdown",
      "metadata": {
        "id": "XJuVH_8_-Igl"
      },
      "source": [
        "## New network with reduced size"
      ]
    },
    {
      "cell_type": "code",
      "execution_count": 17,
      "metadata": {
        "id": "2oI6KRmz8ZH2"
      },
      "outputs": [],
      "source": [
        "class ConvBnRelu(nn.Module):\n",
        "    def __init__(self, in_channels, out_channels, stride):\n",
        "        super(ConvBnRelu, self).__init__()\n",
        "        self.conv1 = nn.Conv2d(in_channels=in_channels, out_channels=out_channels, kernel_size=3, stride=stride, padding=1, bias=False, padding_mode='zeros')\n",
        "        self.bn1 = nn.BatchNorm2d(num_features=out_channels, eps=1e-05, momentum=0.1, affine=True, track_running_stats=True)\n",
        "        self.relu1 = nn.ReLU()\n",
        "\n",
        "    def forward(self, x):\n",
        "        x = self.conv1(x)\n",
        "        x = self.bn1(x)\n",
        "        x = self.relu1(x)\n",
        "        return x\n",
        "\n",
        "class CNN_reduced(nn.Module):\n",
        "    \n",
        "    def __init__(self, n_classes=10):\n",
        "        super(CNN_reduced, self).__init__()\n",
        "        # first_conv_channels=int(32*depth_mult)\n",
        "        self.ConvBnRelu1 = ConvBnRelu(1, 16,  stride=1) # conv3x3: ch_in=1, ch_out=16, in=28x28, out=28x28/2\n",
        "        self.ConvBnRelu2 = ConvBnRelu(16, 32,  stride=1) # conv3x3: ch_in=1, ch_out=32, in=28x28, out=28x28/2\n",
        "        self.pool = nn.MaxPool2d(kernel_size=2, stride=2, padding=0, dilation=1, return_indices=False, ceil_mode=False) # MaxPool2: in=14x14, out=14x14/2\n",
        "        self.ConvBnRelu3 = ConvBnRelu(32, 64, stride=2) # conv3x3: ch_in=32, ch_out=64, in=7x7, out=7x7\n",
        "        self.dropout = nn.Dropout(p=0.5, inplace=False)\n",
        "        fc_in_size = 7*7*64\n",
        "        self.fc = nn.Linear(fc_in_size, n_classes, bias=False)\n",
        "\n",
        "    def forward(self, x):\n",
        "        x = self.ConvBnRelu1(x)\n",
        "        x = self.ConvBnRelu2(x)\n",
        "        x = self.pool(x)\n",
        "        x = self.ConvBnRelu3(x)\n",
        "        x = self.dropout(x)\n",
        "        x = x.flatten(1)\n",
        "        output = self.fc(x)\n",
        "        return output\n",
        "\n",
        "net_reduced = CNN_reduced().to(device)\n"
      ]
    },
    {
      "cell_type": "markdown",
      "metadata": {
        "id": "2HF7Hi9o9oUK"
      },
      "source": [
        "Let's see how many MAC operations the new network has..."
      ]
    },
    {
      "cell_type": "code",
      "execution_count": 18,
      "metadata": {
        "id": "uvVsFvL99njF"
      },
      "outputs": [
        {
          "name": "stdout",
          "output_type": "stream",
          "text": [
            "==========================================================================================\n",
            "Layer (type:depth-idx)                   Output Shape              Param #\n",
            "==========================================================================================\n",
            "CNN_reduced                              [1, 10]                   --\n",
            "├─ConvBnRelu: 1-1                        [1, 16, 28, 28]           --\n",
            "│    └─Conv2d: 2-1                       [1, 16, 28, 28]           144\n",
            "│    └─BatchNorm2d: 2-2                  [1, 16, 28, 28]           32\n",
            "│    └─ReLU: 2-3                         [1, 16, 28, 28]           --\n",
            "├─ConvBnRelu: 1-2                        [1, 32, 28, 28]           --\n",
            "│    └─Conv2d: 2-4                       [1, 32, 28, 28]           4,608\n",
            "│    └─BatchNorm2d: 2-5                  [1, 32, 28, 28]           64\n",
            "│    └─ReLU: 2-6                         [1, 32, 28, 28]           --\n",
            "├─MaxPool2d: 1-3                         [1, 32, 14, 14]           --\n",
            "├─ConvBnRelu: 1-4                        [1, 64, 7, 7]             --\n",
            "│    └─Conv2d: 2-7                       [1, 64, 7, 7]             18,432\n",
            "│    └─BatchNorm2d: 2-8                  [1, 64, 7, 7]             128\n",
            "│    └─ReLU: 2-9                         [1, 64, 7, 7]             --\n",
            "├─Dropout: 1-5                           [1, 64, 7, 7]             --\n",
            "├─Linear: 1-6                            [1, 10]                   31,360\n",
            "==========================================================================================\n",
            "Total params: 54,768\n",
            "Trainable params: 54,768\n",
            "Non-trainable params: 0\n",
            "Total mult-adds (M): 4.66\n",
            "==========================================================================================\n",
            "Input size (MB): 0.00\n",
            "Forward/backward pass size (MB): 0.65\n",
            "Params size (MB): 0.22\n",
            "Estimated Total Size (MB): 0.87\n",
            "==========================================================================================\n",
            "\n",
            "Network's \tn°params: 54.768k \tMAC: 4.660M\n",
            "\n"
          ]
        }
      ],
      "source": [
        "params, macs = print_summary(deepcopy(net_reduced), input_size) #use deepcopy to avoid graph modifications by hese function calls\n",
        "print(\"\\nNetwork's \\tn°params: %.3fk \\tMAC: %.3fM\\n\" % (params/1e3, macs/1e6))\n"
      ]
    },
    {
      "cell_type": "markdown",
      "metadata": {
        "id": "3KXk7hUr9zUl"
      },
      "source": [
        "**The New network has 4.66M MAC, which is less than our constrain of 5M !!**"
      ]
    },
    {
      "cell_type": "markdown",
      "metadata": {
        "id": "xJZ-6C82-Nq3"
      },
      "source": [
        "# **TASK3:** Retrain the network and verify validation accuracy"
      ]
    },
    {
      "cell_type": "markdown",
      "metadata": {
        "id": "F3Gzxa4o1I3X"
      },
      "source": [
        "You can use the same training loop as in the previous task:\n",
        "\n"
      ]
    },
    {
      "cell_type": "code",
      "execution_count": 18,
      "metadata": {
        "cellView": "form",
        "id": "APLpS8iGP5CP"
      },
      "outputs": [],
      "source": [
        "#@title Training parameters { form-width: \"70%\" }\n",
        "epochs = 1 #@param {type:\"integer\"}\n",
        "batch_size = 128 #@param {type:\"integer\"}"
      ]
    },
    {
      "cell_type": "code",
      "execution_count": 19,
      "metadata": {
        "id": "OpMcWiGDvY_A"
      },
      "outputs": [],
      "source": [
        "# Build Dataloaders\n",
        "train_loader, val_loader = get_data_loaders(batch_size, batch_size)"
      ]
    },
    {
      "cell_type": "code",
      "execution_count": 20,
      "metadata": {
        "id": "2Ka3HUPrtw6a"
      },
      "outputs": [
        {
          "ename": "NameError",
          "evalue": "name 'training' is not defined",
          "output_type": "error",
          "traceback": [
            "\u001b[0;31m---------------------------------------------------------------------------\u001b[0m",
            "\u001b[0;31mNameError\u001b[0m                                 Traceback (most recent call last)",
            "Cell \u001b[0;32mIn[20], line 5\u001b[0m\n\u001b[1;32m      1\u001b[0m \u001b[38;5;66;03m# Train the network!\u001b[39;00m\n\u001b[1;32m      2\u001b[0m (train_loss_history,\n\u001b[1;32m      3\u001b[0m train_accuracy_history,\n\u001b[1;32m      4\u001b[0m val_loss_history,\n\u001b[0;32m----> 5\u001b[0m val_accuracy_history) \u001b[38;5;241m=\u001b[39m \u001b[43mtraining\u001b[49m(net_reduced, train_loader, val_loader, loss_function, epochs)\n",
            "\u001b[0;31mNameError\u001b[0m: name 'training' is not defined"
          ]
        }
      ],
      "source": [
        "# Train the network!\n",
        "(train_loss_history,\n",
        "train_accuracy_history,\n",
        "val_loss_history,\n",
        "val_accuracy_history) = training(net_reduced, train_loader, val_loader, loss_function, epochs)"
      ]
    },
    {
      "cell_type": "markdown",
      "metadata": {
        "id": "J6B6j5B4ae7T"
      },
      "source": [
        "# **TASK4**: Quantization\n",
        "\n",
        "We want to quantize the network from a float32 representation to an _integer_ representation. As we studied in class, quantization is a technique that allow us to compress the neural network (i.e., reduce its size) and potentially to accelerate the inference time (float operations vs int operations). First, we'll use a \"soft\" technique called Post-Training Quantization to quantize our network _without_ retraining it."
      ]
    },
    {
      "cell_type": "markdown",
      "metadata": {
        "id": "jDn4Vr9WbDvO"
      },
      "source": [
        "We will use the open-source [**Brevitas**](https://github.com/Xilinx/brevitas) tool, developed by AMD Xilinx, as our main quantization framework. Resources:\n",
        " * https://xilinx.github.io/brevitas/"
      ]
    },
    {
      "cell_type": "markdown",
      "metadata": {
        "id": "GOEuVeK2a75Y"
      },
      "source": [
        "The computational graph of our network uses floating-point operands, i.e., it is a floating-point computational graph.\n",
        "\n",
        "Similarly to other quantization tools, the first step of Brevitas' operation is to replace the nodes in the graph with ones that support quantization, i.e., explicitly include weight and (potentially) activation quantization in their `forward` methods.\n",
        "Quantization-aware nodes also make it possible to collect statistics on the weight and activation distribution, which on turn are usede to improve the quantization itself by selecting the correct quantization range.\n",
        "This information will be transformed into a set of floating-point zero-offsets and scaling factors applied to integer weights and activations.\n",
        "\n",
        "The conversion from a \"pure\" model to one that is quantization-aware is called the fake quantization, and it produces a **Fake-Quantized (FQ)** model: specifically the FQ step introduces linear quantizers into the computational graph, but at the same time continues to operate with floating-point operands.\n",
        "In Brevitas, fake quantization can be performed *layer-wise*, i.e., looking at one `torch.nn.Module` at a time, or referring to a `torch.fx` trace.\n",
        "The latter strategy is potentially more powerful for complex models, but also less simple to use: in this tutorial, we'll rely on the former one.\n",
        "\n",
        "The FQ graph is where we apply all transformation that still require complete trainability and, as a consequence, rely on float representation.\n",
        "However, the FQ graph cannot be directly deployed as it typically ignores some of the nodes (such as activations); scaling factors are applied in floating-point, which we generally want to avoid; and in general it is not a bit-true representation of any full-integer operation that will happen in deployment.\n",
        "We'll need a separate tool to perform a second-stage transformation to get to a fully integer graph."
      ]
    },
    {
      "cell_type": "markdown",
      "metadata": {
        "id": "yw2v23zMReIH"
      },
      "source": [
        "## **1st quantization step: Float-to-fake**\n",
        "\n",
        "This is the first step for preparing & converting a conventional neural network to the quantized form, which is where “fake quantization” nodes come in (image below: red nodes):\n",
        "\n",
        "* The role that fake quantization nodes fulfil is to simulate the rounding effect of quantization in the forward pass, as it would occur in actual inference of a quantized network. So we are not converting activation's output\n",
        "and the convolutional weights to fixed-point representation (`integer`), we are just adding a \"fake quantization\" node that simulates the effect of quantization. This allows to keep all parameters stored as float with the real full-precision.\n",
        "\n",
        "***Why do we want to keep the original `float32` values?***\n",
        "\n",
        "* It is mandatory at training time, so that backpropagation still works as usual. A quantized network would have no way to be trained and updated with infinitesimal gradients.\n",
        "\n",
        "***Why do we want to train a quantized network then ?***\n",
        "\n",
        "* Frequently, after applying quantization, we must run a few epochs of fine-tuning (called **quantization-aware training**) to adjust for the precision loss introduced by a lower bitwidth.\n",
        "* The alternative, which we'll follow in the first part of this tutorial, is to apply **post-training quantization**, which relies on statistics collection and calibration to adapt the ranges and scaling factors of quantizers.\n",
        "\n",
        "**Summary:** Fake quantization nodes simulates the quantization effects on weights and output activations just during the forward pass (`input->output`). While during backpropagation (`input<-output`) the fake quantization nodes are not active and the weights and activations retain their original `float32` values.\n"
      ]
    },
    {
      "cell_type": "markdown",
      "metadata": {
        "id": "J0tj3TXs3BTy"
      },
      "source": [
        "![Figure2.png](data:image/png;base64,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)"
      ]
    },
    {
      "cell_type": "markdown",
      "metadata": {
        "id": "hU4ZgsXA9ZgL"
      },
      "source": [
        "To perform F2F conversion, we must replace standard PyTorch Modules with corresponding FakeQuantized counterparts.\n",
        "With Brevitas, we start by taking a \"deep copy\" of our initial floating-point net (to keep it untouched), then we operate on the copy.\n",
        "\n",
        "Our first step is to perform *activation equalization*, a technique based on [**SmoothQuant**](https://arxiv.org/abs/2211.10438) used to smooth out any outliers in the activation distribution by migrating their \"quantization difficulty\" towards weights.\n",
        "This is directly supported in Brevitas and can be run to our copied network as a preliminary step.\n",
        "Afterwards, we run one validation round to double-check functionality."
      ]
    },
    {
      "cell_type": "code",
      "execution_count": 21,
      "metadata": {},
      "outputs": [],
      "source": [
        "from copy import deepcopy\n",
        "\n",
        "# DeepCopy of net + ugly bias workaround\n",
        "net_copy = deepcopy(net)\n",
        "\n",
        "for layer in [net_copy.ConvBnRelu1.conv1, net_copy.ConvBnRelu2.conv1, net_copy.ConvBnRelu3.conv1, net_copy.fc]:\n",
        "    layer.bias = torch.nn.Parameter(torch.zeros(layer.weight.size()[0]))"
      ]
    },
    {
      "cell_type": "code",
      "execution_count": 22,
      "metadata": {
        "id": "Mv9UGLU-yZyf"
      },
      "outputs": [
        {
          "name": "stderr",
          "output_type": "stream",
          "text": [
            "100%|██████████| 79/79 [00:04<00:00, 18.25it/s]"
          ]
        },
        {
          "name": "stdout",
          "output_type": "stream",
          "text": [
            "Validation Loss: 2.3008 Accuracy: 0.1210\n"
          ]
        },
        {
          "name": "stderr",
          "output_type": "stream",
          "text": [
            "\n"
          ]
        }
      ],
      "source": [
        "from brevitas.graph.calibrate import bias_correction_mode, calibration_mode\n",
        "from brevitas.graph.equalize import activation_equalization_mode\n",
        "\n",
        "def equalize_activations(net, cal_loader, alpha=0.5):\n",
        "\n",
        "    # set net to evaluating (testing)\n",
        "    net.eval()\n",
        "    with activation_equalization_mode(net, alpha):\n",
        "      with torch.no_grad():\n",
        "          for batch_idx, data in enumerate(cal_loader):\n",
        "              inputs, _ = data[0].to(device), data[1].to(device)\n",
        "\n",
        "              # net forward\n",
        "              _ = net(inputs) # this gets the prediction from the network\n",
        "\n",
        "# use validation set for activation equalization\n",
        "calib_loader = val_loader\n",
        "equalize_activations(net_copy, calib_loader)\n",
        "\n",
        "average_val_accuracy, average_val_loss = validate(net_copy, val_loader, loss_function, accuracy_score)\n",
        "# Print valid statistics\n",
        "print('Validation Loss: %.4f' % (average_val_loss), 'Accuracy: %.4f' % (average_val_accuracy))"
      ]
    },
    {
      "cell_type": "markdown",
      "metadata": {},
      "source": [
        "We expect the accuracy to be virtually unchanged compared to before equalization.\n",
        "\n",
        "After equalization, we can perform the actual network fake-quantization, which in Brevitas is done through the `quantize_model` API. Here we make several choices:\n",
        " * the backend selected is `layerwise`. This is used to select whether `torch.nn.Module`s are being transformed one by one, or if the full graph produced by `torch.fx` is managed.\n",
        " * we select the bit width for weights (8b), activation (8b), bias (32b).\n",
        " * we select the granularity of weight quantization: `per_tensor` means that one single scaling factor (and a related range from `wmin` to `wmax`) is used for all the weights.\n",
        " * `act_quant_percentile` is used in calibration: in this case, we select to keep activation up to the 99.999% percentile within the representable range. Reducing the range might make it easier to quantize, but will result in gross precision loss on activation outliers. We also select the `act_quant_type` as `sym`metric (i.e., representable data goes from -N to +N).\n",
        " * as `scale_factor_type` we select `float_scale`, which means that quantization will be free to use any scaling factor. Conversely, we could also set up quantization to use only power-of-two scaling factors: this makes it possible to reduce all normalization to simple shifts (practically a regular fixed-point representation), at the price of losing flexibility, and thus accuracy.\n",
        "\n",
        "After this step, we perform another accuracy evaluation to check for functionality."
      ]
    },
    {
      "cell_type": "code",
      "execution_count": 23,
      "metadata": {},
      "outputs": [
        {
          "name": "stderr",
          "output_type": "stream",
          "text": [
            "100%|██████████| 79/79 [00:04<00:00, 19.55it/s]"
          ]
        },
        {
          "name": "stdout",
          "output_type": "stream",
          "text": [
            "Validation Loss: 2.3008 Accuracy: 0.1210\n"
          ]
        },
        {
          "name": "stderr",
          "output_type": "stream",
          "text": [
            "\n"
          ]
        }
      ],
      "source": [
        "from brevitas.graph.quantize import preprocess_for_quantize\n",
        "gnet = preprocess_for_quantize(net_copy)\n",
        "\n",
        "average_val_accuracy, average_val_loss = validate(gnet, val_loader, loss_function, accuracy_score)\n",
        "# Print valid statistics\n",
        "print('Validation Loss: %.4f' % (average_val_loss), 'Accuracy: %.4f' % (average_val_accuracy))"
      ]
    },
    {
      "cell_type": "code",
      "execution_count": 24,
      "metadata": {
        "colab": {
          "base_uri": "https://localhost:8080/"
        },
        "id": "qFbsNfspyZt3",
        "outputId": "d23bcb8f-e3dd-4d58-9171-80df2379be0a"
      },
      "outputs": [
        {
          "name": "stderr",
          "output_type": "stream",
          "text": [
            "  0%|          | 0/79 [00:00<?, ?it/s]/usr/local/lib/python3.10/dist-packages/torch/_tensor.py:1413: UserWarning: Named tensors and all their associated APIs are an experimental feature and subject to change. Please do not use them for anything important until they are released as stable. (Triggered internally at /pytorch/c10/core/TensorImpl.h:1925.)\n",
            "  return super().rename(names)\n",
            "100%|██████████| 79/79 [00:10<00:00,  7.42it/s]"
          ]
        },
        {
          "name": "stdout",
          "output_type": "stream",
          "text": [
            "Validation Loss: 2.3024 Accuracy: 0.1276\n"
          ]
        },
        {
          "name": "stderr",
          "output_type": "stream",
          "text": [
            "\n"
          ]
        }
      ],
      "source": [
        "# from brevitas_examples.imagenet_classification.ptq.ptq_common import quantize_model\n",
        "from brevitas.export.inference import quant_inference_mode\n",
        "from brevitas.graph.quantize import quantize\n",
        "from brevitas.quant import (\n",
        "  Int8ActPerTensorFloat,\n",
        "  Int8WeightPerTensorFloat,\n",
        "  Int32Bias,\n",
        "  Uint8ActPerTensorFloat,\n",
        ")\n",
        "\n",
        "computeLayerMap = {\n",
        "  nn.Conv2d: (\n",
        "    qnn.QuantConv2d,\n",
        "    {\n",
        "      \"input_quant\": Int8ActPerTensorFloat,\n",
        "      \"weight_quant\": Int8WeightPerTensorFloat,\n",
        "      \"output_quant\": Int8ActPerTensorFloat,\n",
        "      \"bias_quant\": Int32Bias,\n",
        "      \"bias\": True,\n",
        "      \"return_quant_tensor\": True,\n",
        "      \"output_bit_width\": 8,\n",
        "      \"weight_bit_width\": 8,\n",
        "    },\n",
        "  ),\n",
        "  nn.Linear: (\n",
        "    qnn.QuantLinear,\n",
        "    {\n",
        "      \"input_quant\": Int8ActPerTensorFloat,\n",
        "      \"weight_quant\": Int8WeightPerTensorFloat,\n",
        "      \"output_quant\": Int8ActPerTensorFloat,\n",
        "      \"bias_quant\": Int32Bias,\n",
        "      \"bias\": True,\n",
        "      \"return_quant_tensor\": True,\n",
        "      \"output_bit_width\": 8,\n",
        "      \"weight_bit_width\": 8,\n",
        "    },\n",
        "  ),\n",
        "  nn.BatchNorm2d: (\n",
        "    qnn.BatchNorm2dToQuantScaleBias,\n",
        "    {\n",
        "      'weight_quant': Int8WeightPerTensorFloat,\n",
        "      'bias_quant': Int32Bias,\n",
        "      'return_quant_tensor': True\n",
        "    }\n",
        "  ),\n",
        "}\n",
        "\n",
        "quantActMap = {\n",
        "  nn.ReLU: (\n",
        "    qnn.QuantReLU,\n",
        "    {\n",
        "      \"act_quant\": Uint8ActPerTensorFloat,\n",
        "      \"return_quant_tensor\": True,\n",
        "      \"bit_width\": 8,\n",
        "    },\n",
        "  ),\n",
        "}\n",
        "\n",
        "quantIdentityMap = {\n",
        "  \"signed\": (\n",
        "    qnn.QuantIdentity,\n",
        "    {\n",
        "      \"act_quant\": Int8ActPerTensorFloat,\n",
        "      \"return_quant_tensor\": True,\n",
        "      \"bit_width\": 8,\n",
        "    },\n",
        "  ),\n",
        "  \"unsigned\": (\n",
        "    qnn.QuantIdentity,\n",
        "    {\n",
        "      \"act_quant\": Uint8ActPerTensorFloat,\n",
        "      \"return_quant_tensor\": True,\n",
        "      \"bit_width\": 8,\n",
        "    },\n",
        "  ),\n",
        "}\n",
        "\n",
        "qnet = quantize(\n",
        "  graph_model=gnet,\n",
        "  compute_layer_map=computeLayerMap,\n",
        "  quant_act_map=quantActMap,\n",
        "  quant_identity_map=quantIdentityMap,\n",
        ")\n",
        "\n",
        "\n",
        "# Test over validation dataset\n",
        "loss_function=nn.CrossEntropyLoss()\n",
        "\n",
        "average_val_accuracy, average_val_loss = validate(qnet, val_loader, loss_function, accuracy_score)\n",
        "# Print valid statistics\n",
        "print('Validation Loss: %.4f' % (average_val_loss), 'Accuracy: %.4f' % (average_val_accuracy))"
      ]
    },
    {
      "cell_type": "markdown",
      "metadata": {},
      "source": [
        "---\n",
        "**ASSIGNMENT TASK:**\n",
        "\n",
        "Try to change the quantization options and explore the effects on accuracy. What happens if you reduce activation and/or weight bitwidth? And signedness?\n",
        "\n",
        "---"
      ]
    },
    {
      "cell_type": "markdown",
      "metadata": {},
      "source": [
        "Did you notice the accuracy drop? It should be around 7%. We should do something about it!\n",
        "But before that, let us check the topology of the network. Spoiler: it is very different!"
      ]
    },
    {
      "cell_type": "code",
      "execution_count": 25,
      "metadata": {},
      "outputs": [
        {
          "name": "stdout",
          "output_type": "stream",
          "text": [
            "class CNN(torch.nn.Module):\n",
            "    def forward(self, x):\n",
            "        # No stacktrace found for following nodes\n",
            "        x_quant = self.x_quant(x);  x = None\n",
            "        conv_bn_relu1_conv1_scale_weight = self.ConvBnRelu1.conv1.scale.weight\n",
            "        view = conv_bn_relu1_conv1_scale_weight.view([1, 1, 1, 1]);  conv_bn_relu1_conv1_scale_weight = None\n",
            "        mul = x_quant * view;  x_quant = view = None\n",
            "        conv_bn_relu1_conv1_layer = self.ConvBnRelu1.conv1.layer(mul);  mul = None\n",
            "        conv_bn_relu1_relu1 = self.ConvBnRelu1.relu1(conv_bn_relu1_conv1_layer);  conv_bn_relu1_conv1_layer = None\n",
            "        conv_bn_relu2_conv1_scale_weight = self.ConvBnRelu2.conv1.scale.weight\n",
            "        view_1 = conv_bn_relu2_conv1_scale_weight.view([1, 32, 1, 1]);  conv_bn_relu2_conv1_scale_weight = None\n",
            "        mul_1 = conv_bn_relu1_relu1 * view_1;  conv_bn_relu1_relu1 = view_1 = None\n",
            "        conv_bn_relu2_conv1_layer = self.ConvBnRelu2.conv1.layer(mul_1);  mul_1 = None\n",
            "        conv_bn_relu2_relu1 = self.ConvBnRelu2.relu1(conv_bn_relu2_conv1_layer);  conv_bn_relu2_conv1_layer = None\n",
            "        pool = self.pool(conv_bn_relu2_relu1);  conv_bn_relu2_relu1 = None\n",
            "        conv_bn_relu3_conv1_scale_weight = self.ConvBnRelu3.conv1.scale.weight\n",
            "        view_2 = conv_bn_relu3_conv1_scale_weight.view([1, 64, 1, 1]);  conv_bn_relu3_conv1_scale_weight = None\n",
            "        mul_2 = pool * view_2;  pool = view_2 = None\n",
            "        conv_bn_relu3_conv1_layer = self.ConvBnRelu3.conv1.layer(mul_2);  mul_2 = None\n",
            "        conv_bn_relu3_relu1 = self.ConvBnRelu3.relu1(conv_bn_relu3_conv1_layer);  conv_bn_relu3_conv1_layer = None\n",
            "        dropout = self.dropout(conv_bn_relu3_relu1);  conv_bn_relu3_relu1 = None\n",
            "        flatten = dropout.flatten(1);  dropout = None\n",
            "        fc_scale_weight = self.fc.scale.weight\n",
            "        view_3 = fc_scale_weight.view([1, 6272]);  fc_scale_weight = None\n",
            "        mul_3 = flatten * view_3;  flatten = view_3 = None\n",
            "        fc_layer = self.fc.layer(mul_3);  mul_3 = None\n",
            "        fc_layer_output_quant = self.fc_layer_output_quant(fc_layer);  fc_layer = None\n",
            "        return fc_layer_output_quant\n",
            "        \n"
          ]
        },
        {
          "name": "stderr",
          "output_type": "stream",
          "text": [
            "/usr/local/lib/python3.10/dist-packages/brevitas/backport/fx/experimental/proxy_tensor.py:97: FutureWarning: `torch.utils._pytree._register_pytree_node` is deprecated. Please use `torch.utils._pytree.register_pytree_node` instead.\n",
            "  pytree._register_pytree_node(torch.Size, lambda x: (list(x), None), lambda xs, _: tuple(xs))\n",
            "/usr/local/lib/python3.10/dist-packages/torch/utils/_pytree.py:332: UserWarning: <class 'torch.Size'> is already registered as pytree node. Overwriting the previous registration.\n",
            "  warnings.warn(\n"
          ]
        },
        {
          "data": {
            "text/plain": [
              "'class CNN(torch.nn.Module):\\n    def forward(self, x):\\n        # No stacktrace found for following nodes\\n        x_quant = self.x_quant(x);  x = None\\n        conv_bn_relu1_conv1_scale_weight = self.ConvBnRelu1.conv1.scale.weight\\n        view = conv_bn_relu1_conv1_scale_weight.view([1, 1, 1, 1]);  conv_bn_relu1_conv1_scale_weight = None\\n        mul = x_quant * view;  x_quant = view = None\\n        conv_bn_relu1_conv1_layer = self.ConvBnRelu1.conv1.layer(mul);  mul = None\\n        conv_bn_relu1_relu1 = self.ConvBnRelu1.relu1(conv_bn_relu1_conv1_layer);  conv_bn_relu1_conv1_layer = None\\n        conv_bn_relu2_conv1_scale_weight = self.ConvBnRelu2.conv1.scale.weight\\n        view_1 = conv_bn_relu2_conv1_scale_weight.view([1, 32, 1, 1]);  conv_bn_relu2_conv1_scale_weight = None\\n        mul_1 = conv_bn_relu1_relu1 * view_1;  conv_bn_relu1_relu1 = view_1 = None\\n        conv_bn_relu2_conv1_layer = self.ConvBnRelu2.conv1.layer(mul_1);  mul_1 = None\\n        conv_bn_relu2_relu1 = self.ConvBnRelu2.relu1(conv_bn_relu2_conv1_layer);  conv_bn_relu2_conv1_layer = None\\n        pool = self.pool(conv_bn_relu2_relu1);  conv_bn_relu2_relu1 = None\\n        conv_bn_relu3_conv1_scale_weight = self.ConvBnRelu3.conv1.scale.weight\\n        view_2 = conv_bn_relu3_conv1_scale_weight.view([1, 64, 1, 1]);  conv_bn_relu3_conv1_scale_weight = None\\n        mul_2 = pool * view_2;  pool = view_2 = None\\n        conv_bn_relu3_conv1_layer = self.ConvBnRelu3.conv1.layer(mul_2);  mul_2 = None\\n        conv_bn_relu3_relu1 = self.ConvBnRelu3.relu1(conv_bn_relu3_conv1_layer);  conv_bn_relu3_conv1_layer = None\\n        dropout = self.dropout(conv_bn_relu3_relu1);  conv_bn_relu3_relu1 = None\\n        flatten = dropout.flatten(1);  dropout = None\\n        fc_scale_weight = self.fc.scale.weight\\n        view_3 = fc_scale_weight.view([1, 6272]);  fc_scale_weight = None\\n        mul_3 = flatten * view_3;  flatten = view_3 = None\\n        fc_layer = self.fc.layer(mul_3);  mul_3 = None\\n        fc_layer_output_quant = self.fc_layer_output_quant(fc_layer);  fc_layer = None\\n        return fc_layer_output_quant\\n        '"
            ]
          },
          "execution_count": 25,
          "metadata": {},
          "output_type": "execute_result"
        }
      ],
      "source": [
        "qnet.print_readable()"
      ]
    },
    {
      "cell_type": "markdown",
      "metadata": {},
      "source": [
        "To fix network accuracy, we need to initialize correctly the minima and maxima of activations, which is used to correctly represent them in the latter operations. This step is typically called calibration and, in PTQ, it is the only typically necessary step to achieve good performance. We expect virtually no accuracy loss compared to the floating-point network after calibration."
      ]
    },
    {
      "cell_type": "code",
      "execution_count": 26,
      "metadata": {
        "colab": {
          "base_uri": "https://localhost:8080/"
        },
        "id": "PaNBnxvjS5x_",
        "outputId": "be7e9560-6b5a-4d45-c07b-1331d434f6e7"
      },
      "outputs": [
        {
          "name": "stderr",
          "output_type": "stream",
          "text": [
            "100%|██████████| 79/79 [00:19<00:00,  4.08it/s]\n",
            "100%|██████████| 79/79 [00:06<00:00, 11.74it/s]"
          ]
        },
        {
          "name": "stdout",
          "output_type": "stream",
          "text": [
            "Validation Loss: 2.3008 Accuracy: 0.1226\n"
          ]
        },
        {
          "name": "stderr",
          "output_type": "stream",
          "text": [
            "\n"
          ]
        }
      ],
      "source": [
        "from brevitas_examples.imagenet_classification.ptq.ptq_common import calibrate\n",
        "\n",
        "#FIXME move to with \"explicit\" form\n",
        "calib_loader = val_loader\n",
        "# initializes wmax,wmin, amax, amin\n",
        "calibrate(calib_loader, qnet)\n",
        "\n",
        "# Test over validation dataset\n",
        "loss_function=nn.CrossEntropyLoss()\n",
        "with torch.no_grad(), quant_inference_mode(qnet):\n",
        "  average_val_accuracy, average_val_loss = validate(qnet, val_loader, loss_function, accuracy_score)\n",
        "# Print valid statistics\n",
        "print('Validation Loss: %.4f' % (average_val_loss), 'Accuracy: %.4f' % (average_val_accuracy))"
      ]
    },
    {
      "cell_type": "markdown",
      "metadata": {},
      "source": [
        "At this stage, the FQ of the network is complete. Try to progressively reduce the target bitwidth to less than 8b for weights and activations: what happens? Also check what happens, particularly with low bitwidth, if you remove equalization or calibration. Finally, explore what happens if you replace the \"original\" model with the one you shrinked.\n",
        "Each time, start back from the equalization phase, where you copied `net` in `net_copy`."
      ]
    },
    {
      "cell_type": "markdown",
      "metadata": {
        "id": "YHFGaZzNaU3F"
      },
      "source": [
        "## **2nd quantization step: Quantization-aware training (QAT)**\n",
        "\n",
        "After applying quantization, we can run a few epochs  (just 1 enough in this case)  of fine-tuning, called *Quantization-Aware Training (QAT)*, to adjust for the precision loss introduced by a lower bitwidth.\n",
        "This is particularly useful if we target very low bitwidth networks."
      ]
    },
    {
      "cell_type": "markdown",
      "metadata": {
        "id": "UuVPBcFCGNmx"
      },
      "source": [
        "Let's define the Quantization-Aware Training function:"
      ]
    },
    {
      "cell_type": "code",
      "execution_count": 28,
      "metadata": {
        "cellView": "form",
        "id": "EJc1Yp2lFQDM"
      },
      "outputs": [],
      "source": [
        "#@title Number of quatization-aware training (QAT) epochs { form-width: \"70%\" }\n",
        "n_QAT_epochs = 1 #@param {type:\"integer\"}"
      ]
    },
    {
      "cell_type": "markdown",
      "metadata": {
        "id": "dsSRPpPvGWTJ"
      },
      "source": [
        "Start Quantization-aware fine-tuning !\n"
      ]
    },
    {
      "cell_type": "code",
      "execution_count": 29,
      "metadata": {},
      "outputs": [
        {
          "name": "stderr",
          "output_type": "stream",
          "text": [
            "Training Loss: 0.3885, Accuracy: 0.8613:  17%|█▋        | 80/469 [00:38<03:05,  2.10it/s]\n"
          ]
        },
        {
          "ename": "KeyboardInterrupt",
          "evalue": "",
          "output_type": "error",
          "traceback": [
            "\u001b[0;31m---------------------------------------------------------------------------\u001b[0m",
            "\u001b[0;31mKeyboardInterrupt\u001b[0m                         Traceback (most recent call last)",
            "Cell \u001b[0;32mIn[29], line 5\u001b[0m\n\u001b[1;32m      1\u001b[0m \u001b[38;5;66;03m# Train the network!\u001b[39;00m\n\u001b[1;32m      2\u001b[0m (train_loss_history,\n\u001b[1;32m      3\u001b[0m train_accuracy_history,\n\u001b[1;32m      4\u001b[0m val_loss_history,\n\u001b[0;32m----> 5\u001b[0m val_accuracy_history) \u001b[38;5;241m=\u001b[39m \u001b[43mtraining\u001b[49m\u001b[43m(\u001b[49m\u001b[43mqnet\u001b[49m\u001b[43m,\u001b[49m\u001b[43m \u001b[49m\u001b[43mtrain_loader\u001b[49m\u001b[43m,\u001b[49m\u001b[43m \u001b[49m\u001b[43mval_loader\u001b[49m\u001b[43m,\u001b[49m\u001b[43m \u001b[49m\u001b[43mloss_function\u001b[49m\u001b[43m,\u001b[49m\u001b[43m \u001b[49m\u001b[43mn_QAT_epochs\u001b[49m\u001b[43m,\u001b[49m\u001b[43m \u001b[49m\u001b[43mlr\u001b[49m\u001b[38;5;241;43m=\u001b[39;49m\u001b[38;5;241;43m1e-5\u001b[39;49m\u001b[43m)\u001b[49m\n",
            "Cell \u001b[0;32mIn[9], line 45\u001b[0m, in \u001b[0;36mtraining\u001b[0;34m(net, train_loader, val_loader, loss_function, epochs, lr)\u001b[0m\n\u001b[1;32m     43\u001b[0m \u001b[38;5;66;03m# Backpropagation\u001b[39;00m\n\u001b[1;32m     44\u001b[0m net\u001b[38;5;241m.\u001b[39mzero_grad()\n\u001b[0;32m---> 45\u001b[0m \u001b[43mloss\u001b[49m\u001b[38;5;241;43m.\u001b[39;49m\u001b[43mbackward\u001b[49m\u001b[43m(\u001b[49m\u001b[43m)\u001b[49m\n\u001b[1;32m     46\u001b[0m \u001b[38;5;66;03m# Optimizer step\u001b[39;00m\n\u001b[1;32m     47\u001b[0m optimizer\u001b[38;5;241m.\u001b[39mstep()\n",
            "File \u001b[0;32m/usr/local/lib/python3.10/dist-packages/torch/_tensor.py:521\u001b[0m, in \u001b[0;36mTensor.backward\u001b[0;34m(self, gradient, retain_graph, create_graph, inputs)\u001b[0m\n\u001b[1;32m    511\u001b[0m \u001b[38;5;28;01mif\u001b[39;00m has_torch_function_unary(\u001b[38;5;28mself\u001b[39m):\n\u001b[1;32m    512\u001b[0m     \u001b[38;5;28;01mreturn\u001b[39;00m handle_torch_function(\n\u001b[1;32m    513\u001b[0m         Tensor\u001b[38;5;241m.\u001b[39mbackward,\n\u001b[1;32m    514\u001b[0m         (\u001b[38;5;28mself\u001b[39m,),\n\u001b[0;32m   (...)\u001b[0m\n\u001b[1;32m    519\u001b[0m         inputs\u001b[38;5;241m=\u001b[39minputs,\n\u001b[1;32m    520\u001b[0m     )\n\u001b[0;32m--> 521\u001b[0m \u001b[43mtorch\u001b[49m\u001b[38;5;241;43m.\u001b[39;49m\u001b[43mautograd\u001b[49m\u001b[38;5;241;43m.\u001b[39;49m\u001b[43mbackward\u001b[49m\u001b[43m(\u001b[49m\n\u001b[1;32m    522\u001b[0m \u001b[43m    \u001b[49m\u001b[38;5;28;43mself\u001b[39;49m\u001b[43m,\u001b[49m\u001b[43m \u001b[49m\u001b[43mgradient\u001b[49m\u001b[43m,\u001b[49m\u001b[43m \u001b[49m\u001b[43mretain_graph\u001b[49m\u001b[43m,\u001b[49m\u001b[43m \u001b[49m\u001b[43mcreate_graph\u001b[49m\u001b[43m,\u001b[49m\u001b[43m \u001b[49m\u001b[43minputs\u001b[49m\u001b[38;5;241;43m=\u001b[39;49m\u001b[43minputs\u001b[49m\n\u001b[1;32m    523\u001b[0m \u001b[43m\u001b[49m\u001b[43m)\u001b[49m\n",
            "File \u001b[0;32m/usr/local/lib/python3.10/dist-packages/torch/autograd/__init__.py:289\u001b[0m, in \u001b[0;36mbackward\u001b[0;34m(tensors, grad_tensors, retain_graph, create_graph, grad_variables, inputs)\u001b[0m\n\u001b[1;32m    284\u001b[0m     retain_graph \u001b[38;5;241m=\u001b[39m create_graph\n\u001b[1;32m    286\u001b[0m \u001b[38;5;66;03m# The reason we repeat the same comment below is that\u001b[39;00m\n\u001b[1;32m    287\u001b[0m \u001b[38;5;66;03m# some Python versions print out the first line of a multi-line function\u001b[39;00m\n\u001b[1;32m    288\u001b[0m \u001b[38;5;66;03m# calls in the traceback and some print out the last line\u001b[39;00m\n\u001b[0;32m--> 289\u001b[0m \u001b[43m_engine_run_backward\u001b[49m\u001b[43m(\u001b[49m\n\u001b[1;32m    290\u001b[0m \u001b[43m    \u001b[49m\u001b[43mtensors\u001b[49m\u001b[43m,\u001b[49m\n\u001b[1;32m    291\u001b[0m \u001b[43m    \u001b[49m\u001b[43mgrad_tensors_\u001b[49m\u001b[43m,\u001b[49m\n\u001b[1;32m    292\u001b[0m \u001b[43m    \u001b[49m\u001b[43mretain_graph\u001b[49m\u001b[43m,\u001b[49m\n\u001b[1;32m    293\u001b[0m \u001b[43m    \u001b[49m\u001b[43mcreate_graph\u001b[49m\u001b[43m,\u001b[49m\n\u001b[1;32m    294\u001b[0m \u001b[43m    \u001b[49m\u001b[43minputs\u001b[49m\u001b[43m,\u001b[49m\n\u001b[1;32m    295\u001b[0m \u001b[43m    \u001b[49m\u001b[43mallow_unreachable\u001b[49m\u001b[38;5;241;43m=\u001b[39;49m\u001b[38;5;28;43;01mTrue\u001b[39;49;00m\u001b[43m,\u001b[49m\n\u001b[1;32m    296\u001b[0m \u001b[43m    \u001b[49m\u001b[43maccumulate_grad\u001b[49m\u001b[38;5;241;43m=\u001b[39;49m\u001b[38;5;28;43;01mTrue\u001b[39;49;00m\u001b[43m,\u001b[49m\n\u001b[1;32m    297\u001b[0m \u001b[43m\u001b[49m\u001b[43m)\u001b[49m\n",
            "File \u001b[0;32m/usr/local/lib/python3.10/dist-packages/torch/autograd/graph.py:768\u001b[0m, in \u001b[0;36m_engine_run_backward\u001b[0;34m(t_outputs, *args, **kwargs)\u001b[0m\n\u001b[1;32m    766\u001b[0m     unregister_hooks \u001b[38;5;241m=\u001b[39m _register_logging_hooks_on_whole_graph(t_outputs)\n\u001b[1;32m    767\u001b[0m \u001b[38;5;28;01mtry\u001b[39;00m:\n\u001b[0;32m--> 768\u001b[0m     \u001b[38;5;28;01mreturn\u001b[39;00m \u001b[43mVariable\u001b[49m\u001b[38;5;241;43m.\u001b[39;49m\u001b[43m_execution_engine\u001b[49m\u001b[38;5;241;43m.\u001b[39;49m\u001b[43mrun_backward\u001b[49m\u001b[43m(\u001b[49m\u001b[43m  \u001b[49m\u001b[38;5;66;43;03m# Calls into the C++ engine to run the backward pass\u001b[39;49;00m\n\u001b[1;32m    769\u001b[0m \u001b[43m        \u001b[49m\u001b[43mt_outputs\u001b[49m\u001b[43m,\u001b[49m\u001b[43m \u001b[49m\u001b[38;5;241;43m*\u001b[39;49m\u001b[43margs\u001b[49m\u001b[43m,\u001b[49m\u001b[43m \u001b[49m\u001b[38;5;241;43m*\u001b[39;49m\u001b[38;5;241;43m*\u001b[39;49m\u001b[43mkwargs\u001b[49m\n\u001b[1;32m    770\u001b[0m \u001b[43m    \u001b[49m\u001b[43m)\u001b[49m  \u001b[38;5;66;03m# Calls into the C++ engine to run the backward pass\u001b[39;00m\n\u001b[1;32m    771\u001b[0m \u001b[38;5;28;01mfinally\u001b[39;00m:\n\u001b[1;32m    772\u001b[0m     \u001b[38;5;28;01mif\u001b[39;00m attach_logging_hooks:\n",
            "File \u001b[0;32m/usr/local/lib/python3.10/dist-packages/torch/autograd/function.py:291\u001b[0m, in \u001b[0;36mBackwardCFunction.apply\u001b[0;34m(self, *args)\u001b[0m\n\u001b[1;32m    286\u001b[0m \u001b[38;5;28;01mclass\u001b[39;00m\u001b[38;5;250m \u001b[39m\u001b[38;5;21;01mBackwardCFunction\u001b[39;00m(_C\u001b[38;5;241m.\u001b[39m_FunctionBase, FunctionCtx, _HookMixin):\n\u001b[1;32m    287\u001b[0m \u001b[38;5;250m    \u001b[39m\u001b[38;5;124mr\u001b[39m\u001b[38;5;124;03m\"\"\"\u001b[39;00m\n\u001b[1;32m    288\u001b[0m \u001b[38;5;124;03m    This class is used for internal autograd work. Do not use.\u001b[39;00m\n\u001b[1;32m    289\u001b[0m \u001b[38;5;124;03m    \"\"\"\u001b[39;00m\n\u001b[0;32m--> 291\u001b[0m     \u001b[38;5;28;01mdef\u001b[39;00m\u001b[38;5;250m \u001b[39m\u001b[38;5;21mapply\u001b[39m(\u001b[38;5;28mself\u001b[39m, \u001b[38;5;241m*\u001b[39margs):\n\u001b[1;32m    292\u001b[0m \u001b[38;5;250m        \u001b[39m\u001b[38;5;124mr\u001b[39m\u001b[38;5;124;03m\"\"\"\u001b[39;00m\n\u001b[1;32m    293\u001b[0m \u001b[38;5;124;03m        Apply method used when executing this Node during the backward\u001b[39;00m\n\u001b[1;32m    294\u001b[0m \u001b[38;5;124;03m        \"\"\"\u001b[39;00m\n\u001b[1;32m    295\u001b[0m         \u001b[38;5;66;03m# _forward_cls is defined by derived class\u001b[39;00m\n\u001b[1;32m    296\u001b[0m         \u001b[38;5;66;03m# The user should define either backward or vjp but never both.\u001b[39;00m\n",
            "\u001b[0;31mKeyboardInterrupt\u001b[0m: "
          ]
        }
      ],
      "source": [
        "# Train the network!\n",
        "(train_loss_history,\n",
        "train_accuracy_history,\n",
        "val_loss_history,\n",
        "val_accuracy_history) = training(qnet, train_loader, val_loader, loss_function, n_QAT_epochs, lr=1e-5)"
      ]
    },
    {
      "cell_type": "code",
      "execution_count": null,
      "metadata": {},
      "outputs": [
        {
          "name": "stderr",
          "output_type": "stream",
          "text": [
            "100%|██████████| 79/79 [00:03<00:00, 20.44it/s]\n",
            "100%|██████████| 79/79 [00:05<00:00, 13.58it/s]"
          ]
        },
        {
          "name": "stdout",
          "output_type": "stream",
          "text": [
            "Validation Loss: 0.3675 Accuracy: 0.8708\n"
          ]
        },
        {
          "name": "stderr",
          "output_type": "stream",
          "text": [
            "\n"
          ]
        }
      ],
      "source": [
        "from brevitas_examples.imagenet_classification.ptq.ptq_common import calibrate\n",
        "\n",
        "#FIXME move to with \"explicit\" forma\n",
        "calib_loader = val_loader\n",
        "# initializes wmax,wmin, amax, amin\n",
        "calibrate(calib_loader, qnet)\n",
        "\n",
        "# Test over validation dataset\n",
        "loss_function=nn.CrossEntropyLoss()\n",
        "with torch.no_grad(), quant_inference_mode(qnet):\n",
        "  average_val_accuracy, average_val_loss = validate(qnet, val_loader, loss_function, accuracy_score)\n",
        "# Print valid statistics\n",
        "print('Validation Loss: %.4f' % (average_val_loss), 'Accuracy: %.4f' % (average_val_accuracy))"
      ]
    },
    {
      "cell_type": "markdown",
      "metadata": {},
      "source": [
        "---\n",
        "**ASSIGNMENT TASK:**\n",
        "\n",
        "What is the difference between PTQ and QAT? Explore what happens when you change the target precision in terms of weight and activation bits.\n",
        "\n",
        "---"
      ]
    },
    {
      "cell_type": "markdown",
      "metadata": {
        "id": "wfHflqYSRZxf"
      },
      "source": [
        "## **3rd quantization step: Fake-to-true**\n",
        "\n",
        "At this stage, we drop the \"fake-quantization nodes\" (the red nodes in the figure) and we transform all parameters to a fully integer representation, dropping the original `float32` values.\n",
        "For doing so, we must freeze the `min` and `max` range and the scaling factor for the input, also called *quantum*. This process is called **True Quantization (TQ)**."
      ]
    },
    {
      "cell_type": "markdown",
      "metadata": {
        "id": "6HxKQXxTELvB"
      },
      "source": [
        "![immagine_2021-11-24_232846.png](data:image/png;base64,iVBORw0KGgoAAAANSUhEUgAABTMAAAERCAYAAACn5TPhAAAgAElEQVR4nOzde1Tc9Z3/8RdoMkAuDJDAzEBgyA2SqJlUIxetwWiVdtXg2dUQrRV7bBd3T4/Y3bZ0T7fya22Nttuip56ie7YbTy+S9CJZL8XatGQ3JuAtk9goqA0DgZkhMTAkAYbJhd8fhK+ZDAnEhhkGno9zcsp8vu8Z3mmhgde8v59PzNDQ0JAAAAAAAAAAYJKLjXQDAAAAAAAAADAehJkAAAAAAAAAogJhJgAAAAAAAICoQJgJAAAAAAAAICoQZgIAAAAAAACICoSZAAAAAAAAAKICYSYAAAAAAACAqECYCQAAAAAAACAqEGYCAAAAAAAAiAqEmQAAAAAAAACiAmEmAAAAAAAAgKhAmAkAAAAAAAAgKhBmAgAAAAAAAIgKhJkAAAAAAAAAogJhJgAAAAAAAICoQJgJAAAAAAAAICoQZgIAAAAAAACICoSZAAAAAAAAAKICYSYAAAAAAACAqECYCQAAAAAAACAqEGYCAAAAAAAAiAqEmQAAAAAAAACiAmEmAAAAAAAAgKhAmAkAAAAAAAAgKhBmAgAAAAAAAIgKhJkAAAAAAAAAogJhJgAAAAAAAICoQJgJAAAAAAAAICoQZgIAAAAAAACICoSZAAAAAAAAAKICYSYAAAAAAACAqECYCQAAAAAAACAqXBrpBgAAwPR2/Phxtba2amhoKNKtACEuueQSLV68ONJtAAAA4DTCTAAAEFFbt27Vq6++Guk2gHO65557dO2110a6DQAAAIgwEwAARFggENCMGTMIizDpnDhxQv/3f/+nwcHBSLcCAACA0wgzAQBARA0NDemSSy5RampqpFsBghBiAgAATD6EmQAAAMB5bNmyRVu2bIl0G5hm/uEf/kGf+cxnIt0GAACTDmEmAAAAMIpAICBJSktL07x58yLcDaaTlpYWud3uSLcBAMCkRJgJAAAAnIfNZtPSpUsj3QamkdbW1ki3AADApEWYCQAw/PznP9eOHTsi3QammaGhIZlMpki3AQAAACAKEGYCAAwej0cJCQnKzs6OdCuYRtxut/r6+iLdBgAAAIAoQJgJAAgye/ZsXXbZZZFuA9OI3+9Xf39/pNsAAAAAEAViI90AAAAAAAAAAIwHYSYAAAAAAACAqECYCQAAAAAAACAqEGYCAAAAAAAAiAqEmQAAAAAAAACiAmEmAAAAAAAAgKhAmAkAAAAAAAAgKhBmAgAAAAAAAIgKhJkAAAAAAAAAogJhJgAAAAAAAICoQJgJAAAAAAAAICoQZgIAAAAAAACICoSZAAAAAAAAAKICYSYAAAAAAACAqECYCQAAAAAAACAqXBrpBgCMrru7W4cOHYp0G5hmBgYGIt0CAAAAAADnRJgJTFLf//73dfTo0Ui3gWkoNTU10i0AAAAAADAqwkxgkgoEAkpPT9fSpUsj3QqmkbfffjvSLQAAAAAAcE6EmcAklpCQwJQcwmrGjBmRbgEAAAAAgHPiACAAAAAAAAAAUYEwEwAAAAAAAEBUIMwEAAAAAAAAEBUIMwEAAAAAAABEBQ4AAgAAAIBJZGhoSL29vWppaYl0K5hm0tPTNXv27Ei3AQDnRZgJAAAAAJPI4OCg9u3bp3379kW6FUwzS5cu1b/8y79Eug0AOC/CTAAAAACYZCwWi5YtWxbpNjCN7N27VwMDA5FuAwDGRJgJAAAAAJNMfHy8UlNTI90GppEZM2YoJiYm0m0AwJg4AAgAAAAAAABAVCDMBAAAAAAAABAVCDMBAAAAAAAARAXCTAAAAAAAAABRgQOAAAAAAAAAgPPw+7zy+fxSnFkWizlyfXhdcnl9ktkii92iyHUSOUxmAgAAAAAAAOfRUJEra3a2rMU1cl70V/erua7+PK/rk3NTuYpzzYq3ZmvZqlValm1VUpxd+aXVqndd9IYmNcJMAAAAAAAAIAL8rjpVFOXKUVojl3+0CpfqyvKVf9/TeqWlVzIlKisnRzlpJmmwTU2bH9Jn84tU7Rz1yVMSYSYAAAAAAABwHpb8Yq1bt07r8u0X9dZub321ara3afAc112bylX2bIsGZVLO+p9qt9cnV3Ozmr0+tT7/oPISJXVt10OllWqcJnkmYSYAAAAAAABwHo7yWtXV1amuplT2sH3WZtVWv6JeSaaVFaqtLZfDSFLjZC+pVl3NOqVJUssmVdf7wtZZJBFmAgAAAAAAAJON36nG5uEP7cWlcoxSYikpVb5JknrlbJwem2dymjkAAAAAAABwHs21lapp8En2ElVWFstyet3fWKPKTU4pt1SVFUUyu+pVs7FGdY3Ncvn8irPkypFforKKMhXb4z5+QVedKqvr5XW6hm8xH2xWTUW56hWn3JJKVRRbJMXJeIb/XPeQn1EzTRBmAgAAAAAAAOfhqq/RE8/2SivtKjszzGyuU83Tr0grzSq2bFJF2bNqOXMDzLY2tTS9os01NXqwrkHVxeaRF1TtE0+rzShs0StPt0iSVtrLh8PMOIfyHSZtbhpUS32tGv35yj8rufTV16phUJIS5cgP3w3wkUSYOQ4NDQ06evRopNvANHPixIlItwAAAABgmjh+/Lj6+/v1wgsvRLoVTDM2m01XXnllpNv4mw26NqmsrEtd5jytryhXab5dZr9XjbXVqn62SV2De/REeZVKmqtVFCfJUa6a54vkqqvSA8+2SKY8PbipUkVxkjl3JJS0q2xjmWqKn1ZLS41KS3NVW1OufIsk+eWqq1RZ2WZ1SUpcU6Wqkot5NNHkRZg5hu7ubj333HORbgMAAAAAgAlz9OhRBQIBvfjii5FuBdPMzJkzp0SYqd4udWWt13MNtSo9Y0CyqLhExZZ85T+2R4NtdaptrFZRkSSzQ8UlDrm8NTI926JBWVRUUqKSsyYvzUU1aqizq7xio7ZufUAFWyuUlmVRnM+rtt5BSYlauX6jamrKlRvOv28EEWaOYWhoSJK0evVqLVy4MMLdYDr57W9/G+kWAAAAAEwjZrNZN998c6TbwDTidDr14YcfRrqNi8SkNRUbg4LMYXFylJUqt3qP9gx65XJ5JeMm9fHwy684mS1mmVp6NahBdbV9fHO6Ei2y282aHjOZwzjNHAAAAAAAAPib2JVfdI49Ky2Wj/fYPOdBPqPxq3FjsRyffUjPbm+TOe8f9ePn/6zd772n3bt+r/9+8Gbl+Fu09bENcuSXq977t/4dogOTmQAAAAAAAMDfwmSR/VzjkXHmM04lH/9L+hsrVfbN7eqVlLX+OTXUlurjuDRXjvxilZRWqrj4MTW1PK3S8nw115Vd0NxnNGIyEwAAAAAAAPibxCkubuyq8WeZfjXU1KpFkhLXqar6zCDzY+b8jaqpXClJ6q2vUW3zuD9B1CLMBAAAAAAAACYVl5qbfZIkk6NYxecZt3QUFStHkgadamy+kNvYoxNhJgAAAAAAADCp+OX3Dw5/aD7jNvXRmM0ym4Y/9PkIMwEAAAAAAIAJc/ToUX3rW9/S66+/HulWwu7cIaVdFstwQjnobNT57h73u5rlGpQks+zn3Lhz6iDMBAAAAAAAQMScOnVKhw4d0sDAQKRbiajgg87NKirJl0mS2mq1sfZcR5W7tGljnbokKa1IxY4JbnISIMwEAAAAAAAAIsBsPj1JOdio2tpGuVwuubzDqaa9rErlOSZJXdpaXqzyWqd8Zz7Z59Sm0mJVbO+VlKi8yiqVTP3BTMJMAAAAAAAAIBLiHPnKNUlSl7Y+UKDs7GzlVzacvlikjXXVWpdlknr36OkNq2SxO1RUXKziIofsllW6b3OLBmVSzr2bVFuRG8m/StgQZgIAAAAAAACRkFuhmo3rlJP48ZLP5ZLr9MdxueWqa6zXT+9doyyTNNi2R9tfeUWvbN+jtkEpMedmPfhcoxo3lcgekb9A+F0a6QYmq8OHD6u/v18JCQmRbgUAAAAAAABnaWlp0YIFC8KS3RRv8mloU+i6uaxe/rIxnhxXojr/0LkuKr+iTs3lPrlcXvnjzLJYLAq6W9xSpPJNDSqv8arZ2SyX1yfFmWXJdcgxDQ78ORth5hn6+/u1Z88e7dy5U++//75uueUWFRYWRrotAAAAAAAAnOWFF17QBx98IIfDoYKCAjkcUXz6TZxZ9twxgsk4i3LzLZoeN5OfG2GmJKfTKafTqV27dkW6FQAAAAAAAFyAvXv3yul0Ki4uTqtWrdINN9ygBQsWRLotTJBpG2YeOHBAu3bt0muvvSa/36+YmBhJ0tDQkPExAAAAAAAAJq+hoSGdOnVKkuT3+9XU1KRdu3YpOTlZ11xzjQoKCpSSkhLhLnExTasw8/Dhw3I6nfrjH/+o7u5uSR+Hl0NDw3sXEGQCAAAAAABEp5MnT0oazoBeeOEFvfDCC8rIyNCNN96olStXcjbKFBAzNJLiTVFn74M5gvASAAAAAAAgen2SbGdK7K85zU35ycyEhAQtXbpUH330kQ4dOqSenp5xPzclJUUpKSlyu906duyYsX7JJZfokksuUXx8vC69dMr/V4gICQQCOnHixJh1l156qWbOnBmGjjAdHD9+XMePHx+zLjY2VnFxcWHoCNPByZMnNTg4OGZdTEyM4uPjw9AR8LHBwUHNmDFDsbGxkW4F00ggEDB+5wDC5cSJExoaGtKMGTMi3QqmsL6+Pvn9/qC12NhYpaWlyePxKDU1VWbz+E/nPnDggPr7+0e9Nto2ghkZGVq6dKmWLl164c1j0pjyk5lnO3DggLZt26bdu3cHfQON9kV+yy236NZbb5Uktbe3y+PxyO1268CBA+rs7NT999+vJUuWGPUHDx7UCy+8IJvNJqvVKpvNptTU1PD8xQAAAAAAACLk6NGjam1t1f79++VyuXTkyBF9+9vfDqrZvn27Ojs7ZbPZZLPZlJGRoYSEBPX29urrX/+67rrrLq1Zs2bcn/OHP/yh3n///ZA8Z2hoSLGxsRoaGlJSUpJWrVqlG2+8kb0zp4hpN1a4YMEClZWVqaysTE6nUzt37tSePXsUExOjmJgYnTp1atTx5MzMTGVmZp73tXt6etTc3KzXX389aP3aa6/VPffcc1H/HgAAAAAAAJE2MDCgqqoq+Xw+Y81qtSo7Ozuk9kKCygsxMqAWGxurU6dOKT4+XqtWrVJBQYFycnIm5HMicqZdmHkmh8Mhh8Oh/v5+OZ1Obdu2TR0dHZ/49XJycvSDH/xAAwMD6ujokNvtltvt1vz580NqH3/8cZ04cUJWq1Xp6enGNCfvEgAAAAAAgMmgo6PDuEt15E9hYaE++9nPGjXx8fHKyclRenq6srOzZbfbw7oV2pkDaZdffrkcDocKCwvD9vkRftM6zByRkJCgwsJCFRYW6vDhw9q5c6d27tz5iV8vPj5eS5YsCboF/WyLFi2Sy+XS3r171djYaKx///vfDwo0jx07pkAgoOTk5E/cDwAAAAAAwLkcPHgwZJu8bdu2acuWLcbjlJQU2Wy2UQe2vvjFL054j+dis9l07bXXqqCggJPKp4lpt2fmhejv7w/LN8KRI0eMdzjWrl0bdO3VV1/Vb37zG8XFxRn7cFqtVi1fvlzp6ekT3hsAAAAAAJg6jh07Zuxr2draKpfLpf7+fn3nO99RWlqaUef1etXa2mrkEBM5bflJ98wMV26DyYXJzPMI1zfE3LlzNXfuXOXm5oZcu+yyyxQbG2uEnW+//bYGBgZ02223hYSZf/7zn2W1WmW1WpWYmBiW3gEAAAAAwOQzMDCgo0ePhkxc/uhHP1JnZ6ek4anGK664QtnZ2ZozZ05QncVikcViCVu/nwRB5vREmDnJjYSTZ/L5fIqNjQ1aO3r0qGpra43H8fHxysjIkNVq1d133x2WXgEAAAAAQPj19fVp9+7dQftb+nw+LV68WF/72teCatetWyeTyaTs7GyZTKYIdQx8coSZUchsNoeszZkzR48++qg8Ho86OzuN//NyuVwhtQ0NDfJ6vbJYLEpPT1d6ejrvZgAAAAAAEAUOHz6s+Pj4oN/jjxw5op///OeSpPT0dC1evFg2m012uz3k+StXrgxbr8BEIMycQpKTk5WcnKwVK1act87j8WjHjh06ceKEsTZnzhzdd999Yz4XAAAAAACER3t7u5qbm+V2u+X1etXZ2alAIKB777036MRuq9WqqqqqkDs7gamIMHMa2rBhgzZs2KBDhw4FTXKePfHZ3t6un/70p8rOzpbdbld2draysrImdNNfAAAAAACmE5/PJ7fbrcOHD+vTn/500LXXX39dr776qhISEmSz2ZSXlyer1arFixeHvE40B5kzZ87UddddJ5vNFulWEAU4zRzn5Ha79fLLL8vtdhubA0tSYWGh7r333gh2BgAAAABA9PrFL34hj8ejjo4O+f1+Y/3JJ58M2seyt7dXkjjkFzgDYSbGzev1yuPxaMaMGbrsssuCrv3gBz9QIBCQzWYL+pOSkhKhbgEAAAAAiJyRsyzmzJmjnJycoGsPP/yw4uLiQn6HTkpKilC3QPQgzMRF8fzzz2v//v1yu906duyYsf7d735XqampxuNjx44pEAgoOTk5Em0CAAAAADAhWltb9eqrr8rtdsvj8RjrV155pb785S9HsDNgamHPTFwUt99+u/FxX1+fOjo65Ha7g4JMSWpqatKWLVtkMpmMd56sVquWLVumjIyMcLcNAAAAAMC4tbW1qbW1VS6XS7fccovmzZtnXPP7/frrX/8qm82myy67TFar1fi9F8DFw2Qmwsrr9Wrfvn3yeDzGyP3AwIBuueUW3XrrrUG127dvV2pqqmw2G/uDAAAAAAAi4tVXX9Vbb72l1tZWY81kMukrX/mKlixZEsHOgOmJyUyElcVikcViCVrz+XyKjY0NWuvr69OvfvUr43F8fLwyMjJksVj0+c9/Piy9AgAAAACmtkAgoM7OTnk8Hnk8Hp06dUp33HFHUE1nZ6diYmK0du1aZWdny263h9yFCCB8mMzEpNXd3S2v16vOzk5jivPEiRP693//96C67du3y+PxyGKxyGazKSMjQwkJCRHqGgAAAAAw2fl8Pj3++OM6fPhw0PrixYv1ta99LUJdARgPJjMxaSUnJys5OVnLly8/b11XV5d27Nih48ePG2tz5szRvffeq8svv3yi2wQAAAAATDJtbW3G/pZtbW267rrrVFRUZFw3m83KzMxUfn6+bDabLBYL5zgAUYLJTEwZhw4dCprkvOmmm4L+Mero6NATTzyh9PR0YyNmq9Wq9PR0xcfHR7BzAAAAAMDF8Oc//1m1tbXG47i4ONntdl1//fVyOBwR7AzAxRKdYabfq+Zmr2TJVa4lbrxPks/lktfnl8wWWewWmSe0SUw2Ho9HL7/8sjwejw4cOGCsj3YbwcGDB5WYmCiTyRTuNgEAAAAAZ+nr6zMGV0b2uOzo6NBjjz0W9HvbO++8o7/85S+y2+3KysriJPFJyudyyuUzy+6wjzub8Xtdcnl98seZZbHbNe44CFNOFIaZfjVW5KvoiWY5HnWqsTL3/OXeBlVXVammtlEtvYMfr5uylFdSqsqqKpXknvUd0Fyj4pKNavaPv6u43ArV1VdojG4wiXR1dcntduvSSy8NuR39O9/5jjo7O5WUlCSbzWZMc65atYopTgAAAAAIs2984xvy+XySpJkzZxp32/393/+95syZE+HucEG8m1TiuE9b/ev1vK9WJeer9btUX12pqpp6NbX1nnEhUVlrSlRRWaXyYruCU51GVeaXqtZ7AT3F5auqoVZllrFLEXlRt2emt7ZMpU/s0aDGnpjzNW5USck3tb1r+LEpMU12i1l+r0ttvW1q2vyYbq+v1z/W1qum+MyvWJ+8LW1qu5DG4ry6gOwTk0BaWprS0tJGvVZSUqL29nbj4KF9+/ZJknJzc4PCTI/HI5fLJZvNJpvNphkzZoSldwAAAACYCkaGTDwejzFxabVa9aUvfSmo7o477tDMmTNls9k0b968CHWLv5m/URtLKrS1S1LiGLXeelUUl+qJPadDTFOisuwWxfm8aunqVdv2Z/XQ9nrVPVqnusr8MyY8/fJ529R2IaGOyS4/oU7UiKIw06/m2jKVlG0eX8joq1dF6ekgM22NHqypUVVJ7ukvbr9c9VUqL3tMr3Tt0dOlZcp31qvMfvq5lnxVPPqoxgrxXfXVenr78HfgmvJSpjKnkCuuuEJXXHFF0FpHR4eSk5OD1vbu3avf/e53xuN58+bJarWqoKBAV155ZVh6BQAAAIDJ7tChQ5o9e3bQcMh7772n6upqScPTltnZ2VqxYoWWLVsW8vyrrroqbL1igvgatLGkVN9s6h27Vl5tKjsdZJqydHNVjWoqimU/PYLpa65VVVm5nmjq0vZvlqo816nakpE4066SikdlHyOc9DXXqebZJvVKSisuU7H9/PWYPKLjNnN/s2orylT+9PAX2TCT8s5zm7mrOl+5DzVpUDn6xz83qqYodBcGf2Ol8ose055BKefBXWquzh9/T65NKs6/T690SVn3Pq/GTSViGnl66ujoMN5JHJnkvOaaa1RcXBxU98wzzyg1NdWY4uSkPAAAAABT0f79+/X+++8bvyN5PB4dP35c5eXlWrVqlVHX19enPXv2yG63s7flFOdtqFZ5WaW2tp2x/V/ieW4zb6xUbsFjapFJeY82qqHSoZAtMn31KnN8Vs+2Saa8H8vZeAFb//md2lhUpG829cq08kHVN1ariD04o8Ykn8z0yVlbpcrKGr3SNijJpJx1xYqr36o9g+d7nlf1dU4NSjLllatilCBTkuLyy1WeX60Htg/K1dgol/I1riDe79TG0nK90iWZch7UphqCzOksIyNjzGByYGBA7e3teuutt4LWrVarqqqqJrI9AAAAAJgQx48f10cffSSr1Rq0/tprr2nHjh1KSEhQRkaGCgsLZbPZlJWVFVQ3a9YsFRYWhrNlhJu3QdUVFaravGd4OC0xT+scXm3dfv57bp0N9WqRJFORystHCTIlyVysitKVevaxPRp01qvRV6HccZ0m5FNDRamqmnolU56qNm0kyIwykzzMdKqm4gm90iUpcaXu3bhJ1WUulZu3as95n+eXObdYN8srX77jPMm8RebTX+iDPq984+2qukxVTYOSclRewxc9xhYfH69HHnlEktTW1mbsBzMwMBBS++tf/1p/+ctfgiY4LRZLyA8IAAAAABBOTU1Nxt1obrdbH330keLj441bxUfccsstKikp4WAeyFVXpcrNw+eeZN1coZqaKtlr88cMM2V2aN3NZnlVLMd5AkqL3SyTpEH55fdJ4zka3d9QqfKnWzQok/KqalThINSJNpM8zJQUl6U1D1ZpY2WZ8i2S5BrHk+wqralT6Zh1zXI2D494miz28U1XumpUsXGPBiVl3VutKpJMXKCsrKyQdyTPZLVajYOF3n77bWO9rKxMBQUF4WgRAAAAwDR19OhR/fWvf9XcuXO1cOHCoGs/+9nPJEnz589Xenq6Vq9ePert4UlJSWHpFdHBvHK9KjZuVMXpU8ebx/EcR/km1ZWPVeWXs7FZg5IUZ5FlPKGO36mqik1qkWTKqVB1xTmmPjGpTfIwM1/VzS7FTdBXlq9uozYNzy3LUVI0jjDTq9qKKm3vlZR4s6o2Fo8n9AcuyLXXXqtrr71WkjQ4OGi867l06dKguo6ODlVXVys9PV3p6emyWq2yWq1KT08P2lQbAAAAAM7l4MGDevvtt+VyudTa2iqfb/iexU9/+tMhYebDDz/M3pa4IPayernK4yYmMPTWqrquS5KUmF+s/HF8EldNhar3DErKUml15bieg8lnkoeZcRMWZMpbp4qKzeqSpLQSVZaNvU2sv3GjqrZ2STJpZflGlbFRJiaYyWRSdna2srOzQ64lJibqc5/7nFwul959911t27ZNkrRw4UJ94xvfCKo9ePCgEhMTZTKZwtI3AAAAgMmjv79fnZ2dcrvdys/PD/q9oK2tTdu3b5fNZtPVV19tbHc12jZXBJm4YHETFGTKpU1llXqlV5JyVFZZOvaAmq9eVRu3D5+vsqZSVcWMp0WrSR5mThBfoypLyvRsmyRlaX1NtUrG/Br2qm7j8CiyEotVWemY6C6B85ozZ47Wrl1rPPb7/dq/f79OnjwZUvvMM8/owIEDMpvNxj6cVqtVDodDCQkJ4WwbAAAAQBi8/PLLam5ultvt1tGjR431zMzMoGGJ1atXa/Xq1ZFoEfiEvKovL1H5K8PDZjkP1oxrC0DXpirVdklSlsqqysZ3ADQmpekXZvoaVFlcoseaeiUlas2P67SpZBwjls21qq7vlSRllVWMI/wEwisuLk7Lly8f9dq6devU1tZm3LL+7rvvSpKWLl0aFGZ6vV61trYa78TOnDkzLL0DAAAAuDB9fX3661//qra2Ng0NDem2224Lut7W1qa+vj4tW7ZMNptN6enpslgsSk1NjVDHwMXgVV15sUqfPn2Wyboa1VUXjWMLwEZV1zQNT2WuLFcF559EtfCHmc5aVdY6z3HRoqLyChVPUDzud9WqvLhMz7YMSkrTmh/XqX6cm706N9WoafirXuXlRWwQi6hy+eWX6/LLLw9ac7vdmjdvXtDaX/7yF/361782HqekpMhmsykvL493awEAAIAI6+7u1m9+8xu1traqu7vbWF+xYkVI7QMPPBDO1oCJ53eqprREFVvbhk9HX1ej+toyjb1poOSvr1Ht6TNTiirG9xxMXmEPM/3Ntap+bOvwaVMhsuQvmZgw09ewUSWl39T2LkmmLK2vqdemstxxhpKN2lTXIkky5ZeplK96TAGj7Xdz4403Kjc3Vx6PRx6Px9hXp6urK6T2mWeeUWpqqrGnTkZGRjjaBgBcRM8884yOHDky7vqsrCzdcccdE9gRAExv3d3dcrvdxs/iBQUFysnJMa5fcskl+vDDD5Wdna3rrrvO2F+fvfEx5XnrVVFSqieaeiWZtPIfa1VXUzLOW8X9aqitHz4zJbFYZWzGQz8AACAASURBVOO5OxeTWvgnM+PiZDaZ5DvHtYs/8ehXc22ZSso2q2VQUmKeHqytU3XxBXzxOutUfzrBzy8Z7zcLEJ0yMjLGDCYHBwfV3t6ut956K2jdYrHo//2//zeR7QEALpLu7u6Q/x8fi8vlIswEgAlQX1+vl19+WYODH4/9xMfHBwWZ0vAhoI8//ni42wMiyu+sUUnJA3qlTZLSdPOjdaqtzB/HreUjL9Co2vrTp54XlYpzf6Jf2MPMuJJaef3h+mx+OWtKVPzAKxoeyFyvmvpNKsu9sMi0uaFBLkkyOVRSQpQJmEwmPfLII5Kk9vZ2Yy/Ovr6+kNrf/va32rt3r6xWq2w2mxYsWCCLxTLq6YgAgPBbvXq1Fi5cOGad0+nU/v37w9ARAEwt/f39am1t1f79+9XW1qa2tjb94Ac/CKqZP3++Vq9ebextabValZiYGKGOgcnD11ip4uLHNDyQuVL31tZp04XmMs46NXRJwwNqxeMPQTFpTekDgFybSlVyOshMzHtQtXXVupCBzGE+NdY7h2+LtxepiCwTCJKZmanMzMxzXrdarXK73Wpra9Pu3buN9S984Qu65pprgmq9Xq8sFkb+AWCyGhoaUktLy7hq09LSZDbz6wKA6e3hhx+W1+s1Hqempio3N1d+v19xcR8P2Vx55ZW68sorI9EiMGn5ndUqGQky09bo0bo6VeZf+M8WrsZGeSXJ5FBxET+bTAVTNsz0OzeqtHyr2iSZVj6ouvpqfbKvWacancOj/omOfDaJBS5QYWGhCgsLJQ3fnj4yxXn2LTMHDhwwpj1H3o1OT0+X3W4/5yntAIDwOXTokE6cOKEf/ehH46pPS0vTd77znQnuCgAiw+PxyOv1GnvMe71eLVmyRBs2bAiqW758ua6++mpjb8v4+PgIdQxEGX+DKksrtb1XUuIaPVpfr0rHJ9mY0K/GhtMDapZ85TOgNiVM0TDTpU0VG4dPH1eaiood8tbXqvZ8T4nLVXGJI3Tc2NWsZp8kmZSbP76TzwGMzmQyGT/InS0pKUn33HOPsdn5Bx98oDfffFNLly4NCTN3796tmJgY2Ww2paamhqt9AJjWhoaGJEnXX3/9mLXvvfeeBgYGJrolAIiIt956S88884zx2Gw2G4dinm39+vXhbA2YMpzVFappGR4syyoqlqW5TrXN53uGWY7iYuWGhDrNcjYPv44p18GA2hQxNcPM5lrVNPaeftClVx67T6+M9ZysB7WrpFr5Z6+7nHKd3oPZbuf2V2CizJ49W9dee23Q2sDAgI4dOxZSu3XrVnk8HknSpZdeKpvNJqvVqnXr1iklJSUs/QLAZHXw4EH19PSMWXchp5iPiI2NHdebSC6XizATQNTx+/3GXURn/nnggQeC3oxftGiR7rnnHmN/S04SBy62Bm2q2aOR47Datn5T920d4ymmlXrUWazKs8NMv0uu0zs9WOx29sucIqZkmOl3Nqp5cOy6cb2Wzze8t4IssliYywTCKT4+ftRbcb7+9a8H3dLT0dGhffv2qaSkJKjuww8/1I4dO4yw02azEXYCmNJOnjyphx9+WKdOnYp0KwAwaQUCAXV3d4fs1f7MM89o3759xuOMjAwtWbJEM2bMCKozm80hb8IDuIhcTjm9Y5eNi88nn1+STLIwoDZlxAyN3DMEAFNMU1OTamtr1d/fb6zNnDlTN998s2655ZYIdgYAEyMQCOgrX/mKFi5ceN7D2aThCaTGxsZxn2b+hz/8Qb29vbrjjjvGrH399dfV3d2txx9/fNy9A8BECAQCeuutt4ytjNxut7q7u5WSkqLvf//7QbXvvvuuBgYGlJ6ezqGUADCJTcnJTACQpLy8POXl5enIkSNBP8DOnz8/pLayslJJSUnGfkcj05ycxAsgmoy8Rz179mylpaWdt7avry8cLQFA2Ph8PsXGxmru3LnG2smTJ7Vp0yZJwweTZWVlqaCgYNT9LTl0EgCiA2EmgClv7ty5mjt3bsgJ6iMCgYBWrFghj8ejN954Q4ODH+9T8fTTTwfVjvZDMgAAAMLL4/Ho3XffldvtNt609vv9uu222/R3f/d3Rl18fLy+/e1vKz09PYLdAgAuJsJMANPezJkzdc899xiPe3p65Ha75fP5Qmp///vfq6GhQbNmzZLNZlN2drZSU1O1bNkyzZs3L5xtAwAATHnt7e1yuVy67rrrgtbfffddbdmyRSaTSTabTVdeeaWsVuuo05UEmQAwtRBmAsBZkpKSlJSUNOq1/Px8zZo1S62trXK5XPrggw8kSV/84hdDwkyPxyOr1Trh/QIAAEwVTqdT77//vtra2vThhx8a6zk5OUHbZ+Tl5WnVqlVKTk6ORJsAgAgizASAC5Cdna3s7OygtYMHD2r27NlBa+3t7fre974nafgkTIvFIpvNJrvdrhUrVoStXwAAgMmmq6tLbrdbl156qS6//PKga//zP/+jzs5OZWVlae3atcrMzJTdbg/ZB/jsn70AANMHYSYA/I1SU1ND1jIzM/Xwww/L5XKpra1N+/fv15tvvqlFixaFhJlOp1OSZLPZRn0tAACAaOb1evXSSy/J4/HowIEDxvqiRYtCwswHHnhg1MMaAQAYQZgJABNk5FT0wsJCY+3QoUMhdS+88II6OjqMx5mZmbJarbr11lv5YR4AAESFjo4OuVwutbe3q7CwUHa73bg2NDSk9957TzabTTfccIOsVqusVuuoe1nysw8AYCyEmQAQRqP9gP6v//qv6ujokNvtltfrVWdnp959912tW7cuqG7//v3avn270tPTZbVaZbPZlJKSEq7WAQAAgrz22mvauXOn2tvbFQgEJA0frJibmxsUZlqtVv3whz+MVJsAgCmGMBMAIiw+Pl5LlizRkiVLzlvX3d2tvXv3qrGx0VibOXOmbrzxxpDgEwAA4G/V3t4uj8cjt9ut3t5elZWVBV0/ePCgAoGACgsLlZWVpczMTGVkZESoWwDAdEGYCQBR4qqrrtJVV12lo0ePyu12q7OzU263e9R9Nr/5zW/KbDYbE5wj05xmszkCnQMAgGjyrW99K2RrnNF+3rj99tt1++23h6stAAAkEWYCQNSZM2eOcnJylJOTc86a5cuXy+Px6K233tJrr71mrP/kJz/RjBkzjMc+n08xMTFKTEyc0J4BAMDkcPabogsXLgza31uSFi9erCuvvFI2m01Wq1WZmZkR6hYAgFCEmQAwBd1zzz3Gxz6fT263W93d3UFBpiT94Q9/0LZt25SQkGAcWGS1WnXZZZdxsjoAAFPIW2+9pV/84hfq7++XNLxVTWZmphYtWhRSe/bt5AAATCaEmQAwxZnN5nPeXp6Xlyez2Sy32y23263GxkYFAgHFxcUFhZmBQEA7d+6UzWZTRkaGEhISwtU+AAA4j4GBAWPK0u12y+PxqLOzU1/72teUlpZm1CUnJ+tTn/qUsrOzZbfb2dsSABC1CDMBYBrLyspSVlZW0Nrhw4cVHx8ftOb1evXcc88Zj+fMmSObzaalS5fqlltuCUuvAAAg1BNPPKHW1lbjcUZGhpYtW6aYmJiguuzsbGVnZ4e7PQAALjrCTABAkJSUlJC1zMxMPfLII8aJpiMTIC6XK6T2xRdfVH9/f9DhQ3FxceFoHQCAKeOjjz4ypi1H/syaNUsPPfRQUN3nPvc5nTx5UjabLWgSEwCAqYowEwAwLvPnz9f8+fN1xRVXnLeuo6NDu3fvDlozm83653/+Zw4QAADgLH19fRoaGtLs2bONNY/Ho6qqKuPx7NmzlZ6ePupk5Vj/LgMAMNUQZgIALqry8nJJw7eme71edXZ2qrOzM2Tfzr179+q5554zJjjP/DNz5sxItA5MWjt37lR3d/eYdSdOnAhDNwA+qUAgoLa2NrlcLrW2tqq1tVXd3d1av3691q5da9RZrVZt2LBBVqtVGRkZmjVrVgS7BgBgciHMBABMCIvFIovFIofDMer1hIQEZWdny+v1at++fcZ6fn6+7rvvvqBaj8ejefPmhZzGDkwXzz777LjqhoaGQvbJAxAZnZ2dSk9PD1p76aWXVF9fr7i4OKWnp2v58uXGf56tqKgoXK0CABBVCDMBABGxePFiLV682Hjc2dkpj8ejxMTEkNqNGzfK7/dr3rx5xj6cVqtVeXl54WwZiKgVK1bosssuO2/N8ePH9bvf/S5MHQEY8eabbwbtbdnV1SVJevLJJ2UymYy6tWvX6vrrrw+5WwEAAIwfYSYAYFJIT08PmWAZcffddxuHD7ndbu3du1eSQsLM/fv366OPPpLNZlNGRsaE9wwAmD4GBgbU2tqq2NhY5ebmBl37zW9+o56eHqWkpMhms8nhcMhqtYZMSo/2hh0AALgwhJkAgEnv6quvDllzu90ha42Njdq+fbvxOC0tTVarVddff33IL54AAJxPT0+P3njjDbW2tsrr9Rr/7lx++eUh/6ZUVFQoOTmZPZ8BAAgDwkwAQFSy2Wwha3fccYeuueYaud1uY5LzwIEDOnLkSFBdIBDQzp07jQnOhISEcLUNAJhE/H6/3G63Ojs7dcUVVwRNTnq9Xv32t79VWlqa0tLStHr1atnt9lFPFLdYLOFsGwCAaY0wEwAwZcyYMUNZWVnKyso6b11PT4+2bt2q/v5+SdKcOXNks9m0ePFi3XbbbeFoFQAQIQ0NDdqzZ4/cbrd8Pp+xXl5erlWrVhmPFy5cqB/+8IeaM2dOJNoEAADnQJgJAJh20tLS9OMf/1iHDx9We3u79u/fr9bWVrW1tYXU/v73v9fRo0dltVpls9lks9kUHx8fga4BAOMxsrdlW1ubfD6fNmzYEHS9s7NTPT09WrRokTGhb7FYQqYrTSZT0OE9AABgciDMBABMWykpKUpJSQmaxDlbZ2en3njjjaA1s9msf/qnfxpzAhSYrk6cOCG/368XX3xxXPVLlixRTk7OBHeFqWxgYEC/+tWv1NraqkOHDhnrVqs1pPbuu+8OZ2sAAOAiI8wEAOA87r//ft1///3q6uqSx+NRZ2en3G53yIm077zzjn75y18a05s2m01Wq1Xp6ekcCIFp5+jRoxocHNQLL7wwrnrCTIylt7dXbrfb+LNixQp96lOfMq7Hx8erpaVFCxYsUH5+vrKzs5Wdnc2eyAAATEGEmQAAjMPIARAOh2PU67NmzdLChQvl9Xq1b98+Y3316tW6//77g2o9Ho/mzZunGTNmTGjPQKStX79+zJo//elPGhoaCkM3iEY7d+7Uli1bNDAwYKyZTCalpqaG1D7++OPhbA0AAEQIYSYAABfBwoUL9eUvf9l4PDI9NHfu3JDaxx9/XP39/Zo3b55sNpvS09NltVqVl5cXzpYBIOI8Ho+8Xq86OjrkdrtVVlYWtE9lcnKyHA5H0N6WycnJEewYAABEGmEmAAATYORW89HcddddQbdL7t27V5JCwsyRvd9GfokHgKniySefDJpil6SkpCT5fD6lpaUZa7m5ucrNzQ13ewAAYBIjzAQAIMxWr14dsuZ2u0PWmpqa9Oc//9l4nJaWJqvVqjVr1mj58uUT2iMAfBIHDx6U1+s19hce2VajvLw8qC4zM1MWi8V44yc9PZ2TwwEAwLgQZgIAMAmMNsVZWlqqgoICeTwe4/ChAwcO6MiRI0F1gUBA//Vf/6UFCxbIarUahw8BQDjt379fjz32mPF47ty5stlsysrKCqktKSkJZ2sAAGAKIcwEAGASy8rKGjUIOJPP51N7e7ucTmfQ+vLly/Xggw9OZHsApoFAIGBsizHyxorH49Gdd96pVatWGXU2m0133XWXMWnJSeIAAGAiEGYCABDlUlNT9eijj2pwcDBoL85LLw39Z/4///M/5fV6jQnOkcOHRjsZGMD04/V6ZbFYgtY2b96sHTt2GI8tFosyMzM1e/bsoLq4uDitWbMmLH0CAIDpizATAIApwmQyKTs7W9nZ2eesycrK0rFjx/T+++/rjTfeMNYfeuihoEM2BgYGdOzYMc2fP39CewYQOYcPH1Zra6va2tq0f/9+tbe369SpU3rqqaeC6goLC5Wbm2u8AQIAABBJhJkAAEwjN910k2666SZJw4HlyCEdCxYsCKpraWnRT3/6U82YMUNWq9WY5FyyZIkWLVoUidYBfEJHjhzRyZMnlZSUFLT+b//2b8bHWVlZysvLG/XNkEWLFvF9DwAAJg3CTAAApqn4+HgtXrxYixcvDrmWmZmpu+66S16vVx0dHdq3b5+amppUUFAQEmrs2rVLc+bMkc1mU3JycrjaBzCKw4cP65133jG+d91ut/r6+nTdddfp7rvvDqotKytTamoqQSUAAIgqhJkAACBEcnJyyN53fX19GhwcDKn91a9+pUAgIGn4Vvf09HRZLBbdeeedio+PD0u/wHTjdrvlcrnkcDiCDtpxuVx67rnnNHPmTFksFl1++eWy2WxaunRpyGsUFBSEs2UAAICLgjATAACMy6xZszRr1qyQ9UceecSYAvN4PHK73XrnnXd07733BtXt3r1bH3zwgbKyspSdnc2hQ8AFePfdd/Xee++pra1Nra2txhsIKSkpysnJMeqWL1+uRx55hP1uAQDAlEWYCQAA/iaJiYlKTEwMClRGc+jQIe3YsUPbtm2TNHybu91u10033aTly5eHo1VgUjt06JA8Ho8CgYCuuuqqoGt//OMftW/fPmVkZKigoECZmZmy2+3KyMgIqouPj2ciGgAATGmEmQAAICxGDh/q6emRx+MxDh8aGhoKqgsEAvrZz34mm82mBQsWKC0tTTabLUJdAxOnt7dXzz//vNxut9xut44fPy5peNry7DDz7rvv1ty5czVjxoxItAoAADBpEGYCAICwSkpKUlJS0jmnMQcGBnTJJZeosbFRL730krGek5Ojr371q+Fqc8Jt3rxZHR0dkW4j4gYGBnTs2DH9x3/8x7jqly5dqltvvXWCu7q42tvb5Xa7lZGRETRJaTKZtHfvXtlsNl1zzTWyWq2yWq0h05bScMAJAAAAwkwAADDJJCYm6ktf+pIkqb+/X62trdq/f79OnDgRUvuzn/1MnZ2dslgsstlsSk9Pl9VqVVpaWrjbvmB/+tOflJCQMOo+pNOJ3+9XTEyMenp6xqz1+XwaGhqa9GGm0+nUa6+9Jo/Ho0OHDhnrn//854OCyri4OP3oRz+KRIsAAABRizATAABMWgkJCVqxYoVWrFgx6vUFCxboyJEj+uCDD/Tmm28a6w8++GDQ5Kff79eRI0cm3aFD2dnZuuyyy8as27x5cxi6iZzExEStXbt2zLo//elPYehmbCNbJIxsl/DAAw8EXe/u7tZHH32kJUuW6MYbb9TChQuVmZkZoW4BAACmFsJMAAAQtT7zmc/oM5/5jKTh25U7Ozvl8XhCgqP3339fTz31lGbMmGHcymuz2bR48WItXrw4Eq0jCm3cuFGtra1BaykpKert7VViYqKxtnbt2nGFswAAALhwhJkAAGBKiI+PP2c4mZGRobvuukter1cdHR3at2+fmpqalJeXF1Lf1NSkhIQE2Ww29imcRgYGBtTR0WEcxjN//nzdeOONQTULFy7U4sWLZbPZjD8zZ86MUMcAAADTE2EmAACY8pKTk7VmzZqgtb6+Pg0ODobU/vKXvzTWZ86caezDeccddyghISEs/SJ8PvjgAz3zzDM6cuRI0Po111wTUnvnnXeGqy0AAACcA2EmAACYlmbNmjXq4Tvf+973jOm8kT979+7VF77whaA6p9Opd955Rzabzbht3Ww2h6t9jNOHH34ol8ul1tZWuVwufeELX1BOTo5x3Ww2KycnJ+gAqcm2tyoAAAA+RpgJAABwhjlz5ignJyco8BrNoUOH9MYbbwRNd8bHx+v2228PmQJF+G3evDnowCCr1aqsrCzFxcUF1c2fP1/3339/uNsDAADAJ0SYOQl5PB75/X5lZ2dHuhUAAHAOI4cP9fT0GKdau91uzZs3L6jO7/ersrJSGRkZQXst4pM5fvy49u3bFzQ5GwgE9PDDDwfVrVy50tjf0mq1RqhbAAAgDd8pMXfuXO5+wEVBmDkJvfjii2pvb9d3v/vdSLcCAADGkJSUpKSkJC1fvnzU64FAQA6HQ263W7t27VIgEAhzh1PH0NCQXC6XnnzySUlSQkKCrFarFi1aFFKbm5sb7vYAAMA5/OQnP1FBQYHWr18f6VYwBRBmAgAATKC5c+eqrKzMePzRRx/J7XbrqaeeimBX0SkmJkapqanasGEDe5QCAABMU4SZAAAAYTRv3ryQW9ExfomJieecggUAAMDUFxvpBgAAAAAAAABgPAgzx+HAgQPasmVLpNsAAAAAAADAKEaym8OHD0e6FUwwbjM/h8OHD8vpdGrHjh1yu92SpDvvvDPCXQEAAAAAAOBs/f392rZtm7Zt2yabzaZrr71WBQUFSkhIiHRruMgIM8/Q39+vPXv2yOl0yul0GutDQ0OKiYmJYGcAAAAAAAAYD4/Hoy1btmjLli1yOBxyOBwqKCiIdFu4SAgzJSO83L17t/x+f8h1gkwAAAAAAIDJb2hoKOjjvXv3yul0qra2VqtWrVJBQYFycnIi2CH+VtM2zDxw4IB27dqlt99+Wz09PYqJidHQ0NB5pzBbWlrC0tvRo0cVCATC9vkAAEBk9PX16eDBgxet9uTJk5KkY8eOqaur67y1I2/gHjlyZFw9HD9+XKdOnRpX7YkTJyRpXLVDQ0M6fvz4uHsYGBjgZyQAAKLMqVOn1NPTM6H/hh84cCBkLSYmRqdOndLQ0JD8fr+ampq0a9cuJSUl6VOf+pRuuOEGpaSkTFhPmBgxQ2dG1tPA4cOH9d///d/64IMPIt3KOY38T8JEKAAAkGS86ToVXeh2Pmz/AwBA9AnHv98jn2Osz3X29SVLlui+++4j1Iwi0y7MHLFz5045nU7t2bNH0sdp/cjHo/nqV78alt5eeukldXV16Ytf/GJYPh8AAAi/gwcPanBwcFy1PT09On78uFJTU8esPXr0qAYGBsZVe+TIEcXGxmr27NnGmsfj0Y4dO3TjjTcqKSkpqH5gYEDx8fFjvm5fX59iY2PHXStJs2bNGrNWkhITEzV37txx1QIAgMnhqaee0vLly3X99ddP2Oc4cOCAfv3rX58zzBwaGlJsbKzxBvHKlStVWFgoh8MxYT1hYkzb28wLCwtVWFio/v5+7dq1K+jU8nMJ154K//u//6uenh72cAAAYAqbrP/O7927Vzt27NDVV1+trKysSLcDAACmgNjYWCUlJYX155+zQ82YmBilp6frhhtukMPh4JTzKDZtw8wRCQkJuuGGG3TDDTfo8OHD+uMf/6i3335bPp/PmNbkViYAAAAAAIDJb+RW85EpzKSkJF1zzTUqLCzkVvIpYtqHmWdKSUnR+vXrtX79erW0tGjXrl3nPOEcAAAAAAAAk098fLxWrVqlG264QQsWLIh0O7jICDPPIScnRzk5OSorKzP21wQAAAAAAMDkxD6Y0wNh5jiM7K8JAAAAAACAyWdkKG3i+eSsr5fT5ZVPcTJbcpVflC+L3yefX4ozW2Qxh6GNieD3yuXyyi+LLHaLzHEX+HyfVy7vyH8vdtkv+AXGJ3ZCXhUAAAAAAACYSlx1KnPYteqzG3TfAw/poQce0H23V6jO26AKh1XZ2VYVb5yEd/Z6G1TX4D3nZV/jJpUX58ocb1X2slVatsyqJLNFjpIKbXL6xnhxn5y1lSrJtyguafj5q5YtU3aSWebcYpXXNOrcn/mTIcwEAAAAAAAAzsun2ooyPbunV5JkSsvSypUrlZOTL4c9wq2dk0+N1aVy5Barqn70SNFVWypH0X16+pUW9cqktKwc5eSkyTTYpT1bn9B9+Q6VbGo+x+u7VFuar/wNj2lrU5cGR56flSaTBtXb8oqefqBI+cU1cl7E42gIMwEAAAAAAIDzalR9w3CQmbjmp3K6XHI6nWpurlHxxNxNfRE4tWnjZv3/9u4eKJGtUff4/1TdqiY6kJyCDDK4kX0j+0ZyIrhVp0reSE4kO5KpOlXyRjKZ2bAj2ZHsSHYkE8lEMhEYiZFtZBvZRmI0GNlE6waAooI6o87e7Pf5VVk1Y38tu5Ve/fT6OLkeTF/sVckXPnMxgPDiGrunfXq+h+f16J/vs7EYhsEFX4oFpjU49ap5Cp/PGGCRXNmmfTna3u8RXB6ys7qAxYCLryXy5Q5vlWcqzBQREREREREREXlKfzgmJljY+Sypv2yA+VIBrUqFowEQzlBt1shP/FChRJZKs8ZyGBgcUa227oeRQYtK5Yjh5lVajSLp2MRJiTkU6i3qy1FgwFmtQuON+psrzBQREREREREREXlScBvmhUJzn2RC0KHRugIgmiuRj01ZJ5Yl51gA9F0Xf3JZt0nnCiBKrlRgek/7GLlSjijAoEvnjYYT1Wzmf0H/9V//RRC84WACIiIiIi+USCT48OED//Ef//FnF0VERET+Jv7nf/6Hf//3f/+zi/Fj/CaVagu/7+ENAAZ49TLFbghCEbKlCrkXjZnZo9uoU2+06Ho+/WA443fKyVEoFsg+2dSzj9dqUG+26Loevd4wWA1FEqRsh1yhSD6d4G4PAd1ambrr0x3N3+N3KhSLEQg5FKsF7FCWmntK0fPox9I8F88+7KgekMLJLBHrx0g/UfZQJEIMuCKg3w/g2SM979+MMebVexEREREREREREfm76ZZI/N/fuJi6MM5a26eWblGI/T/+uIKFjWPcin1vrcCrU8yXbicPesSKsrTZoFlOE3m4rNehnM/z68HVE4UMs7DWoFXLMmxg2aOWTvDhYMpYmdYKe0GD3BN7uzt2nWzqF75eQ3ytjVd7PvR8qN/IkfjvL1zfnqvv3MEU6mYuIiIiIiIiIiIyTapAbW+PvZ01FiwAi4W1HXb39tjbq1G0n9ner5NP/zIMMq04mfUd9g9POT895nBvi9XFlWanSAAAGr1JREFUKAyuOPiYJV3qPpgkx6dWyA2DTCtOZmO07fk5p8eH7G2vsxS3gGtOfi+y2RlvHSG72WBvd4Ol8PA78eWtYZkbJZwX/Ni9bp1CtsTXayCcoVz+/iATPGrVFtcA0TS5lxz4BdTNXEREREREREREZJqITTZnQ79Prfg7J0DMyZLPTRtk8qE+jXKZL1eAtcBaq0Mtfdf2MpGycbJZnFyaD1+vOKkV2My7VJxRbNitUhmmiSxVWrRKqYl9j7qYp2M49keOBhe0mi6kHSBEIp0jQYRW6VcOriGSSpPPPZO8+g2KpRqu5+GeXTEArOQK1UaN4ou60k8KcCtFKkcDwGKxVH6zWd/VMlNEREREREREROSt9RrUmsPu4fFClWr6USdyCKUo1itkwsDgjHqtc9s6s9cP4WSWWFjMUy6mHm8LkErjjILGfu9104UHbpPGlwOORkEmWEQi4Ps9vndmF79RIPfxgGsgvLhJrTSj/D9AYaaIiIjIqwT0ej6+36Ov+ftEREREZKTfadEdAMTJFZ7oph3LUUgPZw2/6rQYT/ody1ZotDq43drsVo0TFdBg9PXDUkXq7UOOjw/Z3/3E6mKEq6PP/PoPG6fUof+inQR49TzpwmcuACu5Sr1Zxn7DCeDVzVxERETkNfwaudQ/ORpYrOz1aeTesKYmIiIiInOr5/vDf1gp7CcbJkZIpVLw5QR6Pn4fnIeNOIM+vufiej6+7+K5Pp7n4p5cMGNaoe8WSqXJjctpO2TzedI5h1++XHHyW4FyzqOWfnrW9W4lR+7jAVcMg8xGq86LeuR/B4WZIiIiIiIiIiIib6zfC4bdtUMRIlN6mE+KxEJYwID+/d4+/S61cplK/YCLaZOTR+PEgwsu3irRvCdBobpJvfWBg8EFjVqLajo3vYVp4NEo5ij8ccYACC9u0GxVmNaz/rUUZoqIiIi8RiiBk10mBjgxtcoUERERkaHQuGoYBMP+309UFYPbADN0t12vSSGd54+z0QiW0SS2bWOnbFJ2CttxcFJ9qrbNx5MpSedbSKTJpiwOTgYEvocPPGpk2u9QyeX5eHAFWMSXq7QaRVLvVDVWmCkiIiLyGrEc1Wbuzy6FiIiIiPzFxBIxLM4Y0MOfmgKOBfieP2zFGYkRiwy/1yqXRkFmnOWtBvWSw+OGjj794AeCzF6XRrOL7/VIlSrkZs5WfheuDqYNyNlrUczm+P1kAIRZXG/QrGZ5457l92gCIBERERERERERkTcWs20SAAOXVvepmcZdWt3hrOdWysEGoEuzczH83lKZ2tQgE+h7uKOhOSeadz6v16Ty4Z98/K1KpenNXq/v0vWGYWk4kbgfUva7lG+DzDjL2x067xxkgsLMd9Sn53m4nk/vp09tGtD3PTzXw+/9wLGDUdl/dHsREZG/GK9RolQsUWn6QIDfqVHKp7FTCRIJGydXpNryJ2Z/7NGplcinbVKJBCk7Ta5YozOtDtrvUC0VKRZL1N3JBT7NSoliafz9Ht16mULWIZVIkEjZpHNFKg33hTND/gwTdYA/c2r28Tkt1egGQN+lUSmQde6uR75cx504cX23SaWQxbFTJBIpnGyB8jPnNuh1aVRL5LPO6HdheF2cbJ5StXlv/wD0WlRKJYrFIqVKC3/6XnHrZUrFIsVSheb0lURERF4v6OF7Lp7X4+fftl+Zefyr5A5OnmwSYMDXSoXOjIqJX9+kcQZg4eTHYWBwl02GQjN6qAe4tRqdweR3HhhtGDwMOu0c6VHZjmpVOlMvQ4Bbq9C8BgiTzmcnAtUezWKeX08GQJTMTotm0X6qJ/3bMfK2Lttma3XJxC0MjL8sE19cMRu7p+bmPY99c272P62Yxag1cWxMOLlkVrf2zfkzB7853zefVhZN9EHZw8mMWd85Nt/es+wiIiLvaH81bAATX981e2sLJgz37pXDr6hZ2j41N9/aZmMxPGU5hmjG7Jw+2Pn5llm0hvfMlb3Jm+2hWY+Pvr/TNp+WotP3CSaa2Tan71pJeMa3Y7OztmTi4ft1gOjiivm0f/nzy3M6OqdWxmzvb5lMfPp5s5JrZv/bjTndWTFJa9o6lllYb0+pwzy1zf3rvX08eWG+mf3V+Gh52GR2zh/t+Vt77Xa/8ZVd8yecPRER+Zv7drhj1jLJ+/UZK2oWltfNzvE7P7m/MvOY69zh247JjOp8mZ2Hd/h9sxod/jwLG8f3llzuLpvouM63tGH2z+/XLY53Vm/rDlZy3RzeLr4020ujfMdaMOvtB2fn5tzsf8qY+GTdaGn7Qd3j2GwkR8sW1s3+6bk5P7+8Pc+XO5nb36P48pY5vHeIS9PeWr691uGlLTNZDb5pr90e20qumq2dXbO7+/RX+7lg6oUUZr6hm9Ntk4lO/BJFkyaZjE/8kVomubr3PpXab4fm09LEg1c4bpILSRMP3wWb4cUN8/B3/7bsh5/MUvhx2cM/o+wiIiLvbBxmWtGosWAY0u3smXa7bfa218zi+B4YXjRLi2GDFTdLa1tmd79t2vu75tPKXQAaXtm7X9F+NszERKPRYUU/s262dvdNu71v9rbXTSY5vk+HTWb7cTD2U1zum7WkNVEHiJtkfHiexiFvZvudX8g+NA4zCZtoFIOVNJn17dH12DGflpO35YsvLZmkhQknl83G7TVdN0vxu8r/p/vPFOamvWaS4+u5sGq29trm+PTcnJ+fmuP2/ettLW2be1fmW/vufIUz5l6e+W3frI6D1+Sa2f9LP5GJiMg8Ot9dmQgSLRONJ00yOXHftuJm+dGb17fx2sxj7nOHHwwzjflm2htLt4EmhE1ycclkMktmIT5RB4svm50Hb7dv2usTL1/DJrm0bFZXV8xKZskkw3d1mbXl0cvW+Lo5fHDsvZUHL+mtJbN1W3+5NPtrC/d+fxaWMmY5s2QWJhrKhRfWzP332zeP9/vs17Tz9mMUZr6Vm0OzvjC60NEls7F/flfpvzk1u7e/HNPf4r/OZCuBuFneOpz44/9mjrfvWh5EHz6AGWPMTdusJ8cPcQ/K/u3QbK/E37HsIiIi728cZo5bQT68m13uLk+0boibld2HFa1Ls7s82kd01exP1jNfEGaCZRY3Dh/fgy93zXJ01pv0n+HS7GTCt0Hu+t5daHlzvm82xq1JrQWzcfwT48zbMHMYZD5qiWCOzcbCxMPQ4qeJVgxDN8cbZmF87rcmr/il2cmM6mzxWYHjN7O3Mv7ZM2bnYUOIw3WzMK5bLe+Mrtul2V2ZOF8PCyQiIvJaE/fH8OKa2Z0Ivm7O9+96lliLj17kvdprM4+/Q+7ww2GmMcbcmPP9T2ZlYfKF8TjUXTDL6ztmVqPay/0Nk0k+Dg6t6OJtL9ybvZVRWJo06w/rIOd7Zm3x/ovq1fb9sp3urptM3Hp0DMJJs7yxN6UH0V2LT4WZc+yuaW7crE6tFZ+brXHz4OSGedPPlYkPtOT64ZSWEzfmeGNhSgI/Wrq3Mip71Cw/engzxtwcm43xh9bCJ/M+73hERETez12YmTRT65e3lVOMtbj1KOw0xpjL7aVhJdDKmHv1sJeEmQ8D0FsTb7UfvUl/f3fdg8JmeVrl8lvbrI0qquHb0O4nmHxYW96d2uXscH38IjdqVqee3LZZGz1UxNcna+zHZnt12SwtLpjM1uxazbfd5dH1XjSfHq12Yw43xg9tw/rT+c64C1nYLH46/rktWUVE5F/Ajdlfjd71DJh2U77cNcuj1nrR1f03vRe9NvNQ7nDn5vLUHLb3zf5+2xyenr+wa/2NuTw9NO39fbPfbpvD08vvvr43l+fm9PTUnF/O2nJ4jP39PbO3t2/axy8t28+nCYDeRJ9Os8M1QDJPMTttfqkE2ZyNBeC7uE9NYvWd/FYTdwBYixRLzpTBVkPYuTTDcV27dN37o7p6XW9Ydsshn5sy51TIJp9NjVd+PBi+iIjIvAg7pFNTvh+J3A5mHnOc4ayTj1YZrxF810SRAJaTxZk6GnqIWGx07w36jwdsf1cBnXqTC4B4gVJ+Sh0gkmaztIQFXLfqNN+w/vIyFqn09Jk7I7HIsF5l2aSnntwI40t2/3rZFOtNOl2XVmnaLwNAQDCezGAw7aqEcDbrbC5awBVfSmmypS9cAeFMhUb5Jw1+LyIi/zqCDo3WcLbraK7EtNs2sSw5xwKg77ozJqr7Ea/PPJQ73AnFUjjpLNlsGieVmD5D+eOtiKUc0tks2XQaJxX77rpGKJYglUqRiM3acniMbDZHLpclbb+0bD/f//qzC/D3ECHf8LFdFy9I4cxaLXj0jynr+HTqNerNDq7fo0+IWMzGyeUpFHLYU36TEsUmXtrF80PY056+njlqKHK3RhDA1L+Iv+pvsIiIyPeIxXii/gYDi0hsxk0v9OPxVCQWm3krDU3s9+eGmS6tzuihKD0rbIVYOottHXA06NLq9Cnmf26l4DbsfWRc4AiRGWWf9f1JQW84k6rne3ieh+95uK7L2dXg6Q1DNuV6hZbzTw6uzjgDiK9QqxenhuEiIiKvEspSc08peh79WPrZIOvJu9h35w6vzzyUO8hbUpj5VkIxUk6WWe/3waPVdIcfKCkHe0q9PHCr5HNlvlzc/9i5ODvj6OAzv1WW2Gg0qaQf/IWHIiTsNAl71rEDuo3WsOWF5ZC2739qJGybKCdcDbo0mz0KhYeFc2k1PACslDM1UBUREZkHVijybOX/PVrUvSIHfT+9casJi5STmv1zJ2xSITgaDHC7HuRnPsK8i9BzJy/ED1y0AK+5SXmzTuvkasoDX5h4PMLFxdXTu0kVKWUrHHweh8J5srOyVxERkVcKxVI4sdmpA70mje7wrhaf0dPkx3OH12Ueyh3kLamb+U8Q+B2q+RzlowEQZ2WzxMPcMfCqZNP/HH6gRBdZ3dqjfXzK+ekx7Z0NlpMWXB3wazZNufsd7Tb6Hs1KjnztDLBIFjcpPPhEC2XLbC6FgWu+lHKUmt7de5Rel1o+z+bJsOz5SvGJDy8RERGZGz2f3gDudXWfJhRjvLjn+z+59eh7CHCrWZx//MqXkysGhIkvLLG8usbG1ja7+8ecf+vjVdPDrnJP7albZrN5F3he/VGi1Pob94sTEZG/rF63TiFb4us1EM5QLj9uvfleucNLMg/lDvKW1DLz3bjU8mUanofrXXA9AMILrFYb1B6ND+FTK5Y5uAaiy+x0GhRSdx87iZRNOpellM7y28kJ1WKVvFt+9OFwJ6BTyVNp+njeCRfXgBVlab1GvTqtOXqKYqtDqFSkXD/it3/8b2rhKLEI9C+uuAaseIaNao3K1LExREREZO70ewxjtwiRJ/tjR4hFLGAA/T59YK4bH/o1iuWDYf1mYY1Gs0ou8fjn708OtDntea7foVSocTIAa2GFXKjJ56ML/igWyXUbTBsOTERE5E35DYqlGq7n4Z4NexpYyRWqjRrFR80y3zp3+J7MA5Q7yFtSy8z30ndpNr9ycDL6owasSGTYCuJhhbhbo3YwACyWNmv3PlBuRdJUKnmiwOCkRq3z1MF9us0WX49GQSZAKEIo6OHPGrg/YNjyYnTowfUVF6MPFLCIJWLEXjLwlIiIiMyHIBhldKFnusFPLg/mvmVmbzxxInEK1elBJgwnKhh3wHvc1rJPq1Tg97MBWAuUanXqtU0WLeDiM8Vig58+V5KIiPzLCdwmjS8HHJ2Nh0yxiETA93uP79dvnTt8T+ZxW2CUO8ibUJj5bmxKzTaHx8e093fYWFkgdHHAHx//H3a2wmSLba/TGc4yNmtWr5FQOkfaArig23WfOHaEdLlJ+/CYw/Ye2+sZ4sEZX3//wH/aWWreg9X9BnnH4ZffvnASJFne2GH/8JjT02Pau1usLka4OPiDf/6nTbbqzv1DjIiIiADBz55w6K/hrsFlaPZ4nL0m1cbZeIspi4sU/7gALBZKNTadECG7TG1zEQu4+lKiUH+7OWRFRESmShWptw85Pj5kf/cTq4sRro4+8+s/bJxS597LuLfPHV6eeQDKHeRNqZv5k3p0qlVas16tp/JsFuzpY85HbLLZ8X9s0tk8eTtL+uMB1webFDezuBUbCPDd0Zv/gU+9mKM1szx9xjmk7/oEzDg2MZzc+OA2TjpHPlcinf2Nk6uvlIo1sp3xTJs96sUin88GEF5ko9Wi4tw16U6lbNL5HNl8mv/+fMHXcp5Nx6Uya8pTERERmQ+h0HAC9/GsojMF9wPAdy/Y+4rZKWIccMEZjUqdUqPAZOPMvlunVCjx+XYozID+5NNgr0Gx+JkLwFooUdt0bs+JXaqx2XT4eHTF11KBmtOhqEG/RETknYRSaXLj+4ztkM3nSeccfvlyxclvBco5j1o6xLvkDi/OPEC5g7w1hZlP6tGq/cqvZ9OXWpkU5Vlh5iMh7HKVcuP/8PFkwEmjTrdSxSGYGJPpgqMvFy/aWzDqGvbSP+1IukK10OQ/f79g0K3R8IqUU4DfoNYZNupOFqv3PlDuJMjXKjQ7/83nqzPqtQ6bTnbuH2ZERET+pUUixIBr+s+EmX2CYHC7zbyPYhVKl9nMNPnl6xVXX34hlaqRdlLE6ON7XbonVwysOJn1HP3aHxwNevh+H4gAPvVCkS9XjLqXb3LvOStkU6pt0nQ+cnR9QLlYJd0paRIDERH5SRIUqpvUWx84GFzQqLWopnOEfkruMCvzQLmDvDmFmc+IRMJY1vQa/tPjS01j46TjcHIBPQ+vB05sYifxZT5VCkwbuuKRmP2dDxMhnKxD+PcLrgc+rhdAKgReF280blQ668zePJIl51h8/jLgynXxyD4xELCIiIj85SVSxCw4GwT0ej1mT+vTwxv1mI4lEn+Dh4oEhUYLSkXKjSOuLo74enE0WhYmmVmnXNmkYPeodBocnQzoNpr0CgX6tQKlr9dMdi9/KGSXqG02cT4ecX1QplBJ0ym/9OW3iIjIKyXSZFMWBycDAt/DB1L8rNxhWuaBcgd5cwozn2RT7vYpP7ueT6fRwnU9gnSZcvaJ8SduP0SC2+/EYhHgCvohUrkcue+q7QZ4rQYd18OL5KgUnZmV5btxoe7C2eB2vKyXDP4/7IxGMGUwYRERkb+wbL2PqT+1Ro5G39B4Yo1QrkFgpqyRKNENSlO2cKj6huozZbMrLqbyzErvIZYiFYODiwGe6zMzzPQ9/ADAImU/mhr1faRmndOJVcpdgicraTZl10yvx0VsCvUuhaqP63r0AghFYiRSNonbp7YIZTe4t32s2KFffK7wIexnyyYiIvKdel0azS6+1yNVqpCbeUu+e7YfTAwT87rc4TWZh3IHeXsKM9+ET6P0gd+vwHJtCtnCjMeBHq47atoQSZEYrWQ7NtbvXxlcd2l1A3LpGX/d/Q6VUoNeLIWdy1NwhjtwayU+fLmGaI9swSE7Y3PPdUezhKVIjAaHCsViJIAzfLzb1ybTf0Z/+CSDFUvNbLshIiIi88Im64T5/eKai04HD2dqd+h+p0V3AFg26Zn1hDkVSWCnf1JAKyIi8hq9JpUPv3KCxWKiQK40YxCTvkt32AyScCJx++z+utzhdZmHcgd5a5rN/E045LJRAAadKvUZE371OxWqB8MPlXguz7hxdSRbIBsGuKCxWePhZONjXq3M5h+/89uvFVq98QdPiHTOIQxw1aQya+bMXpPN2snw3wtZ8uO22naOdBxgQKdaxZ3x6qPfqVI7GgAWdjaNqv0iIiLzLkI6nyUKcFKj0uo/XiVwqVU7DADLyZPX4I8iIiJ/DjtHOgkw4KhWpTP12T3ArVVoXgOESeezt93EX5c7vC7zUO4gb87I2zjdMosWBjBWcsXsnN5MLLwx5/sbZik6XE502eycm3vLjz8tGAsMWCa+vGUOLyeXfzPHOysmOd7/4idzem/zQ7OetIb7Di+Ytb1zc+/op7tmbSE8XE7crO5/u1f0852MCY+Pndky7csnyh5fNQ82FxERkbl1bD4tjOoQ0SXz6XDiJn9zanZWkqP6SdysqQIgIiLyp7q8fXZnmBvcuzVfmvbWsomPcoPw0tb93OC1ucOrMg/lDvK2/s0YY/6UFPVvyG/kyRY+czYACBNfdEhFoO93cc+uGQBEl9hoNKmkHw6j69MoZCn8cTZcz4qStFMkItDzXE4uhh3ErfgK9U6D/INXFIFXI5f+wNcrAItw0sZJRAj6Hu7RxbB7uRUnU23SLD4chL5Hq5Ql/9vJqBt6mOSiTSISelT2rWaL0pTB7kVERGQ+PaxDDOsvAX73iLNRy47FjSatSnruZzIXERGZbz1axSy5309GuUGcBSdFIhTgu11OrkbdyxfWaLRqPB7a8nW5w+syD+UO8ob+7DT17+bb4bZZW4qP3nZMfFlRs7Dyyeyf3zy1tTneWTeZZPj+tmCw4mZpdfvBm5MHLttma2XBRK0H22KZ+OKq2W4/tfGNOd3bMMtTjx01iytb5snNRUREZG7dnO+ZjUzytrXH+MuKLprVnWOjxhEiIiJ/FTfmdHfdZOLW42f3cNIsb+yZ06dih1fmDq/LPJQ7yNtQy8x3EvRcuq5PP4BQJEHKsUl8x4uFvu/i+b277e0UsZdu3x/OzOn3g9uZOVMv3nh4bNfv0e9DJPadxxYREZG5FfQ8XM+n14dIIoVtJ9QaU0RE5C8poOcNn92DIPRD9+3X5A5vkXkod5AfpTBTRERERERERERE5oJmMxcREREREREREZG5oDBTRERERERERERE5oLCTBEREREREREREZkLCjNFRERERERERERkLijMFBERERERERERkbmgMFNERERERERERETmgsJMERERERERERERmQsKM0VERERERERERGQuKMwUERERERERERGRuaAwU0REREREREREROaCwkwRERERERERERGZCwozRUREREREREREZC4ozBQREREREREREZG5oDBTRERERERERERE5oLCTBEREREREREREZkLCjNFRERERERERERkLijMFBERERERERERkbmgMFNERERERERERETmgsJMERERERERERERmQsKM0VERERERERERGQuKMwUERERERERERGRuaAwU0REREREREREROaCwkwRERERERERERGZCwozRUREREREREREZC4ozBQREREREREREZG5oDBTRERERERERERE5sL/B2fB7aj3wdj1AAAAAElFTkSuQmCC)"
      ]
    },
    {
      "cell_type": "markdown",
      "metadata": {},
      "source": [
        "We perform this transformation using **DeepQuant**, a PULP platform tool that is specialized in transforming the FQ output of Brevitas and bringing it to TQ.\n",
        "DeepQuant operates in a nearly automatic way.\n",
        "DeepQuant is in *alpha* stage: do not expect everything to work smoothly!"
      ]
    },
    {
      "cell_type": "code",
      "execution_count": null,
      "metadata": {},
      "outputs": [],
      "source": [
        "# roll back to PTQ?"
      ]
    },
    {
      "cell_type": "code",
      "execution_count": 27,
      "metadata": {
        "colab": {
          "base_uri": "https://localhost:8080/"
        },
        "id": "Svx3gnd2Lfml",
        "outputId": "93266a18-3f27-4678-c1db-a589c7918792"
      },
      "outputs": [
        {
          "name": "stdout",
          "output_type": "stream",
          "text": [
            "\n",
            "\u001b[95m==================================================\n",
            "1. Original Network\n",
            "==================================================\u001b[0m\n",
            "┍━━━━━━━━━━━━━━━┯━━━━━━━━━━━━━━━┯━━━━━━━━━━━━━━━━━━━━━━━━━━━━━━━━━━┯━━━━━━━━━━━━━━━━━━━━━━━━━━━━━━━━┑\n",
            "│ opcode        │ class         │ name                             │ target                         │\n",
            "┝━━━━━━━━━━━━━━━┿━━━━━━━━━━━━━━━┿━━━━━━━━━━━━━━━━━━━━━━━━━━━━━━━━━━┿━━━━━━━━━━━━━━━━━━━━━━━━━━━━━━━━┥\n",
            "│ placeholder   │               │ x                                │ x                              │\n",
            "├───────────────┼───────────────┼──────────────────────────────────┼────────────────────────────────┤\n",
            "│ call_module   │ QuantIdentity │ x_quant                          │ x_quant                        │\n",
            "├───────────────┼───────────────┼──────────────────────────────────┼────────────────────────────────┤\n",
            "│ get_attr      │               │ conv_bn_relu1_conv1_scale_weight │ ConvBnRelu1.conv1.scale.weight │\n",
            "├───────────────┼───────────────┼──────────────────────────────────┼────────────────────────────────┤\n",
            "│ call_method   │               │ view                             │ view                           │\n",
            "├───────────────┼───────────────┼──────────────────────────────────┼────────────────────────────────┤\n",
            "│ call_function │               │ mul                              │ <built-in function mul>        │\n",
            "├───────────────┼───────────────┼──────────────────────────────────┼────────────────────────────────┤\n",
            "│ call_module   │ QuantConv2d   │ conv_bn_relu1_conv1_layer        │ ConvBnRelu1.conv1.layer        │\n",
            "├───────────────┼───────────────┼──────────────────────────────────┼────────────────────────────────┤\n",
            "│ call_module   │ QuantReLU     │ conv_bn_relu1_relu1              │ ConvBnRelu1.relu1              │\n",
            "├───────────────┼───────────────┼──────────────────────────────────┼────────────────────────────────┤\n",
            "│ get_attr      │               │ conv_bn_relu2_conv1_scale_weight │ ConvBnRelu2.conv1.scale.weight │\n",
            "├───────────────┼───────────────┼──────────────────────────────────┼────────────────────────────────┤\n",
            "│ call_method   │               │ view_1                           │ view                           │\n",
            "├───────────────┼───────────────┼──────────────────────────────────┼────────────────────────────────┤\n",
            "│ call_function │               │ mul_1                            │ <built-in function mul>        │\n",
            "├───────────────┼───────────────┼──────────────────────────────────┼────────────────────────────────┤\n",
            "│ call_module   │ QuantConv2d   │ conv_bn_relu2_conv1_layer        │ ConvBnRelu2.conv1.layer        │\n",
            "├───────────────┼───────────────┼──────────────────────────────────┼────────────────────────────────┤\n",
            "│ call_module   │ QuantReLU     │ conv_bn_relu2_relu1              │ ConvBnRelu2.relu1              │\n",
            "├───────────────┼───────────────┼──────────────────────────────────┼────────────────────────────────┤\n",
            "│ call_module   │ MaxPool2d     │ pool                             │ pool                           │\n",
            "├───────────────┼───────────────┼──────────────────────────────────┼────────────────────────────────┤\n",
            "│ get_attr      │               │ conv_bn_relu3_conv1_scale_weight │ ConvBnRelu3.conv1.scale.weight │\n",
            "├───────────────┼───────────────┼──────────────────────────────────┼────────────────────────────────┤\n",
            "│ call_method   │               │ view_2                           │ view                           │\n",
            "├───────────────┼───────────────┼──────────────────────────────────┼────────────────────────────────┤\n",
            "│ call_function │               │ mul_2                            │ <built-in function mul>        │\n",
            "├───────────────┼───────────────┼──────────────────────────────────┼────────────────────────────────┤\n",
            "│ call_module   │ QuantConv2d   │ conv_bn_relu3_conv1_layer        │ ConvBnRelu3.conv1.layer        │\n",
            "├───────────────┼───────────────┼──────────────────────────────────┼────────────────────────────────┤\n",
            "│ call_module   │ QuantReLU     │ conv_bn_relu3_relu1              │ ConvBnRelu3.relu1              │\n",
            "├───────────────┼───────────────┼──────────────────────────────────┼────────────────────────────────┤\n",
            "│ call_module   │ Dropout       │ dropout                          │ dropout                        │\n",
            "├───────────────┼───────────────┼──────────────────────────────────┼────────────────────────────────┤\n",
            "│ call_method   │               │ flatten                          │ flatten                        │\n",
            "├───────────────┼───────────────┼──────────────────────────────────┼────────────────────────────────┤\n",
            "│ get_attr      │               │ fc_scale_weight                  │ fc.scale.weight                │\n",
            "├───────────────┼───────────────┼──────────────────────────────────┼────────────────────────────────┤\n",
            "│ call_method   │               │ view_3                           │ view                           │\n",
            "├───────────────┼───────────────┼──────────────────────────────────┼────────────────────────────────┤\n",
            "│ call_function │               │ mul_3                            │ <built-in function mul>        │\n",
            "├───────────────┼───────────────┼──────────────────────────────────┼────────────────────────────────┤\n",
            "│ call_module   │ QuantLinear   │ fc_layer                         │ fc.layer                       │\n",
            "├───────────────┼───────────────┼──────────────────────────────────┼────────────────────────────────┤\n",
            "│ call_module   │ QuantIdentity │ fc_layer_output_quant            │ fc_layer_output_quant          │\n",
            "├───────────────┼───────────────┼──────────────────────────────────┼────────────────────────────────┤\n",
            "│ output        │               │ output                           │ output                         │\n",
            "┕━━━━━━━━━━━━━━━┷━━━━━━━━━━━━━━━┷━━━━━━━━━━━━━━━━━━━━━━━━━━━━━━━━━━┷━━━━━━━━━━━━━━━━━━━━━━━━━━━━━━━━┙\n",
            "\n",
            "\u001b[92m ✓ LinearTransformation transformation successful\u001b[0m\n",
            "    leafClasses: [<class 'DeepQuant.CustomForwards.WBIOL.WrapperWBIOL'>]\n",
            "    nonLeafClasses: [<class 'brevitas.nn.quant_layer.QuantWeightBiasInputOutputLayer'>]\n",
            "\u001b[92m ✓ ActivationTransformation transformation successful\u001b[0m\n",
            "    leafClasses: [<class 'DeepQuant.CustomForwards.WBIOL.WrapperWBIOL'>, <class 'DeepQuant.CustomForwards.Activations.WrapperActivation'>]\n",
            "    nonLeafClasses: [<class 'brevitas.nn.quant_layer.QuantWeightBiasInputOutputLayer'>, <class 'brevitas.nn.quant_layer.QuantNonLinearActLayer'>]\n",
            "\u001b[92m ✓ Injection of New Modules: output is consistent\u001b[0m\n",
            "\n",
            "\u001b[95m==================================================\n",
            "2. Network after Injection of New Modules\n",
            "==================================================\u001b[0m\n",
            "┍━━━━━━━━━━━━━━━┯━━━━━━━━━━━━━━━━━━━━━━━━━━━━━━┯━━━━━━━━━━━━━━━━━━━━━━━━━━━━━━━━━━━━━━━━━━━━━━━━━━━━━━┯━━━━━━━━━━━━━━━━━━━━━━━━━━━━━━━━━━━━━━━━━━━━━━━━━┑\n",
            "│ opcode        │ class                        │ name                                                 │ target                                          │\n",
            "┝━━━━━━━━━━━━━━━┿━━━━━━━━━━━━━━━━━━━━━━━━━━━━━━┿━━━━━━━━━━━━━━━━━━━━━━━━━━━━━━━━━━━━━━━━━━━━━━━━━━━━━━┿━━━━━━━━━━━━━━━━━━━━━━━━━━━━━━━━━━━━━━━━━━━━━━━━━┥\n",
            "│ placeholder   │                              │ x                                                    │ x                                               │\n",
            "├───────────────┼──────────────────────────────┼──────────────────────────────────────────────────────┼─────────────────────────────────────────────────┤\n",
            "│ call_module   │ ActQuantProxyFromInjector    │ x_quant_input_quant                                  │ x_quant.input_quant                             │\n",
            "├───────────────┼──────────────────────────────┼──────────────────────────────────────────────────────┼─────────────────────────────────────────────────┤\n",
            "│ call_module   │ WrapperActivation            │ x_quant_wrapped_act_impl                             │ x_quant.wrappedActImpl                          │\n",
            "├───────────────┼──────────────────────────────┼──────────────────────────────────────────────────────┼─────────────────────────────────────────────────┤\n",
            "│ call_module   │ ActQuantProxyFromInjector    │ x_quant_act_quant                                    │ x_quant.act_quant                               │\n",
            "├───────────────┼──────────────────────────────┼──────────────────────────────────────────────────────┼─────────────────────────────────────────────────┤\n",
            "│ get_attr      │                              │ conv_bn_relu1_conv1_scale_weight                     │ ConvBnRelu1.conv1.scale.weight                  │\n",
            "├───────────────┼──────────────────────────────┼──────────────────────────────────────────────────────┼─────────────────────────────────────────────────┤\n",
            "│ call_method   │                              │ view                                                 │ view                                            │\n",
            "├───────────────┼──────────────────────────────┼──────────────────────────────────────────────────────┼─────────────────────────────────────────────────┤\n",
            "│ call_function │                              │ mul                                                  │ <built-in function mul>                         │\n",
            "├───────────────┼──────────────────────────────┼──────────────────────────────────────────────────────┼─────────────────────────────────────────────────┤\n",
            "│ call_module   │ ActQuantProxyFromInjector    │ conv_bn_relu1_conv1_layer_input_quant                │ ConvBnRelu1.conv1.layer.input_quant             │\n",
            "├───────────────┼──────────────────────────────┼──────────────────────────────────────────────────────┼─────────────────────────────────────────────────┤\n",
            "│ get_attr      │                              │ conv_bn_relu1_conv1_layer_weight                     │ ConvBnRelu1.conv1.layer.weight                  │\n",
            "├───────────────┼──────────────────────────────┼──────────────────────────────────────────────────────┼─────────────────────────────────────────────────┤\n",
            "│ call_module   │ WeightQuantProxyFromInjector │ conv_bn_relu1_conv1_layer_weight_quant               │ ConvBnRelu1.conv1.layer.weight_quant            │\n",
            "├───────────────┼──────────────────────────────┼──────────────────────────────────────────────────────┼─────────────────────────────────────────────────┤\n",
            "│ get_attr      │                              │ conv_bn_relu1_conv1_layer_bias                       │ ConvBnRelu1.conv1.layer.bias                    │\n",
            "├───────────────┼──────────────────────────────┼──────────────────────────────────────────────────────┼─────────────────────────────────────────────────┤\n",
            "│ call_module   │ BiasQuantProxyFromInjector   │ conv_bn_relu1_conv1_layer_bias_quant                 │ ConvBnRelu1.conv1.layer.bias_quant              │\n",
            "├───────────────┼──────────────────────────────┼──────────────────────────────────────────────────────┼─────────────────────────────────────────────────┤\n",
            "│ call_module   │ WrapperWBIOL                 │ conv_bn_relu1_conv1_layer_wrapped_inner_forward_impl │ ConvBnRelu1.conv1.layer.wrappedInnerForwardImpl │\n",
            "├───────────────┼──────────────────────────────┼──────────────────────────────────────────────────────┼─────────────────────────────────────────────────┤\n",
            "│ call_module   │ ActQuantProxyFromInjector    │ conv_bn_relu1_conv1_layer_output_quant               │ ConvBnRelu1.conv1.layer.output_quant            │\n",
            "├───────────────┼──────────────────────────────┼──────────────────────────────────────────────────────┼─────────────────────────────────────────────────┤\n",
            "│ call_module   │ ActQuantProxyFromInjector    │ conv_bn_relu1_relu1_input_quant                      │ ConvBnRelu1.relu1.input_quant                   │\n",
            "├───────────────┼──────────────────────────────┼──────────────────────────────────────────────────────┼─────────────────────────────────────────────────┤\n",
            "│ call_module   │ WrapperActivation            │ conv_bn_relu1_relu1_wrapped_act_impl                 │ ConvBnRelu1.relu1.wrappedActImpl                │\n",
            "├───────────────┼──────────────────────────────┼──────────────────────────────────────────────────────┼─────────────────────────────────────────────────┤\n",
            "│ call_module   │ ActQuantProxyFromInjector    │ conv_bn_relu1_relu1_act_quant                        │ ConvBnRelu1.relu1.act_quant                     │\n",
            "├───────────────┼──────────────────────────────┼──────────────────────────────────────────────────────┼─────────────────────────────────────────────────┤\n",
            "│ get_attr      │                              │ conv_bn_relu2_conv1_scale_weight                     │ ConvBnRelu2.conv1.scale.weight                  │\n",
            "├───────────────┼──────────────────────────────┼──────────────────────────────────────────────────────┼─────────────────────────────────────────────────┤\n",
            "│ call_method   │                              │ view_1                                               │ view                                            │\n",
            "├───────────────┼──────────────────────────────┼──────────────────────────────────────────────────────┼─────────────────────────────────────────────────┤\n",
            "│ call_function │                              │ mul_1                                                │ <built-in function mul>                         │\n",
            "├───────────────┼──────────────────────────────┼──────────────────────────────────────────────────────┼─────────────────────────────────────────────────┤\n",
            "│ call_module   │ ActQuantProxyFromInjector    │ conv_bn_relu2_conv1_layer_input_quant                │ ConvBnRelu2.conv1.layer.input_quant             │\n",
            "├───────────────┼──────────────────────────────┼──────────────────────────────────────────────────────┼─────────────────────────────────────────────────┤\n",
            "│ get_attr      │                              │ conv_bn_relu2_conv1_layer_weight                     │ ConvBnRelu2.conv1.layer.weight                  │\n",
            "├───────────────┼──────────────────────────────┼──────────────────────────────────────────────────────┼─────────────────────────────────────────────────┤\n",
            "│ call_module   │ WeightQuantProxyFromInjector │ conv_bn_relu2_conv1_layer_weight_quant               │ ConvBnRelu2.conv1.layer.weight_quant            │\n",
            "├───────────────┼──────────────────────────────┼──────────────────────────────────────────────────────┼─────────────────────────────────────────────────┤\n",
            "│ get_attr      │                              │ conv_bn_relu2_conv1_layer_bias                       │ ConvBnRelu2.conv1.layer.bias                    │\n",
            "├───────────────┼──────────────────────────────┼──────────────────────────────────────────────────────┼─────────────────────────────────────────────────┤\n",
            "│ call_module   │ BiasQuantProxyFromInjector   │ conv_bn_relu2_conv1_layer_bias_quant                 │ ConvBnRelu2.conv1.layer.bias_quant              │\n",
            "├───────────────┼──────────────────────────────┼──────────────────────────────────────────────────────┼─────────────────────────────────────────────────┤\n",
            "│ call_module   │ WrapperWBIOL                 │ conv_bn_relu2_conv1_layer_wrapped_inner_forward_impl │ ConvBnRelu2.conv1.layer.wrappedInnerForwardImpl │\n",
            "├───────────────┼──────────────────────────────┼──────────────────────────────────────────────────────┼─────────────────────────────────────────────────┤\n",
            "│ call_module   │ ActQuantProxyFromInjector    │ conv_bn_relu2_conv1_layer_output_quant               │ ConvBnRelu2.conv1.layer.output_quant            │\n",
            "├───────────────┼──────────────────────────────┼──────────────────────────────────────────────────────┼─────────────────────────────────────────────────┤\n",
            "│ call_module   │ ActQuantProxyFromInjector    │ conv_bn_relu2_relu1_input_quant                      │ ConvBnRelu2.relu1.input_quant                   │\n",
            "├───────────────┼──────────────────────────────┼──────────────────────────────────────────────────────┼─────────────────────────────────────────────────┤\n",
            "│ call_module   │ WrapperActivation            │ conv_bn_relu2_relu1_wrapped_act_impl                 │ ConvBnRelu2.relu1.wrappedActImpl                │\n",
            "├───────────────┼──────────────────────────────┼──────────────────────────────────────────────────────┼─────────────────────────────────────────────────┤\n",
            "│ call_module   │ ActQuantProxyFromInjector    │ conv_bn_relu2_relu1_act_quant                        │ ConvBnRelu2.relu1.act_quant                     │\n",
            "├───────────────┼──────────────────────────────┼──────────────────────────────────────────────────────┼─────────────────────────────────────────────────┤\n",
            "│ call_module   │ MaxPool2d                    │ pool                                                 │ pool                                            │\n",
            "├───────────────┼──────────────────────────────┼──────────────────────────────────────────────────────┼─────────────────────────────────────────────────┤\n",
            "│ get_attr      │                              │ conv_bn_relu3_conv1_scale_weight                     │ ConvBnRelu3.conv1.scale.weight                  │\n",
            "├───────────────┼──────────────────────────────┼──────────────────────────────────────────────────────┼─────────────────────────────────────────────────┤\n",
            "│ call_method   │                              │ view_2                                               │ view                                            │\n",
            "├───────────────┼──────────────────────────────┼──────────────────────────────────────────────────────┼─────────────────────────────────────────────────┤\n",
            "│ call_function │                              │ mul_2                                                │ <built-in function mul>                         │\n",
            "├───────────────┼──────────────────────────────┼──────────────────────────────────────────────────────┼─────────────────────────────────────────────────┤\n",
            "│ call_module   │ ActQuantProxyFromInjector    │ conv_bn_relu3_conv1_layer_input_quant                │ ConvBnRelu3.conv1.layer.input_quant             │\n",
            "├───────────────┼──────────────────────────────┼──────────────────────────────────────────────────────┼─────────────────────────────────────────────────┤\n",
            "│ get_attr      │                              │ conv_bn_relu3_conv1_layer_weight                     │ ConvBnRelu3.conv1.layer.weight                  │\n",
            "├───────────────┼──────────────────────────────┼──────────────────────────────────────────────────────┼─────────────────────────────────────────────────┤\n",
            "│ call_module   │ WeightQuantProxyFromInjector │ conv_bn_relu3_conv1_layer_weight_quant               │ ConvBnRelu3.conv1.layer.weight_quant            │\n",
            "├───────────────┼──────────────────────────────┼──────────────────────────────────────────────────────┼─────────────────────────────────────────────────┤\n",
            "│ get_attr      │                              │ conv_bn_relu3_conv1_layer_bias                       │ ConvBnRelu3.conv1.layer.bias                    │\n",
            "├───────────────┼──────────────────────────────┼──────────────────────────────────────────────────────┼─────────────────────────────────────────────────┤\n",
            "│ call_module   │ BiasQuantProxyFromInjector   │ conv_bn_relu3_conv1_layer_bias_quant                 │ ConvBnRelu3.conv1.layer.bias_quant              │\n",
            "├───────────────┼──────────────────────────────┼──────────────────────────────────────────────────────┼─────────────────────────────────────────────────┤\n",
            "│ call_module   │ WrapperWBIOL                 │ conv_bn_relu3_conv1_layer_wrapped_inner_forward_impl │ ConvBnRelu3.conv1.layer.wrappedInnerForwardImpl │\n",
            "├───────────────┼──────────────────────────────┼──────────────────────────────────────────────────────┼─────────────────────────────────────────────────┤\n",
            "│ call_module   │ ActQuantProxyFromInjector    │ conv_bn_relu3_conv1_layer_output_quant               │ ConvBnRelu3.conv1.layer.output_quant            │\n",
            "├───────────────┼──────────────────────────────┼──────────────────────────────────────────────────────┼─────────────────────────────────────────────────┤\n",
            "│ call_module   │ ActQuantProxyFromInjector    │ conv_bn_relu3_relu1_input_quant                      │ ConvBnRelu3.relu1.input_quant                   │\n",
            "├───────────────┼──────────────────────────────┼──────────────────────────────────────────────────────┼─────────────────────────────────────────────────┤\n",
            "│ call_module   │ WrapperActivation            │ conv_bn_relu3_relu1_wrapped_act_impl                 │ ConvBnRelu3.relu1.wrappedActImpl                │\n",
            "├───────────────┼──────────────────────────────┼──────────────────────────────────────────────────────┼─────────────────────────────────────────────────┤\n",
            "│ call_module   │ ActQuantProxyFromInjector    │ conv_bn_relu3_relu1_act_quant                        │ ConvBnRelu3.relu1.act_quant                     │\n",
            "├───────────────┼──────────────────────────────┼──────────────────────────────────────────────────────┼─────────────────────────────────────────────────┤\n",
            "│ call_module   │ Dropout                      │ dropout                                              │ dropout                                         │\n",
            "├───────────────┼──────────────────────────────┼──────────────────────────────────────────────────────┼─────────────────────────────────────────────────┤\n",
            "│ call_method   │                              │ flatten                                              │ flatten                                         │\n",
            "├───────────────┼──────────────────────────────┼──────────────────────────────────────────────────────┼─────────────────────────────────────────────────┤\n",
            "│ get_attr      │                              │ fc_scale_weight                                      │ fc.scale.weight                                 │\n",
            "├───────────────┼──────────────────────────────┼──────────────────────────────────────────────────────┼─────────────────────────────────────────────────┤\n",
            "│ call_method   │                              │ view_3                                               │ view                                            │\n",
            "├───────────────┼──────────────────────────────┼──────────────────────────────────────────────────────┼─────────────────────────────────────────────────┤\n",
            "│ call_function │                              │ mul_3                                                │ <built-in function mul>                         │\n",
            "├───────────────┼──────────────────────────────┼──────────────────────────────────────────────────────┼─────────────────────────────────────────────────┤\n",
            "│ call_module   │ ActQuantProxyFromInjector    │ fc_layer_input_quant                                 │ fc.layer.input_quant                            │\n",
            "├───────────────┼──────────────────────────────┼──────────────────────────────────────────────────────┼─────────────────────────────────────────────────┤\n",
            "│ get_attr      │                              │ fc_layer_weight                                      │ fc.layer.weight                                 │\n",
            "├───────────────┼──────────────────────────────┼──────────────────────────────────────────────────────┼─────────────────────────────────────────────────┤\n",
            "│ call_module   │ WeightQuantProxyFromInjector │ fc_layer_weight_quant                                │ fc.layer.weight_quant                           │\n",
            "├───────────────┼──────────────────────────────┼──────────────────────────────────────────────────────┼─────────────────────────────────────────────────┤\n",
            "│ get_attr      │                              │ fc_layer_bias                                        │ fc.layer.bias                                   │\n",
            "├───────────────┼──────────────────────────────┼──────────────────────────────────────────────────────┼─────────────────────────────────────────────────┤\n",
            "│ call_module   │ BiasQuantProxyFromInjector   │ fc_layer_bias_quant                                  │ fc.layer.bias_quant                             │\n",
            "├───────────────┼──────────────────────────────┼──────────────────────────────────────────────────────┼─────────────────────────────────────────────────┤\n",
            "│ call_module   │ WrapperWBIOL                 │ fc_layer_wrapped_inner_forward_impl                  │ fc.layer.wrappedInnerForwardImpl                │\n",
            "├───────────────┼──────────────────────────────┼──────────────────────────────────────────────────────┼─────────────────────────────────────────────────┤\n",
            "│ call_module   │ ActQuantProxyFromInjector    │ fc_layer_output_quant                                │ fc.layer.output_quant                           │\n",
            "├───────────────┼──────────────────────────────┼──────────────────────────────────────────────────────┼─────────────────────────────────────────────────┤\n",
            "│ call_module   │ ActQuantProxyFromInjector    │ fc_layer_output_quant_input_quant                    │ fc_layer_output_quant.input_quant               │\n",
            "├───────────────┼──────────────────────────────┼──────────────────────────────────────────────────────┼─────────────────────────────────────────────────┤\n",
            "│ call_module   │ WrapperActivation            │ fc_layer_output_quant_wrapped_act_impl               │ fc_layer_output_quant.wrappedActImpl            │\n",
            "├───────────────┼──────────────────────────────┼──────────────────────────────────────────────────────┼─────────────────────────────────────────────────┤\n",
            "│ call_module   │ ActQuantProxyFromInjector    │ fc_layer_output_quant_act_quant                      │ fc_layer_output_quant.act_quant                 │\n",
            "├───────────────┼──────────────────────────────┼──────────────────────────────────────────────────────┼─────────────────────────────────────────────────┤\n",
            "│ output        │                              │ output                                               │ output                                          │\n",
            "┕━━━━━━━━━━━━━━━┷━━━━━━━━━━━━━━━━━━━━━━━━━━━━━━┷━━━━━━━━━━━━━━━━━━━━━━━━━━━━━━━━━━━━━━━━━━━━━━━━━━━━━━┷━━━━━━━━━━━━━━━━━━━━━━━━━━━━━━━━━━━━━━━━━━━━━━━━━┙\n",
            "\n",
            "\u001b[94mExtracted Parameters from the Network:\u001b[0m\n",
            "  \u001b[94mx_quant.input_quant:\u001b[0m\n",
            "    scale: None\n",
            "    zero_point: None\n",
            "    bit_width: None\n",
            "    is_signed: None\n",
            "\n",
            "  \u001b[94mx_quant.act_quant:\u001b[0m\n",
            "    scale: 0.01580006815493107\n",
            "    zero_point: 0.0\n",
            "    bit_width: 8.0\n",
            "    is_signed: True\n",
            "\n",
            "  \u001b[94mConvBnRelu1.conv1.layer.input_quant:\u001b[0m\n",
            "    scale: 0.006409205961972475\n",
            "    zero_point: 0.0\n",
            "    bit_width: 8.0\n",
            "    is_signed: True\n",
            "\n",
            "  \u001b[94mConvBnRelu1.conv1.layer.weight_quant:\u001b[0m\n",
            "    scale: 0.006459671538323164\n",
            "    zero_point: 0.0\n",
            "    bit_width: 8.0\n",
            "    is_signed: True\n",
            "\n",
            "  \u001b[94mConvBnRelu1.conv1.layer.bias_quant:\u001b[0m\n",
            "    scale: 4.140136661590077e-05\n",
            "    zero_point: 0.0\n",
            "    bit_width: 32.0\n",
            "    is_signed: True\n",
            "\n",
            "  \u001b[94mConvBnRelu1.conv1.layer.output_quant:\u001b[0m\n",
            "    scale: 0.019342096522450447\n",
            "    zero_point: 0.0\n",
            "    bit_width: 8.0\n",
            "    is_signed: True\n",
            "\n",
            "  \u001b[94mConvBnRelu1.relu1.input_quant:\u001b[0m\n",
            "    scale: None\n",
            "    zero_point: None\n",
            "    bit_width: None\n",
            "    is_signed: None\n",
            "\n",
            "  \u001b[94mConvBnRelu1.relu1.act_quant:\u001b[0m\n",
            "    scale: 0.009704366326332092\n",
            "    zero_point: 0.0\n",
            "    bit_width: 8.0\n",
            "    is_signed: False\n",
            "\n",
            "  \u001b[94mConvBnRelu2.conv1.layer.input_quant:\u001b[0m\n",
            "    scale: 0.0027936070691794157\n",
            "    zero_point: 0.0\n",
            "    bit_width: 8.0\n",
            "    is_signed: True\n",
            "\n",
            "  \u001b[94mConvBnRelu2.conv1.layer.weight_quant:\u001b[0m\n",
            "    scale: 0.003219375852495432\n",
            "    zero_point: 0.0\n",
            "    bit_width: 8.0\n",
            "    is_signed: True\n",
            "\n",
            "  \u001b[94mConvBnRelu2.conv1.layer.bias_quant:\u001b[0m\n",
            "    scale: 8.99367114470806e-06\n",
            "    zero_point: 0.0\n",
            "    bit_width: 32.0\n",
            "    is_signed: True\n",
            "\n",
            "  \u001b[94mConvBnRelu2.conv1.layer.output_quant:\u001b[0m\n",
            "    scale: 0.012869453057646751\n",
            "    zero_point: 0.0\n",
            "    bit_width: 8.0\n",
            "    is_signed: True\n",
            "\n",
            "  \u001b[94mConvBnRelu2.relu1.input_quant:\u001b[0m\n",
            "    scale: None\n",
            "    zero_point: None\n",
            "    bit_width: None\n",
            "    is_signed: None\n",
            "\n",
            "  \u001b[94mConvBnRelu2.relu1.act_quant:\u001b[0m\n",
            "    scale: 0.0055966852232813835\n",
            "    zero_point: 0.0\n",
            "    bit_width: 8.0\n",
            "    is_signed: False\n",
            "\n",
            "  \u001b[94mConvBnRelu3.conv1.layer.input_quant:\u001b[0m\n",
            "    scale: 0.001837919233366847\n",
            "    zero_point: 0.0\n",
            "    bit_width: 8.0\n",
            "    is_signed: True\n",
            "\n",
            "  \u001b[94mConvBnRelu3.conv1.layer.weight_quant:\u001b[0m\n",
            "    scale: 0.0020206053741276264\n",
            "    zero_point: 0.0\n",
            "    bit_width: 8.0\n",
            "    is_signed: True\n",
            "\n",
            "  \u001b[94mConvBnRelu3.conv1.layer.bias_quant:\u001b[0m\n",
            "    scale: 3.713709475050564e-06\n",
            "    zero_point: 0.0\n",
            "    bit_width: 32.0\n",
            "    is_signed: True\n",
            "\n",
            "  \u001b[94mConvBnRelu3.conv1.layer.output_quant:\u001b[0m\n",
            "    scale: 0.0046878475695848465\n",
            "    zero_point: 0.0\n",
            "    bit_width: 8.0\n",
            "    is_signed: True\n",
            "\n",
            "  \u001b[94mConvBnRelu3.relu1.input_quant:\u001b[0m\n",
            "    scale: None\n",
            "    zero_point: None\n",
            "    bit_width: None\n",
            "    is_signed: None\n",
            "\n",
            "  \u001b[94mConvBnRelu3.relu1.act_quant:\u001b[0m\n",
            "    scale: 0.0023466043639928102\n",
            "    zero_point: 0.0\n",
            "    bit_width: 8.0\n",
            "    is_signed: False\n",
            "\n",
            "  \u001b[94mfc.layer.input_quant:\u001b[0m\n",
            "    scale: 0.0006346150767058134\n",
            "    zero_point: 0.0\n",
            "    bit_width: 8.0\n",
            "    is_signed: True\n",
            "\n",
            "  \u001b[94mfc.layer.weight_quant:\u001b[0m\n",
            "    scale: 0.0007354280678555369\n",
            "    zero_point: 0.0\n",
            "    bit_width: 8.0\n",
            "    is_signed: True\n",
            "\n",
            "  \u001b[94mfc.layer.bias_quant:\u001b[0m\n",
            "    scale: 4.667137432079471e-07\n",
            "    zero_point: 0.0\n",
            "    bit_width: 32.0\n",
            "    is_signed: True\n",
            "\n",
            "  \u001b[94mfc.layer.output_quant:\u001b[0m\n",
            "    scale: 0.001173101831227541\n",
            "    zero_point: 0.0\n",
            "    bit_width: 8.0\n",
            "    is_signed: True\n",
            "\n",
            "  \u001b[94mfc_layer_output_quant.input_quant:\u001b[0m\n",
            "    scale: None\n",
            "    zero_point: None\n",
            "    bit_width: None\n",
            "    is_signed: None\n",
            "\n",
            "  \u001b[94mfc_layer_output_quant.act_quant:\u001b[0m\n",
            "    scale: 0.001173101831227541\n",
            "    zero_point: 0.0\n",
            "    bit_width: 8.0\n",
            "    is_signed: True\n",
            "\n",
            "\u001b[94m › Starting Quantization Node Splitting...\u001b[0m\n",
            "\u001b[94m › Quantization Node Splitting completed Successfully\u001b[0m\n",
            "\u001b[92m ✓ Split of Quant Nodes: output is consistent\u001b[0m\n",
            "\n",
            "\u001b[95m==================================================\n",
            "3. Network after Split of Quant Nodes\n",
            "==================================================\u001b[0m\n",
            "┍━━━━━━━━━━━━━━━┯━━━━━━━━━━━━━━━━━━━┯━━━━━━━━━━━━━━━━━━━━━━━━━━━━━━━━━━━━━━━━━━━━━━━━━━━━━━┯━━━━━━━━━━━━━━━━━━━━━━━━━━━━━━━━━━━━━━━━━━━━━━━━━┑\n",
            "│ opcode        │ class             │ name                                                 │ target                                          │\n",
            "┝━━━━━━━━━━━━━━━┿━━━━━━━━━━━━━━━━━━━┿━━━━━━━━━━━━━━━━━━━━━━━━━━━━━━━━━━━━━━━━━━━━━━━━━━━━━━┿━━━━━━━━━━━━━━━━━━━━━━━━━━━━━━━━━━━━━━━━━━━━━━━━━┥\n",
            "│ placeholder   │                   │ x                                                    │ x                                               │\n",
            "├───────────────┼───────────────────┼──────────────────────────────────────────────────────┼─────────────────────────────────────────────────┤\n",
            "│ call_module   │ Quant             │ x_input_quant_1                                      │ x_input_quant_1                                 │\n",
            "├───────────────┼───────────────────┼──────────────────────────────────────────────────────┼─────────────────────────────────────────────────┤\n",
            "│ call_module   │ Dequant           │ x_input_dequant                                      │ x_input_dequant                                 │\n",
            "├───────────────┼───────────────────┼──────────────────────────────────────────────────────┼─────────────────────────────────────────────────┤\n",
            "│ call_module   │ Quant             │ x_wrapped_act_impl_quant_1                           │ x_wrappedActImpl_quant_1                        │\n",
            "├───────────────┼───────────────────┼──────────────────────────────────────────────────────┼─────────────────────────────────────────────────┤\n",
            "│ call_module   │ Dequant           │ x_wrapped_act_impl_dequant                           │ x_wrappedActImpl_dequant                        │\n",
            "├───────────────┼───────────────────┼──────────────────────────────────────────────────────┼─────────────────────────────────────────────────┤\n",
            "│ call_module   │ Quant             │ x_act_quant_1                                        │ x_act_quant_1                                   │\n",
            "├───────────────┼───────────────────┼──────────────────────────────────────────────────────┼─────────────────────────────────────────────────┤\n",
            "│ call_module   │ Dequant           │ x_act_dequant                                        │ x_act_dequant                                   │\n",
            "├───────────────┼───────────────────┼──────────────────────────────────────────────────────┼─────────────────────────────────────────────────┤\n",
            "│ get_attr      │                   │ conv_bn_relu1_conv1_scale_weight                     │ ConvBnRelu1.conv1.scale.weight                  │\n",
            "├───────────────┼───────────────────┼──────────────────────────────────────────────────────┼─────────────────────────────────────────────────┤\n",
            "│ call_method   │                   │ view                                                 │ view                                            │\n",
            "├───────────────┼───────────────────┼──────────────────────────────────────────────────────┼─────────────────────────────────────────────────┤\n",
            "│ call_function │                   │ mul                                                  │ <built-in function mul>                         │\n",
            "├───────────────┼───────────────────┼──────────────────────────────────────────────────────┼─────────────────────────────────────────────────┤\n",
            "│ call_module   │ Quant             │ conv_bn_relu1_conv1_layer_input_quant_1              │ ConvBnRelu1_conv1_layer_input_quant_1           │\n",
            "├───────────────┼───────────────────┼──────────────────────────────────────────────────────┼─────────────────────────────────────────────────┤\n",
            "│ call_module   │ Dequant           │ conv_bn_relu1_conv1_layer_input_dequant              │ ConvBnRelu1_conv1_layer_input_dequant           │\n",
            "├───────────────┼───────────────────┼──────────────────────────────────────────────────────┼─────────────────────────────────────────────────┤\n",
            "│ get_attr      │                   │ conv_bn_relu1_conv1_layer_weight                     │ ConvBnRelu1.conv1.layer.weight                  │\n",
            "├───────────────┼───────────────────┼──────────────────────────────────────────────────────┼─────────────────────────────────────────────────┤\n",
            "│ call_module   │ Quant             │ conv_bn_relu1_conv1_layer_weight_quant_1             │ ConvBnRelu1_conv1_layer_weight_quant_1          │\n",
            "├───────────────┼───────────────────┼──────────────────────────────────────────────────────┼─────────────────────────────────────────────────┤\n",
            "│ call_module   │ Dequant           │ conv_bn_relu1_conv1_layer_weight_dequant             │ ConvBnRelu1_conv1_layer_weight_dequant          │\n",
            "├───────────────┼───────────────────┼──────────────────────────────────────────────────────┼─────────────────────────────────────────────────┤\n",
            "│ get_attr      │                   │ conv_bn_relu1_conv1_layer_bias                       │ ConvBnRelu1.conv1.layer.bias                    │\n",
            "├───────────────┼───────────────────┼──────────────────────────────────────────────────────┼─────────────────────────────────────────────────┤\n",
            "│ call_module   │ Quant             │ conv_bn_relu1_conv1_layer_bias_quant_1               │ ConvBnRelu1_conv1_layer_bias_quant_1            │\n",
            "├───────────────┼───────────────────┼──────────────────────────────────────────────────────┼─────────────────────────────────────────────────┤\n",
            "│ call_module   │ Dequant           │ conv_bn_relu1_conv1_layer_bias_dequant               │ ConvBnRelu1_conv1_layer_bias_dequant            │\n",
            "├───────────────┼───────────────────┼──────────────────────────────────────────────────────┼─────────────────────────────────────────────────┤\n",
            "│ call_module   │ WrapperWBIOL      │ conv_bn_relu1_conv1_layer_wrapped_inner_forward_impl │ ConvBnRelu1.conv1.layer.wrappedInnerForwardImpl │\n",
            "├───────────────┼───────────────────┼──────────────────────────────────────────────────────┼─────────────────────────────────────────────────┤\n",
            "│ call_module   │ Quant             │ conv_bn_relu1_conv1_layer_output_quant_1             │ ConvBnRelu1_conv1_layer_output_quant_1          │\n",
            "├───────────────┼───────────────────┼──────────────────────────────────────────────────────┼─────────────────────────────────────────────────┤\n",
            "│ call_module   │ Dequant           │ conv_bn_relu1_conv1_layer_output_dequant             │ ConvBnRelu1_conv1_layer_output_dequant          │\n",
            "├───────────────┼───────────────────┼──────────────────────────────────────────────────────┼─────────────────────────────────────────────────┤\n",
            "│ call_module   │ Quant             │ conv_bn_relu1_relu1_input_quant_1                    │ ConvBnRelu1_relu1_input_quant_1                 │\n",
            "├───────────────┼───────────────────┼──────────────────────────────────────────────────────┼─────────────────────────────────────────────────┤\n",
            "│ call_module   │ Dequant           │ conv_bn_relu1_relu1_input_dequant                    │ ConvBnRelu1_relu1_input_dequant                 │\n",
            "├───────────────┼───────────────────┼──────────────────────────────────────────────────────┼─────────────────────────────────────────────────┤\n",
            "│ call_module   │ WrapperActivation │ conv_bn_relu1_relu1_wrapped_act_impl                 │ ConvBnRelu1.relu1.wrappedActImpl                │\n",
            "├───────────────┼───────────────────┼──────────────────────────────────────────────────────┼─────────────────────────────────────────────────┤\n",
            "│ call_module   │ Quant             │ conv_bn_relu1_relu1_act_quant_1                      │ ConvBnRelu1_relu1_act_quant_1                   │\n",
            "├───────────────┼───────────────────┼──────────────────────────────────────────────────────┼─────────────────────────────────────────────────┤\n",
            "│ call_module   │ Dequant           │ conv_bn_relu1_relu1_act_dequant                      │ ConvBnRelu1_relu1_act_dequant                   │\n",
            "├───────────────┼───────────────────┼──────────────────────────────────────────────────────┼─────────────────────────────────────────────────┤\n",
            "│ get_attr      │                   │ conv_bn_relu2_conv1_scale_weight                     │ ConvBnRelu2.conv1.scale.weight                  │\n",
            "├───────────────┼───────────────────┼──────────────────────────────────────────────────────┼─────────────────────────────────────────────────┤\n",
            "│ call_method   │                   │ view_1                                               │ view                                            │\n",
            "├───────────────┼───────────────────┼──────────────────────────────────────────────────────┼─────────────────────────────────────────────────┤\n",
            "│ call_function │                   │ mul_1                                                │ <built-in function mul>                         │\n",
            "├───────────────┼───────────────────┼──────────────────────────────────────────────────────┼─────────────────────────────────────────────────┤\n",
            "│ call_module   │ Quant             │ conv_bn_relu2_conv1_layer_input_quant_1              │ ConvBnRelu2_conv1_layer_input_quant_1           │\n",
            "├───────────────┼───────────────────┼──────────────────────────────────────────────────────┼─────────────────────────────────────────────────┤\n",
            "│ call_module   │ Dequant           │ conv_bn_relu2_conv1_layer_input_dequant              │ ConvBnRelu2_conv1_layer_input_dequant           │\n",
            "├───────────────┼───────────────────┼──────────────────────────────────────────────────────┼─────────────────────────────────────────────────┤\n",
            "│ get_attr      │                   │ conv_bn_relu2_conv1_layer_weight                     │ ConvBnRelu2.conv1.layer.weight                  │\n",
            "├───────────────┼───────────────────┼──────────────────────────────────────────────────────┼─────────────────────────────────────────────────┤\n",
            "│ call_module   │ Quant             │ conv_bn_relu2_conv1_layer_weight_quant_1             │ ConvBnRelu2_conv1_layer_weight_quant_1          │\n",
            "├───────────────┼───────────────────┼──────────────────────────────────────────────────────┼─────────────────────────────────────────────────┤\n",
            "│ call_module   │ Dequant           │ conv_bn_relu2_conv1_layer_weight_dequant             │ ConvBnRelu2_conv1_layer_weight_dequant          │\n",
            "├───────────────┼───────────────────┼──────────────────────────────────────────────────────┼─────────────────────────────────────────────────┤\n",
            "│ get_attr      │                   │ conv_bn_relu2_conv1_layer_bias                       │ ConvBnRelu2.conv1.layer.bias                    │\n",
            "├───────────────┼───────────────────┼──────────────────────────────────────────────────────┼─────────────────────────────────────────────────┤\n",
            "│ call_module   │ Quant             │ conv_bn_relu2_conv1_layer_bias_quant_1               │ ConvBnRelu2_conv1_layer_bias_quant_1            │\n",
            "├───────────────┼───────────────────┼──────────────────────────────────────────────────────┼─────────────────────────────────────────────────┤\n",
            "│ call_module   │ Dequant           │ conv_bn_relu2_conv1_layer_bias_dequant               │ ConvBnRelu2_conv1_layer_bias_dequant            │\n",
            "├───────────────┼───────────────────┼──────────────────────────────────────────────────────┼─────────────────────────────────────────────────┤\n",
            "│ call_module   │ WrapperWBIOL      │ conv_bn_relu2_conv1_layer_wrapped_inner_forward_impl │ ConvBnRelu2.conv1.layer.wrappedInnerForwardImpl │\n",
            "├───────────────┼───────────────────┼──────────────────────────────────────────────────────┼─────────────────────────────────────────────────┤\n",
            "│ call_module   │ Quant             │ conv_bn_relu2_conv1_layer_output_quant_1             │ ConvBnRelu2_conv1_layer_output_quant_1          │\n",
            "├───────────────┼───────────────────┼──────────────────────────────────────────────────────┼─────────────────────────────────────────────────┤\n",
            "│ call_module   │ Dequant           │ conv_bn_relu2_conv1_layer_output_dequant             │ ConvBnRelu2_conv1_layer_output_dequant          │\n",
            "├───────────────┼───────────────────┼──────────────────────────────────────────────────────┼─────────────────────────────────────────────────┤\n",
            "│ call_module   │ Quant             │ conv_bn_relu2_relu1_input_quant_1                    │ ConvBnRelu2_relu1_input_quant_1                 │\n",
            "├───────────────┼───────────────────┼──────────────────────────────────────────────────────┼─────────────────────────────────────────────────┤\n",
            "│ call_module   │ Dequant           │ conv_bn_relu2_relu1_input_dequant                    │ ConvBnRelu2_relu1_input_dequant                 │\n",
            "├───────────────┼───────────────────┼──────────────────────────────────────────────────────┼─────────────────────────────────────────────────┤\n",
            "│ call_module   │ WrapperActivation │ conv_bn_relu2_relu1_wrapped_act_impl                 │ ConvBnRelu2.relu1.wrappedActImpl                │\n",
            "├───────────────┼───────────────────┼──────────────────────────────────────────────────────┼─────────────────────────────────────────────────┤\n",
            "│ call_module   │ Quant             │ conv_bn_relu2_relu1_act_quant_1                      │ ConvBnRelu2_relu1_act_quant_1                   │\n",
            "├───────────────┼───────────────────┼──────────────────────────────────────────────────────┼─────────────────────────────────────────────────┤\n",
            "│ call_module   │ Dequant           │ conv_bn_relu2_relu1_act_dequant                      │ ConvBnRelu2_relu1_act_dequant                   │\n",
            "├───────────────┼───────────────────┼──────────────────────────────────────────────────────┼─────────────────────────────────────────────────┤\n",
            "│ call_module   │ MaxPool2d         │ pool                                                 │ pool                                            │\n",
            "├───────────────┼───────────────────┼──────────────────────────────────────────────────────┼─────────────────────────────────────────────────┤\n",
            "│ get_attr      │                   │ conv_bn_relu3_conv1_scale_weight                     │ ConvBnRelu3.conv1.scale.weight                  │\n",
            "├───────────────┼───────────────────┼──────────────────────────────────────────────────────┼─────────────────────────────────────────────────┤\n",
            "│ call_method   │                   │ view_2                                               │ view                                            │\n",
            "├───────────────┼───────────────────┼──────────────────────────────────────────────────────┼─────────────────────────────────────────────────┤\n",
            "│ call_function │                   │ mul_2                                                │ <built-in function mul>                         │\n",
            "├───────────────┼───────────────────┼──────────────────────────────────────────────────────┼─────────────────────────────────────────────────┤\n",
            "│ call_module   │ Quant             │ conv_bn_relu3_conv1_layer_input_quant_1              │ ConvBnRelu3_conv1_layer_input_quant_1           │\n",
            "├───────────────┼───────────────────┼──────────────────────────────────────────────────────┼─────────────────────────────────────────────────┤\n",
            "│ call_module   │ Dequant           │ conv_bn_relu3_conv1_layer_input_dequant              │ ConvBnRelu3_conv1_layer_input_dequant           │\n",
            "├───────────────┼───────────────────┼──────────────────────────────────────────────────────┼─────────────────────────────────────────────────┤\n",
            "│ get_attr      │                   │ conv_bn_relu3_conv1_layer_weight                     │ ConvBnRelu3.conv1.layer.weight                  │\n",
            "├───────────────┼───────────────────┼──────────────────────────────────────────────────────┼─────────────────────────────────────────────────┤\n",
            "│ call_module   │ Quant             │ conv_bn_relu3_conv1_layer_weight_quant_1             │ ConvBnRelu3_conv1_layer_weight_quant_1          │\n",
            "├───────────────┼───────────────────┼──────────────────────────────────────────────────────┼─────────────────────────────────────────────────┤\n",
            "│ call_module   │ Dequant           │ conv_bn_relu3_conv1_layer_weight_dequant             │ ConvBnRelu3_conv1_layer_weight_dequant          │\n",
            "├───────────────┼───────────────────┼──────────────────────────────────────────────────────┼─────────────────────────────────────────────────┤\n",
            "│ get_attr      │                   │ conv_bn_relu3_conv1_layer_bias                       │ ConvBnRelu3.conv1.layer.bias                    │\n",
            "├───────────────┼───────────────────┼──────────────────────────────────────────────────────┼─────────────────────────────────────────────────┤\n",
            "│ call_module   │ Quant             │ conv_bn_relu3_conv1_layer_bias_quant_1               │ ConvBnRelu3_conv1_layer_bias_quant_1            │\n",
            "├───────────────┼───────────────────┼──────────────────────────────────────────────────────┼─────────────────────────────────────────────────┤\n",
            "│ call_module   │ Dequant           │ conv_bn_relu3_conv1_layer_bias_dequant               │ ConvBnRelu3_conv1_layer_bias_dequant            │\n",
            "├───────────────┼───────────────────┼──────────────────────────────────────────────────────┼─────────────────────────────────────────────────┤\n",
            "│ call_module   │ WrapperWBIOL      │ conv_bn_relu3_conv1_layer_wrapped_inner_forward_impl │ ConvBnRelu3.conv1.layer.wrappedInnerForwardImpl │\n",
            "├───────────────┼───────────────────┼──────────────────────────────────────────────────────┼─────────────────────────────────────────────────┤\n",
            "│ call_module   │ Quant             │ conv_bn_relu3_conv1_layer_output_quant_1             │ ConvBnRelu3_conv1_layer_output_quant_1          │\n",
            "├───────────────┼───────────────────┼──────────────────────────────────────────────────────┼─────────────────────────────────────────────────┤\n",
            "│ call_module   │ Dequant           │ conv_bn_relu3_conv1_layer_output_dequant             │ ConvBnRelu3_conv1_layer_output_dequant          │\n",
            "├───────────────┼───────────────────┼──────────────────────────────────────────────────────┼─────────────────────────────────────────────────┤\n",
            "│ call_module   │ Quant             │ conv_bn_relu3_relu1_input_quant_1                    │ ConvBnRelu3_relu1_input_quant_1                 │\n",
            "├───────────────┼───────────────────┼──────────────────────────────────────────────────────┼─────────────────────────────────────────────────┤\n",
            "│ call_module   │ Dequant           │ conv_bn_relu3_relu1_input_dequant                    │ ConvBnRelu3_relu1_input_dequant                 │\n",
            "├───────────────┼───────────────────┼──────────────────────────────────────────────────────┼─────────────────────────────────────────────────┤\n",
            "│ call_module   │ WrapperActivation │ conv_bn_relu3_relu1_wrapped_act_impl                 │ ConvBnRelu3.relu1.wrappedActImpl                │\n",
            "├───────────────┼───────────────────┼──────────────────────────────────────────────────────┼─────────────────────────────────────────────────┤\n",
            "│ call_module   │ Quant             │ conv_bn_relu3_relu1_act_quant_1                      │ ConvBnRelu3_relu1_act_quant_1                   │\n",
            "├───────────────┼───────────────────┼──────────────────────────────────────────────────────┼─────────────────────────────────────────────────┤\n",
            "│ call_module   │ Dequant           │ conv_bn_relu3_relu1_act_dequant                      │ ConvBnRelu3_relu1_act_dequant                   │\n",
            "├───────────────┼───────────────────┼──────────────────────────────────────────────────────┼─────────────────────────────────────────────────┤\n",
            "│ call_module   │ Dropout           │ dropout                                              │ dropout                                         │\n",
            "├───────────────┼───────────────────┼──────────────────────────────────────────────────────┼─────────────────────────────────────────────────┤\n",
            "│ call_method   │                   │ flatten                                              │ flatten                                         │\n",
            "├───────────────┼───────────────────┼──────────────────────────────────────────────────────┼─────────────────────────────────────────────────┤\n",
            "│ get_attr      │                   │ fc_scale_weight                                      │ fc.scale.weight                                 │\n",
            "├───────────────┼───────────────────┼──────────────────────────────────────────────────────┼─────────────────────────────────────────────────┤\n",
            "│ call_method   │                   │ view_3                                               │ view                                            │\n",
            "├───────────────┼───────────────────┼──────────────────────────────────────────────────────┼─────────────────────────────────────────────────┤\n",
            "│ call_function │                   │ mul_3                                                │ <built-in function mul>                         │\n",
            "├───────────────┼───────────────────┼──────────────────────────────────────────────────────┼─────────────────────────────────────────────────┤\n",
            "│ call_module   │ Quant             │ fc_layer_input_quant_1                               │ fc_layer_input_quant_1                          │\n",
            "├───────────────┼───────────────────┼──────────────────────────────────────────────────────┼─────────────────────────────────────────────────┤\n",
            "│ call_module   │ Dequant           │ fc_layer_input_dequant                               │ fc_layer_input_dequant                          │\n",
            "├───────────────┼───────────────────┼──────────────────────────────────────────────────────┼─────────────────────────────────────────────────┤\n",
            "│ get_attr      │                   │ fc_layer_weight                                      │ fc.layer.weight                                 │\n",
            "├───────────────┼───────────────────┼──────────────────────────────────────────────────────┼─────────────────────────────────────────────────┤\n",
            "│ call_module   │ Quant             │ fc_layer_weight_quant_1                              │ fc_layer_weight_quant_1                         │\n",
            "├───────────────┼───────────────────┼──────────────────────────────────────────────────────┼─────────────────────────────────────────────────┤\n",
            "│ call_module   │ Dequant           │ fc_layer_weight_dequant                              │ fc_layer_weight_dequant                         │\n",
            "├───────────────┼───────────────────┼──────────────────────────────────────────────────────┼─────────────────────────────────────────────────┤\n",
            "│ get_attr      │                   │ fc_layer_bias                                        │ fc.layer.bias                                   │\n",
            "├───────────────┼───────────────────┼──────────────────────────────────────────────────────┼─────────────────────────────────────────────────┤\n",
            "│ call_module   │ Quant             │ fc_layer_bias_quant_1                                │ fc_layer_bias_quant_1                           │\n",
            "├───────────────┼───────────────────┼──────────────────────────────────────────────────────┼─────────────────────────────────────────────────┤\n",
            "│ call_module   │ Dequant           │ fc_layer_bias_dequant                                │ fc_layer_bias_dequant                           │\n",
            "├───────────────┼───────────────────┼──────────────────────────────────────────────────────┼─────────────────────────────────────────────────┤\n",
            "│ call_module   │ WrapperWBIOL      │ fc_layer_wrapped_inner_forward_impl                  │ fc.layer.wrappedInnerForwardImpl                │\n",
            "├───────────────┼───────────────────┼──────────────────────────────────────────────────────┼─────────────────────────────────────────────────┤\n",
            "│ call_module   │ Quant             │ fc_layer_output_quant_1                              │ fc_layer_output_quant_1                         │\n",
            "├───────────────┼───────────────────┼──────────────────────────────────────────────────────┼─────────────────────────────────────────────────┤\n",
            "│ call_module   │ Dequant           │ fc_layer_output_dequant                              │ fc_layer_output_dequant                         │\n",
            "├───────────────┼───────────────────┼──────────────────────────────────────────────────────┼─────────────────────────────────────────────────┤\n",
            "│ call_module   │ Quant             │ fc_layer_output_input_quant_1                        │ fc_layer_output_input_quant_1                   │\n",
            "├───────────────┼───────────────────┼──────────────────────────────────────────────────────┼─────────────────────────────────────────────────┤\n",
            "│ call_module   │ Dequant           │ fc_layer_output_input_dequant                        │ fc_layer_output_input_dequant                   │\n",
            "├───────────────┼───────────────────┼──────────────────────────────────────────────────────┼─────────────────────────────────────────────────┤\n",
            "│ call_module   │ Quant             │ fc_layer_output_wrapped_act_impl_quant_1             │ fc_layer_output_wrappedActImpl_quant_1          │\n",
            "├───────────────┼───────────────────┼──────────────────────────────────────────────────────┼─────────────────────────────────────────────────┤\n",
            "│ call_module   │ Dequant           │ fc_layer_output_wrapped_act_impl_dequant             │ fc_layer_output_wrappedActImpl_dequant          │\n",
            "├───────────────┼───────────────────┼──────────────────────────────────────────────────────┼─────────────────────────────────────────────────┤\n",
            "│ call_module   │ Quant             │ fc_layer_output_act_quant_1                          │ fc_layer_output_act_quant_1                     │\n",
            "├───────────────┼───────────────────┼──────────────────────────────────────────────────────┼─────────────────────────────────────────────────┤\n",
            "│ call_module   │ Dequant           │ fc_layer_output_act_dequant                          │ fc_layer_output_act_dequant                     │\n",
            "├───────────────┼───────────────────┼──────────────────────────────────────────────────────┼─────────────────────────────────────────────────┤\n",
            "│ output        │                   │ output                                               │ output                                          │\n",
            "┕━━━━━━━━━━━━━━━┷━━━━━━━━━━━━━━━━━━━┷━━━━━━━━━━━━━━━━━━━━━━━━━━━━━━━━━━━━━━━━━━━━━━━━━━━━━━┷━━━━━━━━━━━━━━━━━━━━━━━━━━━━━━━━━━━━━━━━━━━━━━━━━┙\n",
            "\n",
            "Registered mapping: ConvBnRelu1.conv1.layer.wrappedInnerForwardImpl → ConvBnRelu1_conv1_layer_unified_dequant\n",
            "Registered mapping: ConvBnRelu2.conv1.layer.wrappedInnerForwardImpl → ConvBnRelu2_conv1_layer_unified_dequant\n",
            "Registered mapping: ConvBnRelu3.conv1.layer.wrappedInnerForwardImpl → ConvBnRelu3_conv1_layer_unified_dequant\n",
            "Registered mapping: fc.layer.wrappedInnerForwardImpl → fc_layer_unified_dequant\n",
            "\u001b[94m › Starting Modification of Dequant Nodes...\u001b[0m\n",
            "\u001b[92m ✓ Modification done for ConvBnRelu1.conv1.layer.wrappedInnerForwardImpl\u001b[0m\n",
            "\u001b[92m ✓ Modification done for ConvBnRelu2.conv1.layer.wrappedInnerForwardImpl\u001b[0m\n",
            "\u001b[92m ✓ Modification done for ConvBnRelu3.conv1.layer.wrappedInnerForwardImpl\u001b[0m\n",
            "\u001b[92m ✓ Modification done for fc.layer.wrappedInnerForwardImpl\u001b[0m\n",
            "\u001b[94m › Modification of Dequant Nodes completed successfully\u001b[0m\n",
            "\n",
            "\u001b[95m==================================================\n",
            "4. Network after Modification of Dequant Nodes\n",
            "==================================================\u001b[0m\n",
            "┍━━━━━━━━━━━━━━━┯━━━━━━━━━━━━━━━━━━━┯━━━━━━━━━━━━━━━━━━━━━━━━━━━━━━━━━━━━━━━━━━━━━━━━━━━━━━┯━━━━━━━━━━━━━━━━━━━━━━━━━━━━━━━━━━━━━━━━━━━━━━━━━┑\n",
            "│ opcode        │ class             │ name                                                 │ target                                          │\n",
            "┝━━━━━━━━━━━━━━━┿━━━━━━━━━━━━━━━━━━━┿━━━━━━━━━━━━━━━━━━━━━━━━━━━━━━━━━━━━━━━━━━━━━━━━━━━━━━┿━━━━━━━━━━━━━━━━━━━━━━━━━━━━━━━━━━━━━━━━━━━━━━━━━┥\n",
            "│ placeholder   │                   │ x                                                    │ x                                               │\n",
            "├───────────────┼───────────────────┼──────────────────────────────────────────────────────┼─────────────────────────────────────────────────┤\n",
            "│ call_module   │ Quant             │ x_input_quant_1                                      │ x_input_quant_1                                 │\n",
            "├───────────────┼───────────────────┼──────────────────────────────────────────────────────┼─────────────────────────────────────────────────┤\n",
            "│ call_module   │ Dequant           │ x_input_dequant                                      │ x_input_dequant                                 │\n",
            "├───────────────┼───────────────────┼──────────────────────────────────────────────────────┼─────────────────────────────────────────────────┤\n",
            "│ call_module   │ Quant             │ x_wrapped_act_impl_quant_1                           │ x_wrappedActImpl_quant_1                        │\n",
            "├───────────────┼───────────────────┼──────────────────────────────────────────────────────┼─────────────────────────────────────────────────┤\n",
            "│ call_module   │ Dequant           │ x_wrapped_act_impl_dequant                           │ x_wrappedActImpl_dequant                        │\n",
            "├───────────────┼───────────────────┼──────────────────────────────────────────────────────┼─────────────────────────────────────────────────┤\n",
            "│ call_module   │ Quant             │ x_act_quant_1                                        │ x_act_quant_1                                   │\n",
            "├───────────────┼───────────────────┼──────────────────────────────────────────────────────┼─────────────────────────────────────────────────┤\n",
            "│ call_module   │ Dequant           │ x_act_dequant                                        │ x_act_dequant                                   │\n",
            "├───────────────┼───────────────────┼──────────────────────────────────────────────────────┼─────────────────────────────────────────────────┤\n",
            "│ get_attr      │                   │ conv_bn_relu1_conv1_scale_weight                     │ ConvBnRelu1.conv1.scale.weight                  │\n",
            "├───────────────┼───────────────────┼──────────────────────────────────────────────────────┼─────────────────────────────────────────────────┤\n",
            "│ call_method   │                   │ view                                                 │ view                                            │\n",
            "├───────────────┼───────────────────┼──────────────────────────────────────────────────────┼─────────────────────────────────────────────────┤\n",
            "│ call_function │                   │ mul                                                  │ <built-in function mul>                         │\n",
            "├───────────────┼───────────────────┼──────────────────────────────────────────────────────┼─────────────────────────────────────────────────┤\n",
            "│ call_module   │ Quant             │ conv_bn_relu1_conv1_layer_input_quant_1              │ ConvBnRelu1_conv1_layer_input_quant_1           │\n",
            "├───────────────┼───────────────────┼──────────────────────────────────────────────────────┼─────────────────────────────────────────────────┤\n",
            "│ get_attr      │                   │ conv_bn_relu1_conv1_layer_weight                     │ ConvBnRelu1.conv1.layer.weight                  │\n",
            "├───────────────┼───────────────────┼──────────────────────────────────────────────────────┼─────────────────────────────────────────────────┤\n",
            "│ call_module   │ Quant             │ conv_bn_relu1_conv1_layer_weight_quant_1             │ ConvBnRelu1_conv1_layer_weight_quant_1          │\n",
            "├───────────────┼───────────────────┼──────────────────────────────────────────────────────┼─────────────────────────────────────────────────┤\n",
            "│ get_attr      │                   │ conv_bn_relu1_conv1_layer_bias                       │ ConvBnRelu1.conv1.layer.bias                    │\n",
            "├───────────────┼───────────────────┼──────────────────────────────────────────────────────┼─────────────────────────────────────────────────┤\n",
            "│ call_module   │ Quant             │ conv_bn_relu1_conv1_layer_bias_quant_1               │ ConvBnRelu1_conv1_layer_bias_quant_1            │\n",
            "├───────────────┼───────────────────┼──────────────────────────────────────────────────────┼─────────────────────────────────────────────────┤\n",
            "│ call_module   │ WrapperWBIOL      │ conv_bn_relu1_conv1_layer_wrapped_inner_forward_impl │ ConvBnRelu1.conv1.layer.wrappedInnerForwardImpl │\n",
            "├───────────────┼───────────────────┼──────────────────────────────────────────────────────┼─────────────────────────────────────────────────┤\n",
            "│ call_module   │ Dequant           │ conv_bn_relu1_conv1_layer_unified_dequant            │ ConvBnRelu1_conv1_layer_unified_dequant         │\n",
            "├───────────────┼───────────────────┼──────────────────────────────────────────────────────┼─────────────────────────────────────────────────┤\n",
            "│ call_module   │ Quant             │ conv_bn_relu1_conv1_layer_output_quant_1             │ ConvBnRelu1_conv1_layer_output_quant_1          │\n",
            "├───────────────┼───────────────────┼──────────────────────────────────────────────────────┼─────────────────────────────────────────────────┤\n",
            "│ call_module   │ Dequant           │ conv_bn_relu1_conv1_layer_output_dequant             │ ConvBnRelu1_conv1_layer_output_dequant          │\n",
            "├───────────────┼───────────────────┼──────────────────────────────────────────────────────┼─────────────────────────────────────────────────┤\n",
            "│ call_module   │ Quant             │ conv_bn_relu1_relu1_input_quant_1                    │ ConvBnRelu1_relu1_input_quant_1                 │\n",
            "├───────────────┼───────────────────┼──────────────────────────────────────────────────────┼─────────────────────────────────────────────────┤\n",
            "│ call_module   │ Dequant           │ conv_bn_relu1_relu1_input_dequant                    │ ConvBnRelu1_relu1_input_dequant                 │\n",
            "├───────────────┼───────────────────┼──────────────────────────────────────────────────────┼─────────────────────────────────────────────────┤\n",
            "│ call_module   │ WrapperActivation │ conv_bn_relu1_relu1_wrapped_act_impl                 │ ConvBnRelu1.relu1.wrappedActImpl                │\n",
            "├───────────────┼───────────────────┼──────────────────────────────────────────────────────┼─────────────────────────────────────────────────┤\n",
            "│ call_module   │ Quant             │ conv_bn_relu1_relu1_act_quant_1                      │ ConvBnRelu1_relu1_act_quant_1                   │\n",
            "├───────────────┼───────────────────┼──────────────────────────────────────────────────────┼─────────────────────────────────────────────────┤\n",
            "│ call_module   │ Dequant           │ conv_bn_relu1_relu1_act_dequant                      │ ConvBnRelu1_relu1_act_dequant                   │\n",
            "├───────────────┼───────────────────┼──────────────────────────────────────────────────────┼─────────────────────────────────────────────────┤\n",
            "│ get_attr      │                   │ conv_bn_relu2_conv1_scale_weight                     │ ConvBnRelu2.conv1.scale.weight                  │\n",
            "├───────────────┼───────────────────┼──────────────────────────────────────────────────────┼─────────────────────────────────────────────────┤\n",
            "│ call_method   │                   │ view_1                                               │ view                                            │\n",
            "├───────────────┼───────────────────┼──────────────────────────────────────────────────────┼─────────────────────────────────────────────────┤\n",
            "│ call_function │                   │ mul_1                                                │ <built-in function mul>                         │\n",
            "├───────────────┼───────────────────┼──────────────────────────────────────────────────────┼─────────────────────────────────────────────────┤\n",
            "│ call_module   │ Quant             │ conv_bn_relu2_conv1_layer_input_quant_1              │ ConvBnRelu2_conv1_layer_input_quant_1           │\n",
            "├───────────────┼───────────────────┼──────────────────────────────────────────────────────┼─────────────────────────────────────────────────┤\n",
            "│ get_attr      │                   │ conv_bn_relu2_conv1_layer_weight                     │ ConvBnRelu2.conv1.layer.weight                  │\n",
            "├───────────────┼───────────────────┼──────────────────────────────────────────────────────┼─────────────────────────────────────────────────┤\n",
            "│ call_module   │ Quant             │ conv_bn_relu2_conv1_layer_weight_quant_1             │ ConvBnRelu2_conv1_layer_weight_quant_1          │\n",
            "├───────────────┼───────────────────┼──────────────────────────────────────────────────────┼─────────────────────────────────────────────────┤\n",
            "│ get_attr      │                   │ conv_bn_relu2_conv1_layer_bias                       │ ConvBnRelu2.conv1.layer.bias                    │\n",
            "├───────────────┼───────────────────┼──────────────────────────────────────────────────────┼─────────────────────────────────────────────────┤\n",
            "│ call_module   │ Quant             │ conv_bn_relu2_conv1_layer_bias_quant_1               │ ConvBnRelu2_conv1_layer_bias_quant_1            │\n",
            "├───────────────┼───────────────────┼──────────────────────────────────────────────────────┼─────────────────────────────────────────────────┤\n",
            "│ call_module   │ WrapperWBIOL      │ conv_bn_relu2_conv1_layer_wrapped_inner_forward_impl │ ConvBnRelu2.conv1.layer.wrappedInnerForwardImpl │\n",
            "├───────────────┼───────────────────┼──────────────────────────────────────────────────────┼─────────────────────────────────────────────────┤\n",
            "│ call_module   │ Dequant           │ conv_bn_relu2_conv1_layer_unified_dequant            │ ConvBnRelu2_conv1_layer_unified_dequant         │\n",
            "├───────────────┼───────────────────┼──────────────────────────────────────────────────────┼─────────────────────────────────────────────────┤\n",
            "│ call_module   │ Quant             │ conv_bn_relu2_conv1_layer_output_quant_1             │ ConvBnRelu2_conv1_layer_output_quant_1          │\n",
            "├───────────────┼───────────────────┼──────────────────────────────────────────────────────┼─────────────────────────────────────────────────┤\n",
            "│ call_module   │ Dequant           │ conv_bn_relu2_conv1_layer_output_dequant             │ ConvBnRelu2_conv1_layer_output_dequant          │\n",
            "├───────────────┼───────────────────┼──────────────────────────────────────────────────────┼─────────────────────────────────────────────────┤\n",
            "│ call_module   │ Quant             │ conv_bn_relu2_relu1_input_quant_1                    │ ConvBnRelu2_relu1_input_quant_1                 │\n",
            "├───────────────┼───────────────────┼──────────────────────────────────────────────────────┼─────────────────────────────────────────────────┤\n",
            "│ call_module   │ Dequant           │ conv_bn_relu2_relu1_input_dequant                    │ ConvBnRelu2_relu1_input_dequant                 │\n",
            "├───────────────┼───────────────────┼──────────────────────────────────────────────────────┼─────────────────────────────────────────────────┤\n",
            "│ call_module   │ WrapperActivation │ conv_bn_relu2_relu1_wrapped_act_impl                 │ ConvBnRelu2.relu1.wrappedActImpl                │\n",
            "├───────────────┼───────────────────┼──────────────────────────────────────────────────────┼─────────────────────────────────────────────────┤\n",
            "│ call_module   │ Quant             │ conv_bn_relu2_relu1_act_quant_1                      │ ConvBnRelu2_relu1_act_quant_1                   │\n",
            "├───────────────┼───────────────────┼──────────────────────────────────────────────────────┼─────────────────────────────────────────────────┤\n",
            "│ call_module   │ Dequant           │ conv_bn_relu2_relu1_act_dequant                      │ ConvBnRelu2_relu1_act_dequant                   │\n",
            "├───────────────┼───────────────────┼──────────────────────────────────────────────────────┼─────────────────────────────────────────────────┤\n",
            "│ call_module   │ MaxPool2d         │ pool                                                 │ pool                                            │\n",
            "├───────────────┼───────────────────┼──────────────────────────────────────────────────────┼─────────────────────────────────────────────────┤\n",
            "│ get_attr      │                   │ conv_bn_relu3_conv1_scale_weight                     │ ConvBnRelu3.conv1.scale.weight                  │\n",
            "├───────────────┼───────────────────┼──────────────────────────────────────────────────────┼─────────────────────────────────────────────────┤\n",
            "│ call_method   │                   │ view_2                                               │ view                                            │\n",
            "├───────────────┼───────────────────┼──────────────────────────────────────────────────────┼─────────────────────────────────────────────────┤\n",
            "│ call_function │                   │ mul_2                                                │ <built-in function mul>                         │\n",
            "├───────────────┼───────────────────┼──────────────────────────────────────────────────────┼─────────────────────────────────────────────────┤\n",
            "│ call_module   │ Quant             │ conv_bn_relu3_conv1_layer_input_quant_1              │ ConvBnRelu3_conv1_layer_input_quant_1           │\n",
            "├───────────────┼───────────────────┼──────────────────────────────────────────────────────┼─────────────────────────────────────────────────┤\n",
            "│ get_attr      │                   │ conv_bn_relu3_conv1_layer_weight                     │ ConvBnRelu3.conv1.layer.weight                  │\n",
            "├───────────────┼───────────────────┼──────────────────────────────────────────────────────┼─────────────────────────────────────────────────┤\n",
            "│ call_module   │ Quant             │ conv_bn_relu3_conv1_layer_weight_quant_1             │ ConvBnRelu3_conv1_layer_weight_quant_1          │\n",
            "├───────────────┼───────────────────┼──────────────────────────────────────────────────────┼─────────────────────────────────────────────────┤\n",
            "│ get_attr      │                   │ conv_bn_relu3_conv1_layer_bias                       │ ConvBnRelu3.conv1.layer.bias                    │\n",
            "├───────────────┼───────────────────┼──────────────────────────────────────────────────────┼─────────────────────────────────────────────────┤\n",
            "│ call_module   │ Quant             │ conv_bn_relu3_conv1_layer_bias_quant_1               │ ConvBnRelu3_conv1_layer_bias_quant_1            │\n",
            "├───────────────┼───────────────────┼──────────────────────────────────────────────────────┼─────────────────────────────────────────────────┤\n",
            "│ call_module   │ WrapperWBIOL      │ conv_bn_relu3_conv1_layer_wrapped_inner_forward_impl │ ConvBnRelu3.conv1.layer.wrappedInnerForwardImpl │\n",
            "├───────────────┼───────────────────┼──────────────────────────────────────────────────────┼─────────────────────────────────────────────────┤\n",
            "│ call_module   │ Dequant           │ conv_bn_relu3_conv1_layer_unified_dequant            │ ConvBnRelu3_conv1_layer_unified_dequant         │\n",
            "├───────────────┼───────────────────┼──────────────────────────────────────────────────────┼─────────────────────────────────────────────────┤\n",
            "│ call_module   │ Quant             │ conv_bn_relu3_conv1_layer_output_quant_1             │ ConvBnRelu3_conv1_layer_output_quant_1          │\n",
            "├───────────────┼───────────────────┼──────────────────────────────────────────────────────┼─────────────────────────────────────────────────┤\n",
            "│ call_module   │ Dequant           │ conv_bn_relu3_conv1_layer_output_dequant             │ ConvBnRelu3_conv1_layer_output_dequant          │\n",
            "├───────────────┼───────────────────┼──────────────────────────────────────────────────────┼─────────────────────────────────────────────────┤\n",
            "│ call_module   │ Quant             │ conv_bn_relu3_relu1_input_quant_1                    │ ConvBnRelu3_relu1_input_quant_1                 │\n",
            "├───────────────┼───────────────────┼──────────────────────────────────────────────────────┼─────────────────────────────────────────────────┤\n",
            "│ call_module   │ Dequant           │ conv_bn_relu3_relu1_input_dequant                    │ ConvBnRelu3_relu1_input_dequant                 │\n",
            "├───────────────┼───────────────────┼──────────────────────────────────────────────────────┼─────────────────────────────────────────────────┤\n",
            "│ call_module   │ WrapperActivation │ conv_bn_relu3_relu1_wrapped_act_impl                 │ ConvBnRelu3.relu1.wrappedActImpl                │\n",
            "├───────────────┼───────────────────┼──────────────────────────────────────────────────────┼─────────────────────────────────────────────────┤\n",
            "│ call_module   │ Quant             │ conv_bn_relu3_relu1_act_quant_1                      │ ConvBnRelu3_relu1_act_quant_1                   │\n",
            "├───────────────┼───────────────────┼──────────────────────────────────────────────────────┼─────────────────────────────────────────────────┤\n",
            "│ call_module   │ Dequant           │ conv_bn_relu3_relu1_act_dequant                      │ ConvBnRelu3_relu1_act_dequant                   │\n",
            "├───────────────┼───────────────────┼──────────────────────────────────────────────────────┼─────────────────────────────────────────────────┤\n",
            "│ call_module   │ Dropout           │ dropout                                              │ dropout                                         │\n",
            "├───────────────┼───────────────────┼──────────────────────────────────────────────────────┼─────────────────────────────────────────────────┤\n",
            "│ call_method   │                   │ flatten                                              │ flatten                                         │\n",
            "├───────────────┼───────────────────┼──────────────────────────────────────────────────────┼─────────────────────────────────────────────────┤\n",
            "│ get_attr      │                   │ fc_scale_weight                                      │ fc.scale.weight                                 │\n",
            "├───────────────┼───────────────────┼──────────────────────────────────────────────────────┼─────────────────────────────────────────────────┤\n",
            "│ call_method   │                   │ view_3                                               │ view                                            │\n",
            "├───────────────┼───────────────────┼──────────────────────────────────────────────────────┼─────────────────────────────────────────────────┤\n",
            "│ call_function │                   │ mul_3                                                │ <built-in function mul>                         │\n",
            "├───────────────┼───────────────────┼──────────────────────────────────────────────────────┼─────────────────────────────────────────────────┤\n",
            "│ call_module   │ Quant             │ fc_layer_input_quant_1                               │ fc_layer_input_quant_1                          │\n",
            "├───────────────┼───────────────────┼──────────────────────────────────────────────────────┼─────────────────────────────────────────────────┤\n",
            "│ get_attr      │                   │ fc_layer_weight                                      │ fc.layer.weight                                 │\n",
            "├───────────────┼───────────────────┼──────────────────────────────────────────────────────┼─────────────────────────────────────────────────┤\n",
            "│ call_module   │ Quant             │ fc_layer_weight_quant_1                              │ fc_layer_weight_quant_1                         │\n",
            "├───────────────┼───────────────────┼──────────────────────────────────────────────────────┼─────────────────────────────────────────────────┤\n",
            "│ get_attr      │                   │ fc_layer_bias                                        │ fc.layer.bias                                   │\n",
            "├───────────────┼───────────────────┼──────────────────────────────────────────────────────┼─────────────────────────────────────────────────┤\n",
            "│ call_module   │ Quant             │ fc_layer_bias_quant_1                                │ fc_layer_bias_quant_1                           │\n",
            "├───────────────┼───────────────────┼──────────────────────────────────────────────────────┼─────────────────────────────────────────────────┤\n",
            "│ call_module   │ WrapperWBIOL      │ fc_layer_wrapped_inner_forward_impl                  │ fc.layer.wrappedInnerForwardImpl                │\n",
            "├───────────────┼───────────────────┼──────────────────────────────────────────────────────┼─────────────────────────────────────────────────┤\n",
            "│ call_module   │ Dequant           │ fc_layer_unified_dequant                             │ fc_layer_unified_dequant                        │\n",
            "├───────────────┼───────────────────┼──────────────────────────────────────────────────────┼─────────────────────────────────────────────────┤\n",
            "│ call_module   │ Quant             │ fc_layer_output_quant_1                              │ fc_layer_output_quant_1                         │\n",
            "├───────────────┼───────────────────┼──────────────────────────────────────────────────────┼─────────────────────────────────────────────────┤\n",
            "│ call_module   │ Dequant           │ fc_layer_output_dequant                              │ fc_layer_output_dequant                         │\n",
            "├───────────────┼───────────────────┼──────────────────────────────────────────────────────┼─────────────────────────────────────────────────┤\n",
            "│ call_module   │ Quant             │ fc_layer_output_input_quant_1                        │ fc_layer_output_input_quant_1                   │\n",
            "├───────────────┼───────────────────┼──────────────────────────────────────────────────────┼─────────────────────────────────────────────────┤\n",
            "│ call_module   │ Dequant           │ fc_layer_output_input_dequant                        │ fc_layer_output_input_dequant                   │\n",
            "├───────────────┼───────────────────┼──────────────────────────────────────────────────────┼─────────────────────────────────────────────────┤\n",
            "│ call_module   │ Quant             │ fc_layer_output_wrapped_act_impl_quant_1             │ fc_layer_output_wrappedActImpl_quant_1          │\n",
            "├───────────────┼───────────────────┼──────────────────────────────────────────────────────┼─────────────────────────────────────────────────┤\n",
            "│ call_module   │ Dequant           │ fc_layer_output_wrapped_act_impl_dequant             │ fc_layer_output_wrappedActImpl_dequant          │\n",
            "├───────────────┼───────────────────┼──────────────────────────────────────────────────────┼─────────────────────────────────────────────────┤\n",
            "│ call_module   │ Quant             │ fc_layer_output_act_quant_1                          │ fc_layer_output_act_quant_1                     │\n",
            "├───────────────┼───────────────────┼──────────────────────────────────────────────────────┼─────────────────────────────────────────────────┤\n",
            "│ call_module   │ Dequant           │ fc_layer_output_act_dequant                          │ fc_layer_output_act_dequant                     │\n",
            "├───────────────┼───────────────────┼──────────────────────────────────────────────────────┼─────────────────────────────────────────────────┤\n",
            "│ output        │                   │ output                                               │ output                                          │\n",
            "┕━━━━━━━━━━━━━━━┷━━━━━━━━━━━━━━━━━━━┷━━━━━━━━━━━━━━━━━━━━━━━━━━━━━━━━━━━━━━━━━━━━━━━━━━━━━━┷━━━━━━━━━━━━━━━━━━━━━━━━━━━━━━━━━━━━━━━━━━━━━━━━━┙\n",
            "\n",
            "\u001b[94m › Tensor Comparison Before/After Dequant Unification:\u001b[0m\n",
            "Compared 66: \u001b[92m62 equal\u001b[0m, \u001b[91m4 different\u001b[0m\n",
            "\n",
            "  \u001b[92m[OK]\u001b[0m x_input_quant_1 | shape (1, 1, 28, 28)\n",
            "  \u001b[92m[OK]\u001b[0m x_input_dequant | shape (1, 1, 28, 28)\n",
            "  \u001b[92m[OK]\u001b[0m x_wrappedActImpl_quant_1 | shape (1, 1, 28, 28)\n",
            "  \u001b[92m[OK]\u001b[0m x_wrappedActImpl_dequant | shape (1, 1, 28, 28)\n",
            "  \u001b[92m[OK]\u001b[0m x_act_quant_1 | shape (1, 1, 28, 28)\n",
            "  \u001b[92m[OK]\u001b[0m x_act_dequant | shape (1, 1, 28, 28)\n",
            "  \u001b[92m[OK]\u001b[0m ConvBnRelu1_conv1_layer_input_quant_1 | shape (1, 1, 28, 28)\n",
            "  \u001b[92m[OK]\u001b[0m ConvBnRelu1_conv1_layer_input_dequant | shape (1, 1, 28, 28)\n",
            "  \u001b[92m[OK]\u001b[0m ConvBnRelu1_conv1_layer_weight_quant_1 | shape (32, 1, 3, 3)\n",
            "  \u001b[92m[OK]\u001b[0m ConvBnRelu1_conv1_layer_weight_dequant | shape (32, 1, 3, 3)\n",
            "  \u001b[92m[OK]\u001b[0m ConvBnRelu1_conv1_layer_bias_quant_1 | shape (32,)\n",
            "  \u001b[92m[OK]\u001b[0m ConvBnRelu1_conv1_layer_bias_dequant | shape (32,)\n",
            "  \u001b[91m[DIFF]\u001b[0m ConvBnRelu1.conv1.layer.wrappedInnerForwardImpl → ConvBnRelu1_conv1_layer_unified_dequant | shape (1, 32, 28, 28)\n",
            "    Max diff: 0.00000036\n",
            "    Min diff: 0.00000000\n",
            "    Mean diff: 0.00000003\n",
            "    Total differing values: 16094 of 25088 (64.1502%)\n",
            "    Most common differences (up to 5):\n",
            "    · Δ=0.000000  (4438 values) e.g. idx 2: 0.293287 → 0.293287\n",
            "    · Δ=0.000000  (4257 values) e.g. idx 4: -0.738518 → -0.738518\n",
            "    · Δ=0.000000  (2450 values) e.g. idx 3: -0.204606 → -0.204606\n",
            "    · Δ=0.000000  (1102 values) e.g. idx 24: -0.626237 → -0.626237\n",
            "    · Δ=0.000000  (876 values) e.g. idx 6: 0.019666 → 0.019666\n",
            "  \u001b[92m[OK]\u001b[0m ConvBnRelu1_conv1_layer_output_quant_1 | shape (1, 32, 28, 28)\n",
            "  \u001b[92m[OK]\u001b[0m ConvBnRelu1_conv1_layer_output_dequant | shape (1, 32, 28, 28)\n",
            "  \u001b[92m[OK]\u001b[0m ConvBnRelu1_relu1_input_quant_1 | shape (1, 32, 28, 28)\n",
            "  \u001b[92m[OK]\u001b[0m ConvBnRelu1_relu1_input_dequant | shape (1, 32, 28, 28)\n",
            "  \u001b[92m[OK]\u001b[0m ConvBnRelu1.relu1.wrappedActImpl.actImpl | shape (1, 32, 28, 28)\n",
            "  \u001b[92m[OK]\u001b[0m ConvBnRelu1.relu1.wrappedActImpl | shape (1, 32, 28, 28)\n",
            "  \u001b[92m[OK]\u001b[0m ConvBnRelu1_relu1_act_quant_1 | shape (1, 32, 28, 28)\n",
            "  \u001b[92m[OK]\u001b[0m ConvBnRelu1_relu1_act_dequant | shape (1, 32, 28, 28)\n",
            "  \u001b[92m[OK]\u001b[0m ConvBnRelu2_conv1_layer_input_quant_1 | shape (1, 32, 28, 28)\n",
            "  \u001b[92m[OK]\u001b[0m ConvBnRelu2_conv1_layer_input_dequant | shape (1, 32, 28, 28)\n",
            "  \u001b[92m[OK]\u001b[0m ConvBnRelu2_conv1_layer_weight_quant_1 | shape (64, 32, 3, 3)\n",
            "  \u001b[92m[OK]\u001b[0m ConvBnRelu2_conv1_layer_weight_dequant | shape (64, 32, 3, 3)\n",
            "  \u001b[92m[OK]\u001b[0m ConvBnRelu2_conv1_layer_bias_quant_1 | shape (64,)\n",
            "  \u001b[92m[OK]\u001b[0m ConvBnRelu2_conv1_layer_bias_dequant | shape (64,)\n",
            "  \u001b[91m[DIFF]\u001b[0m ConvBnRelu2.conv1.layer.wrappedInnerForwardImpl → ConvBnRelu2_conv1_layer_unified_dequant | shape (1, 64, 28, 28)\n",
            "    Max diff: 0.00000066\n",
            "    Min diff: 0.00000000\n",
            "    Mean diff: 0.00000003\n",
            "    Total differing values: 43181 of 50176 (86.0591%)\n",
            "    Most common differences (up to 5):\n",
            "    · Δ=0.000000  (8618 values) e.g. idx 1: 0.117170 → 0.117170\n",
            "    · Δ=0.000000  (7483 values) e.g. idx 0: 0.131532 → 0.131532\n",
            "    · Δ=0.000000  (4271 values) e.g. idx 14: 0.289479 → 0.289479\n",
            "    · Δ=0.000000  (3488 values) e.g. idx 4: 0.108122 → 0.108122\n",
            "    · Δ=0.000000  (2616 values) e.g. idx 40: 0.189326 → 0.189326\n",
            "  \u001b[92m[OK]\u001b[0m ConvBnRelu2_conv1_layer_output_quant_1 | shape (1, 64, 28, 28)\n",
            "  \u001b[92m[OK]\u001b[0m ConvBnRelu2_conv1_layer_output_dequant | shape (1, 64, 28, 28)\n",
            "  \u001b[92m[OK]\u001b[0m ConvBnRelu2_relu1_input_quant_1 | shape (1, 64, 28, 28)\n",
            "  \u001b[92m[OK]\u001b[0m ConvBnRelu2_relu1_input_dequant | shape (1, 64, 28, 28)\n",
            "  \u001b[92m[OK]\u001b[0m ConvBnRelu2.relu1.wrappedActImpl.actImpl | shape (1, 64, 28, 28)\n",
            "  \u001b[92m[OK]\u001b[0m ConvBnRelu2.relu1.wrappedActImpl | shape (1, 64, 28, 28)\n",
            "  \u001b[92m[OK]\u001b[0m ConvBnRelu2_relu1_act_quant_1 | shape (1, 64, 28, 28)\n",
            "  \u001b[92m[OK]\u001b[0m ConvBnRelu2_relu1_act_dequant | shape (1, 64, 28, 28)\n",
            "  \u001b[92m[OK]\u001b[0m ConvBnRelu3_conv1_layer_input_quant_1 | shape (1, 64, 14, 14)\n",
            "  \u001b[92m[OK]\u001b[0m ConvBnRelu3_conv1_layer_input_dequant | shape (1, 64, 14, 14)\n",
            "  \u001b[92m[OK]\u001b[0m ConvBnRelu3_conv1_layer_weight_quant_1 | shape (128, 64, 3, 3)\n",
            "  \u001b[92m[OK]\u001b[0m ConvBnRelu3_conv1_layer_weight_dequant | shape (128, 64, 3, 3)\n",
            "  \u001b[92m[OK]\u001b[0m ConvBnRelu3_conv1_layer_bias_quant_1 | shape (128,)\n",
            "  \u001b[92m[OK]\u001b[0m ConvBnRelu3_conv1_layer_bias_dequant | shape (128,)\n",
            "  \u001b[91m[DIFF]\u001b[0m ConvBnRelu3.conv1.layer.wrappedInnerForwardImpl → ConvBnRelu3_conv1_layer_unified_dequant | shape (1, 128, 7, 7)\n",
            "    Max diff: 0.00000036\n",
            "    Min diff: 0.00000000\n",
            "    Mean diff: 0.00000003\n",
            "    Total differing values: 5599 of 6272 (89.2698%)\n",
            "    Most common differences (up to 5):\n",
            "    · Δ=0.000000  (926 values) e.g. idx 4: 0.084962 → 0.084962\n",
            "    · Δ=0.000000  (791 values) e.g. idx 7: 0.191111 → 0.191111\n",
            "    · Δ=0.000000  (517 values) e.g. idx 18: 0.069012 → 0.069012\n",
            "    · Δ=0.000000  (406 values) e.g. idx 62: 0.141399 → 0.141399\n",
            "    · Δ=0.000000  (346 values) e.g. idx 42: 0.074664 → 0.074664\n",
            "  \u001b[92m[OK]\u001b[0m ConvBnRelu3_conv1_layer_output_quant_1 | shape (1, 128, 7, 7)\n",
            "  \u001b[92m[OK]\u001b[0m ConvBnRelu3_conv1_layer_output_dequant | shape (1, 128, 7, 7)\n",
            "  \u001b[92m[OK]\u001b[0m ConvBnRelu3_relu1_input_quant_1 | shape (1, 128, 7, 7)\n",
            "  \u001b[92m[OK]\u001b[0m ConvBnRelu3_relu1_input_dequant | shape (1, 128, 7, 7)\n",
            "  \u001b[92m[OK]\u001b[0m ConvBnRelu3.relu1.wrappedActImpl.actImpl | shape (1, 128, 7, 7)\n",
            "  \u001b[92m[OK]\u001b[0m ConvBnRelu3.relu1.wrappedActImpl | shape (1, 128, 7, 7)\n",
            "  \u001b[92m[OK]\u001b[0m ConvBnRelu3_relu1_act_quant_1 | shape (1, 128, 7, 7)\n",
            "  \u001b[92m[OK]\u001b[0m ConvBnRelu3_relu1_act_dequant | shape (1, 128, 7, 7)\n",
            "  \u001b[92m[OK]\u001b[0m fc_layer_input_quant_1 | shape (1, 6272)\n",
            "  \u001b[92m[OK]\u001b[0m fc_layer_input_dequant | shape (1, 6272)\n",
            "  \u001b[92m[OK]\u001b[0m fc_layer_weight_quant_1 | shape (10, 6272)\n",
            "  \u001b[92m[OK]\u001b[0m fc_layer_weight_dequant | shape (10, 6272)\n",
            "  \u001b[92m[OK]\u001b[0m fc_layer_bias_quant_1 | shape (10,)\n",
            "  \u001b[92m[OK]\u001b[0m fc_layer_bias_dequant | shape (10,)\n",
            "  \u001b[91m[DIFF]\u001b[0m fc.layer.wrappedInnerForwardImpl → fc_layer_unified_dequant | shape (1, 10)\n",
            "    Max diff: 0.00000023\n",
            "    Min diff: 0.00000001\n",
            "    Mean diff: 0.00000007\n",
            "    Total differing values: 10 of 10 (100.0000%)\n",
            "    Most common differences (up to 5):\n",
            "    · Δ=0.000000  (1 values) e.g. idx 2: 0.091720 → 0.091720\n",
            "    · Δ=0.000000  (1 values) e.g. idx 6: 0.034808 → 0.034808\n",
            "    · Δ=0.000000  (1 values) e.g. idx 1: -0.016559 → -0.016559\n",
            "    · Δ=0.000000  (1 values) e.g. idx 3: 0.027126 → 0.027126\n",
            "    · Δ=0.000000  (1 values) e.g. idx 9: 0.012757 → 0.012757\n",
            "  \u001b[92m[OK]\u001b[0m fc_layer_output_quant_1 | shape (1, 10)\n",
            "  \u001b[92m[OK]\u001b[0m fc_layer_output_dequant | shape (1, 10)\n",
            "  \u001b[92m[OK]\u001b[0m fc_layer_output_input_quant_1 | shape (1, 10)\n",
            "  \u001b[92m[OK]\u001b[0m fc_layer_output_input_dequant | shape (1, 10)\n",
            "  \u001b[92m[OK]\u001b[0m fc_layer_output_wrappedActImpl_quant_1 | shape (1, 10)\n",
            "  \u001b[92m[OK]\u001b[0m fc_layer_output_wrappedActImpl_dequant | shape (1, 10)\n",
            "  \u001b[92m[OK]\u001b[0m fc_layer_output_act_quant_1 | shape (1, 10)\n",
            "  \u001b[92m[OK]\u001b[0m fc_layer_output_act_dequant | shape (1, 10)\n",
            "\n",
            "\u001b[92m ✓ Input data saved to DeepQuantTest/inputs.npz\u001b[0m\n",
            "\u001b[92m ✓ Output data saved to DeepQuantTest/outputs.npz\n",
            "\u001b[0m\n"
          ]
        }
      ],
      "source": [
        "#@title fake-to-true (F2T) function {form-width: \"30%\"}\n",
        "\n",
        "from DeepQuant.DeepQuant import brevitasToTrueQuant\n",
        "sampleInput = torch.randn(1, 1, 28, 28)\n",
        "tqnet = brevitasToTrueQuant(qnet, sampleInput, exportPath=\"./DeepQuantTest\", debug=True)"
      ]
    },
    {
      "cell_type": "markdown",
      "metadata": {
        "id": "e_N9pTa2QZEO"
      },
      "source": [
        "A sanity check: we compare the predictions of the fully-integerised program with the ground truth to verify that they are coherent.\n"
      ]
    },
    {
      "cell_type": "code",
      "execution_count": null,
      "metadata": {
        "id": "1ZJndcObL8lk"
      },
      "outputs": [
        {
          "name": "stdout",
          "output_type": "stream",
          "text": [
            "True Quantized: \t\tTrue: 0 - Predicted: 0\n",
            "FLOAT32:\tTrue: 0 - Predicted: 0\n",
            "\n"
          ]
        }
      ],
      "source": [
        "#@title Sanity check {form-width: \"30%\"}\n",
        "import random\n",
        "random_idx = random.randrange(0, len(val_loader.dataset))\n",
        "# pick random image from dataset\n",
        "x, y_gt_int = val_loader.dataset.__getitem__(random_idx)\n",
        "x = x.unsqueeze(0)\n",
        "net.to('cpu')\n",
        "# prediction original float32 network\n",
        "y_pr_float = net(x)\n",
        "y_pr_float_max = y_pr_float.argmax(axis=1)\n",
        "\n",
        "x, y_gt_int = val_loader.dataset.__getitem__(random_idx)\n",
        "x = x.unsqueeze(0)\n",
        "# prediction quantized network\n",
        "y_pr = tqnet(x)\n",
        "y_pr_int = y_pr.argmax(axis=1)\n",
        "\n",
        "print(\"True Quantized: \\t\\tTrue: {} - Predicted: {}\".format(int(y_gt_int), y_pr_int.item()))\n",
        "print(\"FLOAT32:\\tTrue: {} - Predicted: {}\\n\".format(int(y_gt_int), y_pr_float_max.item()))"
      ]
    },
    {
      "cell_type": "markdown",
      "metadata": {
        "id": "uBaXSI1ORP9m"
      },
      "source": [
        "let's verify that the accuracy didn't drop between FLOAT32 and TrueQuantized stages."
      ]
    },
    {
      "cell_type": "code",
      "execution_count": null,
      "metadata": {
        "colab": {
          "base_uri": "https://localhost:8080/"
        },
        "id": "B8EsFiJaC_sV",
        "outputId": "9e0f0b2e-24ef-450e-a823-7a3bf0116794"
      },
      "outputs": [
        {
          "name": "stdout",
          "output_type": "stream",
          "text": [
            "FLOAT32 Validation Accuracy: 0.9008\n"
          ]
        }
      ],
      "source": [
        "# Test the NON QUANTIZED network over validation dataset\n",
        "average_val_accuracy, average_val_loss = validate(net, val_loader, loss_function, accuracy_score)\n",
        "# Print valid statistics\n",
        "print('FLOAT32 Validation Accuracy: %.4f' % (average_val_accuracy))"
      ]
    },
    {
      "cell_type": "code",
      "execution_count": null,
      "metadata": {
        "colab": {
          "base_uri": "https://localhost:8080/",
          "height": 355
        },
        "id": "kfoqOql_tMG9",
        "outputId": "5a48e100-4287-45d1-db07-2a820000db30"
      },
      "outputs": [
        {
          "name": "stderr",
          "output_type": "stream",
          "text": [
            "100%|██████████| 79/79 [00:07<00:00, 10.64it/s]"
          ]
        },
        {
          "name": "stdout",
          "output_type": "stream",
          "text": [
            "INT Validation Accuracy: 0.9011\n"
          ]
        },
        {
          "name": "stderr",
          "output_type": "stream",
          "text": [
            "\n"
          ]
        }
      ],
      "source": [
        "# Test the QUANTIZED network over validation dataset\n",
        "average_val_accuracy, average_val_loss = validate(tqnet, val_loader, loss_function, accuracy_score)\n",
        "# Print valid statistics\n",
        "print('INT Validation Accuracy: %.4f' % (average_val_accuracy))"
      ]
    },
    {
      "cell_type": "markdown",
      "metadata": {
        "id": "FhVGRnf-tK1A"
      },
      "source": [
        "# **Task5:** Export to ONNX format"
      ]
    },
    {
      "cell_type": "markdown",
      "metadata": {
        "id": "Jy20LRkbZnfJ"
      },
      "source": [
        "\n",
        "The trained networks can be exported in [**ONNX (*Open Neural Network eXchange*)**)](https://github.com/onnx/onnx) format for  deployment tools. This format is recognized as the official format to export a deep neural network. This format stores all the necessary elements to reload a network:\n",
        "* topology: number of layers, how they are linked and their type;\n",
        "* layer structure: stride, filter dimension, channels, etc..\n",
        "* parameters: for each layer, all the weights and numeric parameters are stored.\n",
        "\n",
        "**How to use:** To see how the model looks like, the following cells will\n",
        "1) trigger a download to your local machine, and 2)  open a frame into Colab to a tool called [Netron](https://netron.app). This tool that can be used to visualize it: just drag the ONNX file and drop it on top of the Netron frame!\n",
        "\n",
        "\n",
        "**IMPORTANT:** now we are going to visualize two networks: 1. the original float32 network (so, the non-quantized one), and 2) the quantized one.\n"
      ]
    },
    {
      "cell_type": "markdown",
      "metadata": {
        "id": "mcgjjhcrFsJo"
      },
      "source": [
        "### **1. Export the original Float32 model (non-quantized!)**"
      ]
    },
    {
      "cell_type": "markdown",
      "metadata": {
        "id": "IeoBst26G7Yl"
      },
      "source": [
        "Export the ONNX file of the NON-quantized network.\n"
      ]
    },
    {
      "cell_type": "code",
      "execution_count": null,
      "metadata": {
        "id": "lR8g4vO1G5bv"
      },
      "outputs": [],
      "source": [
        "net.eval()\n",
        "torch.onnx.export(net, input, 'ExampleNet_Float32.onnx')"
      ]
    },
    {
      "cell_type": "markdown",
      "metadata": {
        "id": "IGUXEA90HCum"
      },
      "source": [
        "Open Netron and visualize the non-quantized network, named: `ExampleNet_Float32`, by loading it to Netron.\n",
        "That is, accept cookies, and \"open model\" by dragging and dropping the file you downloaded."
      ]
    },
    {
      "cell_type": "code",
      "execution_count": null,
      "metadata": {
        "cellView": "form",
        "id": "ZHwK-GE-5ODZ"
      },
      "outputs": [
        {
          "data": {
            "text/html": [
              "\n",
              "        <iframe\n",
              "            width=\"800\"\n",
              "            height=\"600\"\n",
              "            src=\"https://netron.app/\"\n",
              "            frameborder=\"0\"\n",
              "            allowfullscreen\n",
              "            \n",
              "        ></iframe>\n",
              "        "
            ],
            "text/plain": [
              "<IPython.lib.display.IFrame at 0xffff0ffad250>"
            ]
          },
          "execution_count": 24,
          "metadata": {},
          "output_type": "execute_result"
        }
      ],
      "source": [
        "#@title Open Netron {form-width: \"30%\"}\n",
        "import urllib\n",
        "from IPython.display import IFrame\n",
        "url = urllib.parse.quote(\"https://netron.app/\", safe=':/?=&')\n",
        "IFrame(url, width=800, height=600)"
      ]
    },
    {
      "cell_type": "markdown",
      "metadata": {
        "id": "-sfqtbK-QoD2"
      },
      "source": [
        "---\n",
        "**ASSIGNMENT TASK:**\n",
        "\n",
        "Use Netron to analyze the ONNX file of the original NON QUANTIZED network and answer the following question:\n",
        "\n",
        "* What's the data format of the convolutional layers' weights?\n",
        "* Is the decial part of the convolutional weights !=0 ?  Paste here the value of a single weight as an example.\n",
        "* What's the kernel size of all the convolutions?\n",
        "\n",
        "---"
      ]
    },
    {
      "cell_type": "markdown",
      "metadata": {
        "id": "MgiJrrRvJO3n"
      },
      "source": [
        "### **2. Study the Quantized model**"
      ]
    },
    {
      "cell_type": "markdown",
      "metadata": {
        "id": "OySdhBTNFHt4"
      },
      "source": [
        "Open Netron and visualize the quantized network, named: `DeepQuantTest/network.onnx`\n"
      ]
    },
    {
      "cell_type": "code",
      "execution_count": null,
      "metadata": {
        "cellView": "form",
        "id": "LwmDHTYsPfgS"
      },
      "outputs": [
        {
          "data": {
            "text/html": [
              "\n",
              "        <iframe\n",
              "            width=\"800\"\n",
              "            height=\"600\"\n",
              "            src=\"https://netron.app/\"\n",
              "            frameborder=\"0\"\n",
              "            allowfullscreen\n",
              "            \n",
              "        ></iframe>\n",
              "        "
            ],
            "text/plain": [
              "<IPython.lib.display.IFrame at 0xffff9ade5d50>"
            ]
          },
          "execution_count": 51,
          "metadata": {},
          "output_type": "execute_result"
        }
      ],
      "source": [
        "#@title Open Netron {form-width: \"30%\"}\n",
        "\n",
        "import urllib\n",
        "from IPython.display import IFrame\n",
        "url = urllib.parse.quote(\"https://netron.app/\", safe=':/?=&')\n",
        "IFrame(url, width=800, height=600) # you can resize the Netron frame size here!"
      ]
    },
    {
      "cell_type": "markdown",
      "metadata": {
        "id": "V7lpOX7UQqYQ"
      },
      "source": [
        "---\n",
        "**ASSIGNMENT TASK:**\n",
        "\n",
        "Use Netron to analyze the ONNX file of the QUANTIZED network and answer the following question:\n",
        "\n",
        "* What's the size of the input image?\n",
        "* What's the data format of all the convolutional weights?\n",
        "* Is the decimal part of the convolutional weights !=0 ? . Paste here the value of a single weight as an example.\n",
        "* What's the quantization bitwidth of the `ConvBnRelu1` convolutional weights? (hint: look at their min/max!)\n",
        "* What's the quantization bitwidth of the `ConvBnRelu2` convolutional weights?\n",
        "* What's the kernel size of all the convolutions?\n",
        "\n",
        "---"
      ]
    },
    {
      "cell_type": "markdown",
      "metadata": {},
      "source": []
    }
  ],
  "metadata": {
    "colab": {
      "collapsed_sections": [
        "tz_Xa_FP8Zri",
        "xJZ-6C82-Nq3"
      ],
      "provenance": []
    },
    "kernelspec": {
      "display_name": "Python 3",
      "language": "python",
      "name": "python3"
    },
    "language_info": {
      "codemirror_mode": {
        "name": "ipython",
        "version": 3
      },
      "file_extension": ".py",
      "mimetype": "text/x-python",
      "name": "python",
      "nbconvert_exporter": "python",
      "pygments_lexer": "ipython3",
      "version": "3.10.12"
    }
  },
  "nbformat": 4,
  "nbformat_minor": 0
}
